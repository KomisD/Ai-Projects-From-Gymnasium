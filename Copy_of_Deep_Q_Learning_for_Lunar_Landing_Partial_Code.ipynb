{
  "cells": [
    {
      "cell_type": "markdown",
      "metadata": {
        "id": "view-in-github",
        "colab_type": "text"
      },
      "source": [
        "<a href=\"https://colab.research.google.com/github/KomisD/Ai-Projects-From-Gymnasium/blob/main/Copy_of_Deep_Q_Learning_for_Lunar_Landing_Partial_Code.ipynb\" target=\"_parent\"><img src=\"https://colab.research.google.com/assets/colab-badge.svg\" alt=\"Open In Colab\"/></a>"
      ]
    },
    {
      "cell_type": "markdown",
      "metadata": {
        "id": "LbZcI9ZXHl3a"
      },
      "source": [
        "# Deep Q-Learning for Lunar Landing"
      ]
    },
    {
      "cell_type": "markdown",
      "metadata": {
        "id": "E8yPRjteXgPb"
      },
      "source": [
        "## Part 0 - Installing the required packages and importing the libraries"
      ]
    },
    {
      "cell_type": "markdown",
      "metadata": {
        "id": "slEm5teGWjWU"
      },
      "source": [
        "### Installing Gymnasium"
      ]
    },
    {
      "cell_type": "code",
      "execution_count": null,
      "metadata": {
        "id": "dbnq3XpoKa_7",
        "colab": {
          "base_uri": "https://localhost:8080/"
        },
        "outputId": "6d7d9454-749b-45b0-8b04-d935755da14b"
      },
      "outputs": [
        {
          "output_type": "stream",
          "name": "stdout",
          "text": [
            "Collecting gymnasium\n",
            "  Downloading gymnasium-0.29.1-py3-none-any.whl (953 kB)\n",
            "\u001b[?25l     \u001b[90m━━━━━━━━━━━━━━━━━━━━━━━━━━━━━━━━━━━━━━━━\u001b[0m \u001b[32m0.0/953.9 kB\u001b[0m \u001b[31m?\u001b[0m eta \u001b[36m-:--:--\u001b[0m\r\u001b[2K     \u001b[91m━━━━━\u001b[0m\u001b[90m╺\u001b[0m\u001b[90m━━━━━━━━━━━━━━━━━━━━━━━━━━━━━━━━━━\u001b[0m \u001b[32m122.9/953.9 kB\u001b[0m \u001b[31m3.5 MB/s\u001b[0m eta \u001b[36m0:00:01\u001b[0m\r\u001b[2K     \u001b[91m━━━━━━━━━━━━━━━━━━━━━━━━━━━━━━━━━━━━━━━\u001b[0m\u001b[91m╸\u001b[0m \u001b[32m952.3/953.9 kB\u001b[0m \u001b[31m14.5 MB/s\u001b[0m eta \u001b[36m0:00:01\u001b[0m\r\u001b[2K     \u001b[90m━━━━━━━━━━━━━━━━━━━━━━━━━━━━━━━━━━━━━━━━\u001b[0m \u001b[32m953.9/953.9 kB\u001b[0m \u001b[31m12.0 MB/s\u001b[0m eta \u001b[36m0:00:00\u001b[0m\n",
            "\u001b[?25hRequirement already satisfied: numpy>=1.21.0 in /usr/local/lib/python3.10/dist-packages (from gymnasium) (1.23.5)\n",
            "Requirement already satisfied: cloudpickle>=1.2.0 in /usr/local/lib/python3.10/dist-packages (from gymnasium) (2.2.1)\n",
            "Requirement already satisfied: typing-extensions>=4.3.0 in /usr/local/lib/python3.10/dist-packages (from gymnasium) (4.5.0)\n",
            "Collecting farama-notifications>=0.0.1 (from gymnasium)\n",
            "  Downloading Farama_Notifications-0.0.4-py3-none-any.whl (2.5 kB)\n",
            "Installing collected packages: farama-notifications, gymnasium\n",
            "Successfully installed farama-notifications-0.0.4 gymnasium-0.29.1\n",
            "Requirement already satisfied: gymnasium[accept-rom-license,atari] in /usr/local/lib/python3.10/dist-packages (0.29.1)\n",
            "Requirement already satisfied: numpy>=1.21.0 in /usr/local/lib/python3.10/dist-packages (from gymnasium[accept-rom-license,atari]) (1.23.5)\n",
            "Requirement already satisfied: cloudpickle>=1.2.0 in /usr/local/lib/python3.10/dist-packages (from gymnasium[accept-rom-license,atari]) (2.2.1)\n",
            "Requirement already satisfied: typing-extensions>=4.3.0 in /usr/local/lib/python3.10/dist-packages (from gymnasium[accept-rom-license,atari]) (4.5.0)\n",
            "Requirement already satisfied: farama-notifications>=0.0.1 in /usr/local/lib/python3.10/dist-packages (from gymnasium[accept-rom-license,atari]) (0.0.4)\n",
            "Collecting autorom[accept-rom-license]~=0.4.2 (from gymnasium[accept-rom-license,atari])\n",
            "  Downloading AutoROM-0.4.2-py3-none-any.whl (16 kB)\n",
            "Collecting shimmy[atari]<1.0,>=0.1.0 (from gymnasium[accept-rom-license,atari])\n",
            "  Downloading Shimmy-0.2.1-py3-none-any.whl (25 kB)\n",
            "Requirement already satisfied: click in /usr/local/lib/python3.10/dist-packages (from autorom[accept-rom-license]~=0.4.2->gymnasium[accept-rom-license,atari]) (8.1.7)\n",
            "Requirement already satisfied: requests in /usr/local/lib/python3.10/dist-packages (from autorom[accept-rom-license]~=0.4.2->gymnasium[accept-rom-license,atari]) (2.31.0)\n",
            "Requirement already satisfied: tqdm in /usr/local/lib/python3.10/dist-packages (from autorom[accept-rom-license]~=0.4.2->gymnasium[accept-rom-license,atari]) (4.66.1)\n",
            "Collecting AutoROM.accept-rom-license (from autorom[accept-rom-license]~=0.4.2->gymnasium[accept-rom-license,atari])\n",
            "  Downloading AutoROM.accept-rom-license-0.6.1.tar.gz (434 kB)\n",
            "\u001b[2K     \u001b[90m━━━━━━━━━━━━━━━━━━━━━━━━━━━━━━━━━━━━━━━━\u001b[0m \u001b[32m434.7/434.7 kB\u001b[0m \u001b[31m11.5 MB/s\u001b[0m eta \u001b[36m0:00:00\u001b[0m\n",
            "\u001b[?25h  Installing build dependencies ... \u001b[?25l\u001b[?25hdone\n",
            "  Getting requirements to build wheel ... \u001b[?25l\u001b[?25hdone\n",
            "  Preparing metadata (pyproject.toml) ... \u001b[?25l\u001b[?25hdone\n",
            "Collecting ale-py~=0.8.1 (from shimmy[atari]<1.0,>=0.1.0->gymnasium[accept-rom-license,atari])\n",
            "  Downloading ale_py-0.8.1-cp310-cp310-manylinux_2_17_x86_64.manylinux2014_x86_64.whl (1.7 MB)\n",
            "\u001b[2K     \u001b[90m━━━━━━━━━━━━━━━━━━━━━━━━━━━━━━━━━━━━━━━━\u001b[0m \u001b[32m1.7/1.7 MB\u001b[0m \u001b[31m43.5 MB/s\u001b[0m eta \u001b[36m0:00:00\u001b[0m\n",
            "\u001b[?25hRequirement already satisfied: importlib-resources in /usr/local/lib/python3.10/dist-packages (from ale-py~=0.8.1->shimmy[atari]<1.0,>=0.1.0->gymnasium[accept-rom-license,atari]) (6.1.1)\n",
            "Requirement already satisfied: charset-normalizer<4,>=2 in /usr/local/lib/python3.10/dist-packages (from requests->autorom[accept-rom-license]~=0.4.2->gymnasium[accept-rom-license,atari]) (3.3.2)\n",
            "Requirement already satisfied: idna<4,>=2.5 in /usr/local/lib/python3.10/dist-packages (from requests->autorom[accept-rom-license]~=0.4.2->gymnasium[accept-rom-license,atari]) (3.6)\n",
            "Requirement already satisfied: urllib3<3,>=1.21.1 in /usr/local/lib/python3.10/dist-packages (from requests->autorom[accept-rom-license]~=0.4.2->gymnasium[accept-rom-license,atari]) (2.0.7)\n",
            "Requirement already satisfied: certifi>=2017.4.17 in /usr/local/lib/python3.10/dist-packages (from requests->autorom[accept-rom-license]~=0.4.2->gymnasium[accept-rom-license,atari]) (2023.11.17)\n",
            "Building wheels for collected packages: AutoROM.accept-rom-license\n",
            "  Building wheel for AutoROM.accept-rom-license (pyproject.toml) ... \u001b[?25l\u001b[?25hdone\n",
            "  Created wheel for AutoROM.accept-rom-license: filename=AutoROM.accept_rom_license-0.6.1-py3-none-any.whl size=446660 sha256=f2083c19999e2845d09bb1991a913a5f9ad159b926d80aab44c3e9be16f10933\n",
            "  Stored in directory: /root/.cache/pip/wheels/6b/1b/ef/a43ff1a2f1736d5711faa1ba4c1f61be1131b8899e6a057811\n",
            "Successfully built AutoROM.accept-rom-license\n",
            "Installing collected packages: ale-py, shimmy, AutoROM.accept-rom-license, autorom\n",
            "Successfully installed AutoROM.accept-rom-license-0.6.1 ale-py-0.8.1 autorom-0.4.2 shimmy-0.2.1\n",
            "Reading package lists... Done\n",
            "Building dependency tree... Done\n",
            "Reading state information... Done\n",
            "The following additional packages will be installed:\n",
            "  swig4.0\n",
            "Suggested packages:\n",
            "  swig-doc swig-examples swig4.0-examples swig4.0-doc\n",
            "The following NEW packages will be installed:\n",
            "  swig swig4.0\n",
            "0 upgraded, 2 newly installed, 0 to remove and 23 not upgraded.\n",
            "Need to get 1,116 kB of archives.\n",
            "After this operation, 5,542 kB of additional disk space will be used.\n",
            "Get:1 http://archive.ubuntu.com/ubuntu jammy/universe amd64 swig4.0 amd64 4.0.2-1ubuntu1 [1,110 kB]\n",
            "Get:2 http://archive.ubuntu.com/ubuntu jammy/universe amd64 swig all 4.0.2-1ubuntu1 [5,632 B]\n",
            "Fetched 1,116 kB in 0s (3,434 kB/s)\n",
            "Selecting previously unselected package swig4.0.\n",
            "(Reading database ... 120903 files and directories currently installed.)\n",
            "Preparing to unpack .../swig4.0_4.0.2-1ubuntu1_amd64.deb ...\n",
            "Unpacking swig4.0 (4.0.2-1ubuntu1) ...\n",
            "Selecting previously unselected package swig.\n",
            "Preparing to unpack .../swig_4.0.2-1ubuntu1_all.deb ...\n",
            "Unpacking swig (4.0.2-1ubuntu1) ...\n",
            "Setting up swig4.0 (4.0.2-1ubuntu1) ...\n",
            "Setting up swig (4.0.2-1ubuntu1) ...\n",
            "Processing triggers for man-db (2.10.2-1) ...\n",
            "Requirement already satisfied: gymnasium[box2d] in /usr/local/lib/python3.10/dist-packages (0.29.1)\n",
            "Requirement already satisfied: numpy>=1.21.0 in /usr/local/lib/python3.10/dist-packages (from gymnasium[box2d]) (1.23.5)\n",
            "Requirement already satisfied: cloudpickle>=1.2.0 in /usr/local/lib/python3.10/dist-packages (from gymnasium[box2d]) (2.2.1)\n",
            "Requirement already satisfied: typing-extensions>=4.3.0 in /usr/local/lib/python3.10/dist-packages (from gymnasium[box2d]) (4.5.0)\n",
            "Requirement already satisfied: farama-notifications>=0.0.1 in /usr/local/lib/python3.10/dist-packages (from gymnasium[box2d]) (0.0.4)\n",
            "Collecting box2d-py==2.3.5 (from gymnasium[box2d])\n",
            "  Downloading box2d-py-2.3.5.tar.gz (374 kB)\n",
            "\u001b[2K     \u001b[90m━━━━━━━━━━━━━━━━━━━━━━━━━━━━━━━━━━━━━━━━\u001b[0m \u001b[32m374.4/374.4 kB\u001b[0m \u001b[31m6.5 MB/s\u001b[0m eta \u001b[36m0:00:00\u001b[0m\n",
            "\u001b[?25h  Preparing metadata (setup.py) ... \u001b[?25l\u001b[?25hdone\n",
            "Requirement already satisfied: pygame>=2.1.3 in /usr/local/lib/python3.10/dist-packages (from gymnasium[box2d]) (2.5.2)\n",
            "Collecting swig==4.* (from gymnasium[box2d])\n",
            "  Downloading swig-4.1.1.post1-py2.py3-none-manylinux_2_5_x86_64.manylinux1_x86_64.whl (1.8 MB)\n",
            "\u001b[2K     \u001b[90m━━━━━━━━━━━━━━━━━━━━━━━━━━━━━━━━━━━━━━━━\u001b[0m \u001b[32m1.8/1.8 MB\u001b[0m \u001b[31m49.5 MB/s\u001b[0m eta \u001b[36m0:00:00\u001b[0m\n",
            "\u001b[?25hBuilding wheels for collected packages: box2d-py\n",
            "  Building wheel for box2d-py (setup.py) ... \u001b[?25l\u001b[?25hdone\n",
            "  Created wheel for box2d-py: filename=box2d_py-2.3.5-cp310-cp310-linux_x86_64.whl size=2349114 sha256=8868b2ca479b3279035fccf4b7da5f3249dad6c4618f9ddbd49ab8b55dee3d19\n",
            "  Stored in directory: /root/.cache/pip/wheels/db/8f/6a/eaaadf056fba10a98d986f6dce954e6201ba3126926fc5ad9e\n",
            "Successfully built box2d-py\n",
            "Installing collected packages: swig, box2d-py\n",
            "Successfully installed box2d-py-2.3.5 swig-4.1.1.post1\n"
          ]
        }
      ],
      "source": [
        "!pip install gymnasium\n",
        "!pip install \"gymnasium[atari, accept-rom-license]\"\n",
        "!apt-get install -y swig\n",
        "!pip install gymnasium[box2d]"
      ]
    },
    {
      "cell_type": "markdown",
      "metadata": {
        "id": "brqiMN3UW9T9"
      },
      "source": [
        "### Importing the libraries"
      ]
    },
    {
      "cell_type": "code",
      "execution_count": null,
      "metadata": {
        "id": "mZaKXP_aMl9O"
      },
      "outputs": [],
      "source": [
        "import os\n",
        "import random\n",
        "import numpy as np\n",
        "import torch\n",
        "import torch.nn as nn\n",
        "import torch.optim as optim\n",
        "import torch.nn.functional as F\n",
        "import torch.autograd as autograd\n",
        "from torch.autograd import Variable\n",
        "from collections import deque, namedtuple"
      ]
    },
    {
      "cell_type": "markdown",
      "metadata": {
        "id": "EzlDKXvkXzGI"
      },
      "source": [
        "## Part 1 - Building the AI"
      ]
    },
    {
      "cell_type": "markdown",
      "metadata": {
        "id": "UtG6Zc83YYy3"
      },
      "source": [
        "### Creating the architecture of the Neural Network"
      ]
    },
    {
      "cell_type": "code",
      "source": [
        "class Network(nn.Module):\n",
        "  def __init__(self, state_size, action_size, seed = 42) :\n",
        "      super(Network, self).__init__()\n",
        "      self.seed = torch.manual_seed(seed)\n",
        "      self.fc1 = nn.Linear(state_size, 64)\n",
        "      self.fc2 = nn.Linear(64, 64)\n",
        "      self.fc3 = nn.Linear(64, action_size)\n",
        "\n",
        "  def forward(self, state):\n",
        "    x = self.fc1(state)\n",
        "    x = F.relu(x)\n",
        "    x = self.fc2(x)\n",
        "    x = F.relu(x)\n",
        "    return self.fc3(x)"
      ],
      "metadata": {
        "id": "BB6zWbR1HI3_"
      },
      "execution_count": null,
      "outputs": []
    },
    {
      "cell_type": "markdown",
      "metadata": {
        "id": "UxVrBnFWZKb1"
      },
      "source": [
        "## Part 2 - Training the AI"
      ]
    },
    {
      "cell_type": "markdown",
      "metadata": {
        "id": "T364fz9qZb2j"
      },
      "source": [
        "### Setting up the environment"
      ]
    },
    {
      "cell_type": "code",
      "source": [
        "import gymnasium as gym\n",
        "env = gym.make(\"LunarLander-v2\")\n",
        "state_shape = env.observation_space.shape\n",
        "state_size = env.observation_space.shape[0]\n",
        "number_actions = env.action_space.n\n",
        "print('state shape: ', state_shape)\n",
        "print('state size: ', state_size)\n",
        "print('number of actions: ', number_actions)"
      ],
      "metadata": {
        "colab": {
          "base_uri": "https://localhost:8080/"
        },
        "id": "J2WFaqAPObCB",
        "outputId": "5f325cf0-d43f-4395-9685-ea1ed41aeed5"
      },
      "execution_count": null,
      "outputs": [
        {
          "output_type": "stream",
          "name": "stdout",
          "text": [
            "state shape:  (8,)\n",
            "state size:  8\n",
            "number of actions:  4\n"
          ]
        }
      ]
    },
    {
      "cell_type": "markdown",
      "metadata": {
        "id": "c_dZmOIvZgj-"
      },
      "source": [
        "### Initializing the hyperparameters"
      ]
    },
    {
      "cell_type": "code",
      "source": [
        "learning_rate = 5e-4\n",
        "minibatch_size = 100\n",
        "discount_factor = 0.99\n",
        "replay_buffer_size = int(1e5)\n",
        "interpolation_parameter = 1e-3"
      ],
      "metadata": {
        "id": "W6oDDjlFPX-4"
      },
      "execution_count": null,
      "outputs": []
    },
    {
      "cell_type": "markdown",
      "metadata": {
        "id": "8hD_Vs-bYnip"
      },
      "source": [
        "### Implementing Experience Replay"
      ]
    },
    {
      "cell_type": "code",
      "source": [
        "class ReplayMemory(object):\n",
        "\n",
        "  def __init__(self, capacity):\n",
        "    self.device = torch.device(\"cuda:0\" if torch.cuda.is_available() else \"cpu\")\n",
        "    self.capacity = capacity\n",
        "    self.memory = []\n",
        "\n",
        "  def push(self, event):\n",
        "    self.memory.append(event)\n",
        "    if len(self.memory) > self.capacity:\n",
        "      del self.memory[0]\n",
        "\n",
        "  def sample(self, batch_size):\n",
        "    experiences = random.sample(self.memory, k = batch_size)\n",
        "    states = torch.from_numpy(np.vstack([e[0] for e in experiences if e is not None])).float().to(self.device)\n",
        "    actions = torch.from_numpy(np.vstack([e[1] for e in experiences if e is not None])).long().to(self.device)\n",
        "    rewards = torch.from_numpy(np.vstack([e[2] for e in experiences if e is not None])).float().to(self.device)\n",
        "    next_states = torch.from_numpy(np.vstack([e[3] for e in experiences if e is not None])).float().to(self.device)\n",
        "    dones = torch.from_numpy(np.vstack([e[4] for e in experiences if e is not None]).astype(np.uint8)).float().to(self.device)\n",
        "    return states, next_states, actions, rewards, dones"
      ],
      "metadata": {
        "id": "bDnoblrQQtLd"
      },
      "execution_count": null,
      "outputs": []
    },
    {
      "cell_type": "markdown",
      "metadata": {
        "id": "JmEkbFbUY6Jt"
      },
      "source": [
        "### Implementing the DQN class"
      ]
    },
    {
      "cell_type": "code",
      "source": [
        "class Agent():\n",
        "\n",
        "  def __init__(self, state_size, action_size):\n",
        "    self.device = torch.device(\"cuda:0\" if torch.cuda.is_available() else \"cpu\")\n",
        "    self.state_size = state_size\n",
        "    self.action_size = action_size\n",
        "    self.local_qnetwork = Network(state_size, action_size).to(self.device)\n",
        "    self.target_qnetwork = Network(state_size, action_size).to(self.device)\n",
        "    self.optimizer = optim.Adam(self.local_qnetwork.parameters(), lr = learning_rate)\n",
        "    self.memory = ReplayMemory(replay_buffer_size)\n",
        "    self.t_step = 0\n",
        "\n",
        "  def step(self, state, action, reward, next_state, done):\n",
        "    self.memory.push((state, action, reward, next_state, done))\n",
        "    self.t_step = (self.t_step + 1) % 4\n",
        "    if self.t_step == 0:\n",
        "      if len(self.memory.memory) > minibatch_size:\n",
        "        experiences = self.memory.sample(100)\n",
        "        self.learn(experiences, discount_factor)\n",
        "\n",
        "  def act(self, state, epsilon = 0.):\n",
        "    state = torch.from_numpy(state).float().unsqueeze(0).to(self.device)\n",
        "    self.local_qnetwork.eval()\n",
        "    with torch.no_grad():\n",
        "      action_values = self.local_qnetwork(state)\n",
        "    self.local_qnetwork.train()\n",
        "    if random.random() > epsilon:\n",
        "      return np.argmax(action_values.cpu().data.numpy())\n",
        "    else:\n",
        "      return random.choice(np.arange(self.action_size))\n",
        "\n",
        "  def learn(self, experiences, discount_factor):\n",
        "    states, next_states, actions, rewards, dones = experiences\n",
        "    next_q_targets = self.target_qnetwork(next_states).detach().max(1)[0].unsqueeze(1)\n",
        "    q_targets = rewards + discount_factor * next_q_targets * (1 - dones)\n",
        "    q_expected = self.local_qnetwork(states).gather(1, actions)\n",
        "    loss = F.mse_loss(q_expected, q_targets)\n",
        "    self.optimizer.zero_grad()\n",
        "    loss.backward()\n",
        "    self.optimizer.step()\n",
        "    self.soft_update(self.local_qnetwork, self.target_qnetwork, interpolation_parameter)\n",
        "\n",
        "  def soft_update(self, local_model, target_model, interpolation_parameter):\n",
        "    for target_param, local_param in zip(target_model.parameters(), local_model.parameters()):\n",
        "      target_param.data.copy_(interpolation_parameter * local_param.data + (1.0 - interpolation_parameter) * target_param.data)"
      ],
      "metadata": {
        "id": "JCHSbsQlXIaz"
      },
      "execution_count": null,
      "outputs": []
    },
    {
      "cell_type": "markdown",
      "metadata": {
        "id": "o1tZElccZmf6"
      },
      "source": [
        "### Initializing the DQN agent"
      ]
    },
    {
      "cell_type": "code",
      "source": [
        "agent = Agent(state_size, number_actions)"
      ],
      "metadata": {
        "id": "ssQ_dlTXbUZy"
      },
      "execution_count": null,
      "outputs": []
    },
    {
      "cell_type": "markdown",
      "metadata": {
        "id": "E8v0PtUfaVQp"
      },
      "source": [
        "### Training the DQN agent"
      ]
    },
    {
      "cell_type": "code",
      "source": [
        "number_episodes = 2000\n",
        "maximum_number_timesteps_per_episode = 1000\n",
        "epsilon_starting_value  = 1.0\n",
        "epsilon_ending_value  = 0.01\n",
        "epsilon_decay_value  = 0.995\n",
        "epsilon = epsilon_starting_value\n",
        "scores_on_100_episodes = deque(maxlen = 100)\n",
        "\n",
        "for episode in range(1, number_episodes + 1):\n",
        "  state, _ = env.reset()\n",
        "  score = 0\n",
        "  for t in range(maximum_number_timesteps_per_episode):\n",
        "    action = agent.act(state, epsilon)\n",
        "    next_state, reward, done, _, _ = env.step(action)\n",
        "    agent.step(state, action, reward, next_state, done)\n",
        "    state = next_state\n",
        "    score += reward\n",
        "    if done:\n",
        "      break\n",
        "  scores_on_100_episodes.append(score)\n",
        "  epsilon = max(epsilon_ending_value, epsilon_decay_value * epsilon)\n",
        "  print('\\rEpisode {}\\tAverage Score: {:.2f}'.format(episode, np.mean(scores_on_100_episodes)), end = \"\")\n",
        "  if episode % 100 == 0:\n",
        "    print('\\rEpisode {}\\tAverage Score: {:.2f}'.format(episode, np.mean(scores_on_100_episodes)))\n",
        "  if np.mean(scores_on_100_episodes) >= 200.0:\n",
        "    print('\\nEnvironment solved in {:d} episodes!\\tAverage Score: {:.2f}'.format(episode - 100, np.mean(scores_on_100_episodes)))\n",
        "    torch.save(agent.local_qnetwork.state_dict(), 'checkpoint.pth')\n",
        "    break"
      ],
      "metadata": {
        "colab": {
          "base_uri": "https://localhost:8080/"
        },
        "id": "tfCd9i7sc6IO",
        "outputId": "da5111c1-7ddf-4ea3-a596-fde98fcce153"
      },
      "execution_count": null,
      "outputs": [
        {
          "output_type": "stream",
          "name": "stdout",
          "text": [
            "Episode 100\tAverage Score: -106.84\n"
          ]
        }
      ]
    },
    {
      "cell_type": "markdown",
      "metadata": {
        "id": "O8CNwdOTcCoP"
      },
      "source": [
        "## Part 3 - Visualizing the results"
      ]
    },
    {
      "cell_type": "code",
      "execution_count": null,
      "metadata": {
        "id": "cb9nVvU2Okhk",
        "colab": {
          "base_uri": "https://localhost:8080/",
          "height": 459
        },
        "outputId": "7efa3179-d17d-4ff7-c502-2908dea0e58a"
      },
      "outputs": [
        {
          "output_type": "stream",
          "name": "stderr",
          "text": [
            "WARNING:imageio_ffmpeg:IMAGEIO FFMPEG_WRITER WARNING: input image is not divisible by macro_block_size=16, resizing from (600, 400) to (608, 400) to ensure video compatibility with most codecs and players. To prevent resizing, make your input image divisible by the macro_block_size or set the macro_block_size to 1 (risking incompatibility).\n"
          ]
        },
        {
          "output_type": "display_data",
          "data": {
            "text/plain": [
              "<IPython.core.display.HTML object>"
            ],
            "text/html": [
              "<video alt=\"test\" autoplay\n",
              "                loop controls style=\"height: 400px;\">\n",
              "                <source src=\"data:video/mp4;base64,AAAAIGZ0eXBpc29tAAACAGlzb21pc28yYXZjMW1wNDEAAAAIZnJlZQAA5R1tZGF0AAACrgYF//+q3EXpvebZSLeWLNgg2SPu73gyNjQgLSBjb3JlIDE1OSByMjk5MSAxNzcxYjU1IC0gSC4yNjQvTVBFRy00IEFWQyBjb2RlYyAtIENvcHlsZWZ0IDIwMDMtMjAxOSAtIGh0dHA6Ly93d3cudmlkZW9sYW4ub3JnL3gyNjQuaHRtbCAtIG9wdGlvbnM6IGNhYmFjPTEgcmVmPTMgZGVibG9jaz0xOjA6MCBhbmFseXNlPTB4MzoweDExMyBtZT1oZXggc3VibWU9NyBwc3k9MSBwc3lfcmQ9MS4wMDowLjAwIG1peGVkX3JlZj0xIG1lX3JhbmdlPTE2IGNocm9tYV9tZT0xIHRyZWxsaXM9MSA4eDhkY3Q9MSBjcW09MCBkZWFkem9uZT0yMSwxMSBmYXN0X3Bza2lwPTEgY2hyb21hX3FwX29mZnNldD0tMiB0aHJlYWRzPTMgbG9va2FoZWFkX3RocmVhZHM9MSBzbGljZWRfdGhyZWFkcz0wIG5yPTAgZGVjaW1hdGU9MSBpbnRlcmxhY2VkPTAgYmx1cmF5X2NvbXBhdD0wIGNvbnN0cmFpbmVkX2ludHJhPTAgYmZyYW1lcz0zIGJfcHlyYW1pZD0yIGJfYWRhcHQ9MSBiX2JpYXM9MCBkaXJlY3Q9MSB3ZWlnaHRiPTEgb3Blbl9nb3A9MCB3ZWlnaHRwPTIga2V5aW50PTI1MCBrZXlpbnRfbWluPTI1IHNjZW5lY3V0PTQwIGludHJhX3JlZnJlc2g9MCByY19sb29rYWhlYWQ9NDAgcmM9Y3JmIG1idHJlZT0xIGNyZj0yMy4wIHFjb21wPTAuNjAgcXBtaW49MCBxcG1heD02OSBxcHN0ZXA9NCBpcF9yYXRpbz0xLjQwIGFxPTE6MS4wMACAAAAHzGWIhAA3//728P4FNlYEUJcRzeidMx+/Fbi6NDe94v5x4InZbAsaXI0v2CJuFDYh0J+HLAJZ8mylscJcbYTPyQbYUk1p1vG9VJLy9o2uWVXeaZN/ImEVt3wWWI6Pvr913Z95eIdUdIlDxXmAmb7A0VdMUx4OnluZnFxVwEk3gfFJZDZk4e6Ks+zjb2d5PuKPs8EX+OS+8jvFJW1QeIh035r5WT7xNCX1Fix8pZMX57XmIZR0NqU2O6WdHEXC72i04tZEWqPq63b70iTsqfuEa2UU65bCbAxXOkVaUOmt1tNkQI4ktFSfRlAmiOOzdJ/22yatNZ3+Kkmc9UIAAAMAAAMBsG7VPM2On0f2H/2ANkgrTU1xN2AAA3oRNCBAi4dIdQhAsRCB7EOISVgtgLmcpgLapcQA+3svkT4Hcem4v3i0yC6xMSs0xfpB1+z1RI5wO2ZzbM195VRcC3nAUdh4uAQOAONk8iNfn4+kmQzT/2QJfzURD6G/G02Bpw6SuNQVLe9vg4H33dllnsp8Thmx1EFgoDFu0oHzqI540wun4ikAxAwAQENpXrz+skSZGoqVkraj2v//OM9ZVsbc2LDpnutGyBpWtAnGntiA+jLbS04IqNBeG6zGZE29d4KdmVJcozkQ2QsNGRVgtnZKGe2A6N4znan45aT/NbpqUb/brjeVM5NN3sZ6irc0qDgJAkYXaLyREErRWe1dKIT0BUdqifyrswWqapY8B44xqR+12feUdxw7Jw7N/j1uQma2vDhxRk16izbGy8RVvNMQGpwkygxt6wpG15PA7Ki1iP61iJWOjFB/lj+BdtabY2zfbz/o0OgJguoKkq40rxb9nWcOGVtggF3uaY2gbzolO7H/V7zxIycXg4fyzOYMC5SSRP9/CfGeEcChSluLDPQ1TzmYRoBMmF+r+s1D07MYDvlrBvabzdnpbEx8AcDA0seGUm5yAk+qE6SwreJqi591r49D+v2+9IDQTUXrEafzJRzphSnoRnsjO5FZN6rAld/taMpcGbhHyX4163xpvGbOaDXjXFn/jcHidB9gnddYaLMfq83sX9+pyu9vLCmXg6rcXGl1fb+fjUuydOecMGuSOQdjE2DNk6SB6OSbGm/psfmAnc9I6xE55nwICSivmkgxjDCFdZQCMZrZL+kRgLSV6OGFAXA6ll8P0QnhMxQtc+U0rRmulG97PiGFX/GBv/HVLhi85M/RvS3RRyPN/F/pG/CBqJ/gb5EWopWwIv9mrvjUDOLnIJpugkC/uD3JvO62t30PaKXZ9WJnTFI0nOHO4dXz7VBuRW73RlEVQAebqHNL3sltbcISuhBhhWEz8YHGCAgK4OLytDf6WvYdww7ZExMQwE2k+7MWyS+7JChSug9lYKEWczqNpPgIPosgN1eICfYmzNzoR1unyLFD9ciYdBaXfrsGKBruutfIVoex3b22JERDcY6LOi9xvck2yChK1BT5c+6FrAsmUgcjE5oqpVkezXCZuld5TnQHRRgEbqs22rOEcPysCc+4Qa1OMMJu51v3XfeC4colJWLOHfzfmWcJyF58wqWoGpliQl1c0E17hQq4nHehJ1GVMRMw4XA4chLmf6NxUSSCnU+nvbcwLhazz76vEZ/7O46M/FCz2Jo1Hfa7okW5xqRx8ItgLOYuJ32Mvm7Y5rRJ/lkgSIrb7HcVqsy78W6tOPO24ya2vb/Yw++ESPIIBfuhtSy+lf2Y4XVea/TRXnvo1O2mgJOELw9Y+k4vVmnq33xyIxqHbjCeEZVj5Wl6WbSWGcMzYTogqTxgzEGgGaQdRtXS2MprYzUZSj+gQJoT++OogC/rtFquF4mwA7rLDiTuQB9/uV/4JTfoCv4Ujt1iD+/YLdHGLax7vAIOSk6irdBKnjxZ/H6UUXIvFRQzSRB9jYgC2l2nMtRh4xJUxgGusvXYS0C+fg4Ov8+/jf7k1ftif61zlQxYYCyNri1sqcRW0syheu2qwCqfosyzGu5z//yrBSxWhOHW+umM/3JFHnAfthcxllOgAe6mcPJgn0IN5yJEPX4VL1MUZjkRVeJInGDUc9iALGot7racL+7ivZAiGsK3Y2P5QQ/V8dxQlvVaqKcBlNExsv3GWQWShGw3M4u7uI/i1a4Jm2lmkH3pCnPRyO/+/3NV2/HyOKL8hyo1AiGYlGeFAtWBk2xl9tQ6JqczjSZmXqrTnLRbZjJ9jYZegYG8Q4aADCiTdTQ33T1Kzr85BrxJsDu3s1sMgl+v3Hz/7hQsVXjjiWyb2UwK6ZmBjDhQlCo/ODfkok0ScgmQAt3oWngrabYunz7zKOLvUuX3DXicFL2EqdSswXGSS4D6U/usMi0lDKfIj824KnTDX14Di7itrM+T9OEbTfumCb0Hskv70zxYV30ARo7Wa/b9HgfCFJksQEKvotcIlCNlH8vX1IVH9ft4FdtpyI0I8CnxZcBYUfIdcC6cnKP4Wm+2/r0g1rDSv4pAQodLFuG6FKwi6zjF2oz/uSDRlo19mEQ905cXpxYZEAAAuOy8su2hs3aVbzeD9hRqE9mNrXjWd4F5tPmWxmr21ZF1SwcrP4y/poTqBduNjmrcgUoJJPFB0Peo/K8+bJBA3E/uErXfJMANbAZFuylk/BgEG5tiJVJdR8gblIzqFpt1iQAAaxAEwgGJgRcAAAEbQZokbEN//qeORmejogCFJj2ukjQYbo8rgoeL4DQbVsuFMV1mQLnluJ5SaxPaGfb5l1xBZCUmXwTtQap1ITfe0wAtGPYAKjnH9qfuMOAAAAYhrYY+MabtqmYy1BB34Es67H2xNKWSvewozvrg7w/cOdD7E3wswR+ruCr+DISWY4VWA6EnLiKNwz2DNNB0Sq+1F78LdNy44H5kdOAWDaTMHrsU/NCabp8ieaojx4g3nviWNcXQHR/AS7LuSQg8reta1PctJ2JjiPzvAaKmr//lw7Qh6/V+2fvWf05KgZwDSvkpIZAWMRN8YUJtpiT0JMCprSbz6McnWcsGMK884Qd9jozpI62Ckj+U7qwhEgpGitDe3SQBdkrgWXDugAAAAEhBnkJ4hX8LrbO+uWditVIhEf/J2Ecdh+zAbS7mwAgLem7WoOmHwI+ZTc+/LXxnTXSEqG743Nbu4SfB0k0GfOACj9546FiFovcAAAAkAZ5hdEJ/DdfEIsbbfH0u6dAA+OOJ+W3lmvOEs9oXhIYChEvAAAAAMQGeY2pCfw2kt+RSAA42TGrcPo12K278+HpctwjcANm6k3RyOVNVcd87vjU40uYKDlkAAADSQZpoSahBaJlMCG///qePOA9P6EwG9wA2n8Jwn9UL9lHRk82h6tzdAb88RWf8ib/iOehFnSG28TlAAk2Y526YytZBnPIvBiM92OYu2GkvXrpzaDI5lKDFEIh/H5W6aWmx3Qgwf1Z13VSySrRoNQ0dgAAAHkp9hWKsTXFOLEeW/qID50gKeTTY2e6g8ku+7WpVOBMo1D5VFe+7jZ//hnTclbFAYlU6yHv/aZlBmD38HgN5zharcG0AzK+foJCOk3sY05C2Vo5q+jEJwhDqWBr4ZJWBAAAAV0GehkURLCv/C9ScFX/gAC58z9hOhZPrdG7SBP9rAgbj/GtaFlmB7WM/L3lV9EE4Yese5bE6XIAgIzW8pWNCAGcTrUopDi+UXpZeS0dYsxv/NFtURmfBGwAAAFQBnqV0Qn8N6ihLvdAAloFXY7CK67gbt3H5iA6bdRzfAbq8JlOLxwixCkylDzL0zx30EgeWcnACe4Ln3G6IjgQlB4ebzU3USUiGtvecW0FdIHLoAYEAAABBAZ6nakJ/Dd1idqrGXhA+ACZ4X0i0/nDUzbbSKqTNNKUvm/R2D0FCQARlPX6vAq+sTdVaSHjim8cl+96rXPSAHpAAAAD/QZqsSahBbJlMCG///qeUkFkLoTTpXxk0HvsgAtO1kmtdDkcoKKfks9915IKZqba6IMYTZaocdM1u+sonFqMp3r3qfoxWP9rnsT8O0mswL5MPo4gsaKqgtIi1qFFUO4FemrACA422rBNsEkUHrHZynMdREr6AlCRdW2b2FvFF39hKfZI6kgAAAwMFPYa+THQ9g+fkAlfmX5Jzoa3F71+xRzX2gFfqOelmZv1wpVC1JvXJmVGR71WeEnu21KtbeBV99b2AJux8YX/QQXQuj972ka3gvt7JsscWhIQVHAJ8lAlBK4RDR1embeuaF4FeMvrSj90/nF7bly1O1bfhARmZAAAAU0GeykUVLCv/C7StE6O4pknrFV2Eo4ByGn8W8K9f61j4GuTKCBR8eCRBImKMNilDgBPkM7JCoucsTvJjHV5a38dt1bXKzzQQ8iN2scXwGy68AGpBAAAAKgGe6XRCfw3X0Tvgrz58GikbygCgCZLkaeoE/yM67AvPEJXANrEllOB/gAAAADQBnutqQn8NyId6ggwlfossXKF9yVfQA7euTeRKA0hp2cN++XXNN1vStgcwIQLjkzEuTgUkAAABL0Ga8EmoQWyZTAhv//6nlmm/5Yji/PUoR5ujg34Abrapal3VwA2DsjTR6r0gPhk76+JBrfJg6L/Oyl9FCHdKSyeEodg2BnubW6XYOSaWKaEnt57XIfUckKwsp3dXPAsQqU0qMuA53IxamKyGzbmUdf0HWB/MAAADAADKaMhyXDgBfrUqTF3528rHcM2lX7wygeEsLPRyzqWHTATyO5WJ4GUVGu9r5zz/6ds+97xP9OlQYiN33bVMwdrmLSYG+s0Ivf90pC11wMMWVrlZxx0Qa922w6c1FJBGcRU08IGZ/rwMrH32zoy3TBQB0ZAAl212XQ6a4njfbBOeDhvdOEbaSGmNLtOtw5kJD7epUTCNe3RniSe2g7saZeO1Bkl98iU4hFeoCVS3TitKbC2EQMID0wAAAEZBnw5FFSwr/wu0hCiwKaXn1qyk2ksHp2uAJX3Y/SixW5F0UUA3CzghMAT7E60DIBbTIcBvD3vHNyQ/u2GDMiZC6TdaAF3BAAAAPQGfLXRCfw2nulL3bGnHSrW+ePjbl+qA4QAIwGv2Vfssn5VwFMBB/pzJwTgAZSdia3gONZYaqDZ0ji+QDukAAABFAZ8vakJ/Da1uUuHGcPZ18rlF/zLcALAlSP1WHoxwbcSckxdTvEOZ6jwewgvAMKqWACjypVoWTRZvAvp8fPCMrcC9gAGzAAABTUGbNEmoQWyZTAhv//6nvpADkWEXACaaMu/97PfM5YJ5zXrtRPBqL06InqoXcqblC18xQWUwCu2251it8bpaMcjzl07t7X1ez7021VVKcSC24oc7ADmVZoCUtDkdm1XVhMZ0gCKVdGcbr315wPcBWETp/katXKP7mYGKkbM6viD3U7DnExNVU8E89qjrd8z//NDSY+3y5cyJFlX03K9iu0aZfpOZ3uF8YGH7SjNy27eGZmEDORtN9OFbupsUXsTdGrqoAAADAB84ILaiH3MNLXaIl0m9c0SU178JP/Nl+iCKwQhcQrtkYh5nefYhTpCIC/oTsnsmFc5fbVMtI0oAuUprH9YAoW0H3MPeO9q07EWvmjHfPaSLo6h9moOLXe/L2ve9njvRZbCbYXES5ygABXeZ3MieaZahhhNR+bNhbMZuonfdKaMzWML2SSgIuAAAAGtBn1JFFSwr/xFcv4IDZ0zQ5FC2BY6bRXq6Phs3gAcD8YbH80QhJCV/ZH1O9fgf0e1WWb5BY42jB28K/SEpsC4puOgIc4gwk2HGNw3pjY4jwFWUBtqqFl6AMPKmxtQ/YlH2wdnq2PyrZ9AB+QAAAD8Bn3F0Qn8Poy0ZddmsALW92VU384bRW3o1S+R0JOenL4YK3DbMFW34EcAIaT3xsAEOKVvCaQOb9jn7iEmAZUAAAAClAZ9zakJ/F9lwAFWl6wJs1+cmZwtQo8GCkvNGIN1BWQFVOkRG/RJ0kZYoseLqmGgCdBvhJdulTB5uj2SqerOtZGHUZiHqbdZ2GwRsHaWIbdZlMOysXMK2D9xu47iuVvMtbqWuxK6wispp28ouYwOXyLEgpVUxwHgInzeaoDrxIbTN41DlohmB3GD/aj7vUArDXNyqW9nerdGqPD/9vEdL3XzX4AZcAAABC0GbdkmoQWyZTBRMN//+qE+b+qiAFTmwDwBwkVjKE06fcCch0NJ2ImdElbQCxCf98ULo4zWw5bvOruHDogqRI2l8mYm4dT7rfLRRXxZlQWG3/QJE3cL++qhhVEBQk6ckBelgPUOPXAzUSVV8UxAG4dG2oukHbtiNEZWGKmsA0sGEzPSiRvWNY6XCz591O45GtMksEHEbHqGOKQqtSTba63diT3U7w3zLipvEhQfyJUJkWb1uuVWY97rX2OHBBiSLn2K8bgM3IK/9dIvOQSIfzkY1+uePezmJHqi7PLPYka/U35nGexka8yv/iqgApzkDYJHNjTE74oWkX3DZgt8GJWbQU49MA4gSd/DKgQAAAJcBn5VqQn8bXMW1AAiKR+OPdb0J4aRZ3xxyUtUSPxBkwb/wyQQThJdaCyJHodNpFS/z/o1TszwBStxChHyqXDBCoqP5w74IHQUBEAD0QDBH8Tg5eZGUo9PIGgeiVOh1m5T4KnDpka4+eK3eLQQcRupVABoNNVD4JWepzd543kO1jMADQQALoG0CyIjPlV1jB2SBJpK6APmAAAABAEGbmEnhClJlMFLDf/6o4XekAVdD0lrQSZzx6Xn7BsEA97if1tE+XSjsww5yG7HRvRT5+MIJSmTawj2ahn2x4iUNt4q2xRff24+VHmCah5PNqrw2TlZRtIOxVJ1vlJdFFoXMTkqtVtCMM4qzXXf4vxUAuO67K9Mq1WTnduUVCV5y1LbXb28zn0ddChjalaPgWZ6AKXUU44+Yq5CYi3xavSvpONvqKtJlfRCm0dN706DWhq6n0Z19tEwF0mwQFvhe1nLnsysgXFLEklRDgO0VctibKUEtbDWkF9JbbcbHDe/ILuL1+GvHeE6HiKVhWvM7ko2DshbMZZEBTNAADNPACJkAAADUAZ+3akJ/ID0kH3Hbc5THtDpZ/nEAK8+DU1gstIP/EiQGI0fF/5Lgti3cOPpxlsfDHovWGsBF1CSfXdgiJtok6vHnOIBAJvAS2BYSA9JbHQ/nkFwwyiNbyMX+oQ+c4I4Ht3f/Xk5niwj1MVTHNXw5hb41mJgGlOz43Hp+06VUvd2W3aOM83ai5qx8E+rgS9dKJxbz3Pq/KIrrwYuB5Hlw2Le+yrQctSJVKcnJ3B2sWEgq9usUT7yZZB4SvYlY/qe4hg/jD85R7EIAFziRqs/hQsXgH+EAAADtQZu8SeEOiZTAhn/+oNbqzHQA6GbGH/2/KY9PlYIvHSagpAx4YpEyhltth+wBwRM1P13egNDM6ZBxnLrKTfqR8zlxQ9FC87lwihrpXTV12ClP9cRoZpN0fyc22gj3hPjkK5MwB5S52MPBFnr7YxKkKm+zGaA8UDhlE6cotbrJdZWa9Eos++SR+dZUadL0T5CIGM+7UrEON9Xre4royph24R+EkJbYAuwNVslr0tH8gGyfnaebQltTkjw2bxYfWhqslz5T44tkHbwM+SBqqG/v3g/JSduwGdXTwAEmeqAhgzVpWQ+s5j3UcRVTpB+QAAAAa0Gf2kUVPCv/G09N+ikJOgBDDc7YMn0gGf+oXtafLNKCsnUoAi/gzW7cvGcMJ7FnnhfS2brCKRBdiGWsVUVu7cjACurBtmFZO/I940abQzM4uoQ3IjExClHfVktb8/yuAAGwRJQkoB2BKkELAAAAkQGf+XRCfx/dN5hWmt/DeswBDCMGKqRhgt1+VEF6vy3dEjx6fitXdn/dVxU2sldxlkRDntP/HqRZuUYatU5I0Vyk9gZ/5tEPYevQX45BwXzF3DBOu+BW0Vc1dfdfy/r0pW7F1R8mMXYgf5QRLwNw8RwPXgQRbZdu5tLEn1rTvbluPCJJBRScrXcAB92hADMgAdMAAABIAZ/7akJ/JjjoAgaSH0Rv7T7sbVDIqW380cZ2OiVXtqNNaO+HFRSmJKLhz1Kby4/yo5VQwoGRFt6dt4eOkCAAvhUGoOlqoLiBAAAAt0Gb/UmoQWiZTAhv//6nhAJld83My7h7UOUpABBuy8w9vNmB0Lj5yRW2kXi20dX5Ff1QAYbKPThey3kemwjmFaTHJwADVxgcboiiuzOjESWJZEmLI6D1TyVDULhuMZ7517XPlL8WmKMHmUVkEAPHGaNE+6epmTvxz+4nogC++yQCH/6JwRsJ7NIw77J3coWjGE6n/6XdR5vEyqTomtqUQeQ5+sPqbnf4G9ezpzPDxUIDzNhDQf/ZOQAAAN9BmgBJ4QpSZTAhv/6nhAJpmXaObyh6BTsfWhos13jF6RCM3UdywhmF1AjJQCfeps/JKTaDjpWB959ldQXv6HZt2pGZUNxuEvRgNVfxp+rzoF9A7yylnW1lkbOeNEg1bu0L0tBn48BMpuZElv6GADeawzj5uZkKdS+8OE4TLcU5w8Mwxxi0wseO7IBHuzRWNAqz9YPBRKUtGzVeCJ377Jwl/YF+V3iu4LqR6/F2PIj5HnUzvrXedzQEoeMMn0EfjOR8b9rtz0X1lIk7Ku6+gGXl2ZBLZczQpiGBawZDXwgYAAAASkGePkU0TCv/AYkHhy0agfmN8iAhFWs8I0aLiET9LAdk0vHMbFnbvwAKeaqrGHfMRApXadL5m/Z8QoCGcV4ytITEU3w5KcKckKaAAAAASwGeX2pCfwHvBpCdv47fX+JrgVVN5OF4Un7tEO1nBtTY8EAC26Fj7FduULPM6+lnT22RPBOooxdfBxn0wgA35b+afPbAKwh6HAAm4QAAATVBmkNJqEFomUwIb//+p4QAuWFHua+yE33dohxo+i3kbjrP6m5Gs6pVnxw8LbxkWCzIFZCWhqtmcpvom3WvXxZJvaLtvCReYybkHsJTnBYfFmvSVb6zBhGjgaML4UM9N1hmvD3XQ+fkOhyfeTtMniqO1Vny/hHgUXr9WnkHKTSqprYab10Sk2lUR1ou9tR5cBV3QlOukwxx4JTJpkZdOQRxuWYMs5g2yQ8kTsoHH4SBQjgzWQRz5MFSj1wxzJTXRcvO5Nk6Lk36i74rITzsVQRpx4gZuiwn0yl/mS2Xo6yLuk3ZVOQf/jrYyS6ExAdoBnGJCfOdOgviqVE/Zo90dCISiu6DagdBRTPyOSFQK5IKAFHiQaoColdgRgWHrv4FjrAOlx+aDs8OyElpBO/HQzFBZO0AxYAAAABeQZ5hRREsK/8BY+T5dwwqchD7nNEVAB+Qk4HmX6logcQHDDOCKf2I+SXT81FEbeYXjX2r6T52LGZOmLrrUr3P7gMuap7wVneHbvGvBYYdLDNJcarYcOrI2PDM8zCXgQAAAHUBnoJqQn8Bw3mj6EI8K18Lu3EerEqaDb25M3G52gBuKYwedZoliJ7Zv1Wy/sbLtG65KliVfaquDgNjKvcV2lPJtpibiAF/AkrJTgeA5Q/OpEpaoudXwRP5mW1sn0CCE7dXKH9GEVoPizIc0kXugO4Cqv6oB3QAAAFwQZqHSahBbJlMCG///qeEALp7wlu/i64gT+bKW/yAB14LJDheKu9ZNU7+LeXg0dF07VmsGrljuCz9go9+bPXzRrwz3BBXiwS3/+i0+8Rn/1sSW7xvUhhLBjq0m8ytoAe56muFYUoqcITkCITNR1y26obvqmMhqTW5+LYvGzWMO0iWWtDwXTCD4q9uXasizSA8Ckmnj4OAXHkKaV7/d/GQT2+AvuDa0ZzOe5CJ8S2x+DoD0oRp+zCVeOExl3Yl99NrZInJ77vceuULPwlMaD+i5BPb0re1Plo9EEmwnyGgUoB8ORgGjdyolDjqPvd/jIePkqveqKahz/NXM0OLlkP3gMMt2YWEWikCARWnKKjTHQX0QXgXw3iH0q8FKTvCYR3kYQzTorsRuQfNr+ZnGBr38qoWKDwaP6rUV4hkMKXRnzHjysHwLoQVi/0FWfJR1A19m1oh6UXMzLQiiR9Xsudt9jcOxaczqIXMNIGdR1DcDAkAAAC6QZ6lRRUsK/8BY+T5dwwkcJbyz7rAzhRIlpoZZ8gfFMM3G9mgBZG6aZfmX1GFZbgBcZkaXDg5aKAxathM0szG3QEuimDQERmIPlCtK1nVZRde2JY54bCYOk4IaPN/HjfeKuMESpb5/KtkDxGinRophqHS3kP2tJlSBfsb4lwUcxO0Xw49taQF4k6661vwSGWHk9WP5eTVB6pDPgnh3M+oilUFLgUK1fK/FexS401Bjfhg6fJ8x61fOiHhAAAAoAGexHRCfwHC2vAkhGoIcj0yB95XpImE95gpUs93+wQRa0Hivak80HBglJ/UABxn/mol59TwXI3yFf7YNtzBGa+EqlxuZEJT7Ky44bbxbBeODDJBozJS2bRikSEdJzTFviwIY3+eXddAO/eeHcs8e4NVArZDJS7dY1MdGAk+E+KVZkivnvUXzSVSH/1qmdh7pMzIqLZc0JcvXra6Y6IGAQcAAADEAZ7GakJ/AcN5o+gTfOsG8qTAAtOiKgkb4w7lI8SQMn2Fbo2LAMB2GeW5Ri1/TtuZyNupv5AmrIf/S0OKjL6KozX8qcOwQdocYWuj/EUcXBTiPRsEqQwOhfK8HL4zI7Rmfu6/OiycJZtD4M0fjxkJuK0TeH0NnBJ+9t0xtr5FKCS0oE95Z7Z6ijpe1auf0EZ78xPgubVphCo41bV6V8k51BXBIky6Rd1eF3qy4UuFjgPaqgRmUA2gWORk2MRA457MYFABgwAAAR1BmstJqEFsmUwIb//+p4QATUyCuAFvW3Q0/0H56QNk8RjgM/sSzAuO1fFhovrCQPDl5Jf5ylhQMHLL/0cEozCnSU3EsRg7TpbU8sgWy4gwtQ5ZMhIFxkIYr/qt4Vz36jG92QA5RZfF6jKi7nYuz/E48JDrm+LJW1Obw+Ya1VZO2EaCmELUrNUErFLx/9FgHD0nY/aVKAhYtmktAJI2+L+4y0hc9qfOWl9fJhJy2jfhkh/W/HDW+PY7dLtKa6QevShZewxNk6xpeURHNYJpqUn3Dr9BixxB3sE6aikI9bIBPWHc8E+DudB1ksmteQwr6rBWPQKNZ5Fb5rHuSiW9+kkOqvDsjcRZwETG/DcBQlZCKLAfqbpao356muOMAi4AAADCQZ7pRRUsK/8BY+T5dwlFSHSvA2JCgAir3a/iT2OLjBNEN3ITraYzJ/+mT+dBC2npcQ35MOfJ8DYOvO/0jwXIlWFFrAHfTXloAT8acqS5aKT3X7eNybDYQ3R2miGR2bNnMgrIXHrWdU0fpbgqxzfd8RCI6rsMmRfPYuRW0u1sAWW5yEtEsbBbtis2eWlzp29J+x70dhMTBpA52of0tIc15rEoD9k0yNYExGCTbSIRABdjRPq6t4Rw9J60w78o8rHrGpAAAAC5AZ8IdEJ/AcLa8CQoHdjBQAEPRs+7r8ZtxShd/10Uw7jxTLt4kOMyA3h4GFQr4+0xEvHgX++cv5EcCwq+LvVvK+6yJXpPAS6DFzshyD07vffbF8JArjN1HsCfN1bRmUxzq8GNnF81u/anjyoPBWVDO6vptMKl/PLN5ZF2K/Oga99ozScIQMLByTKKEyNbvea4wiWJs1WZ2XN7ZVxRa1sbFYGUcGigg/rkzLDYsTB3DHIt2F51ZewAR8EAAADSAZ8KakJ/AcN5o+gUVRV0CAFga+VetMRUa0L82R6DfrmwtNOTLJy839PSgKCabGrWaUEFHHSSj3kIz125fzYeUqrqIfnO1D+rCqWsdKHeUE+ZHR2RnI0DdS+4Ymc+yQNijfw7pMdsNof40WJ322aO9wNwbwbZU/zf89sUNYdgU9sj1EGXFSrzKm24IJSDqGRSzJ18tC1V+skFlcVrybE8/bDLwYPnwQM0lmapc7sKj5WaRKrbTJvWqm5PFtWEDY5xX2N2lkWa65fOk1XqvixCSQqYAAABOEGbD0moQWyZTAhv//6nhABNvka/JP4Ls6kAJ1odmYviq431dBVLSFibBKkDQVGSA1S6676qDle35k4B7W8RXLXVmy1gd3RWiNUSuQJLGZeJ7oeuN4Lq1/r5BCYEcKafPGhFJ55+DBWFraCc9k/5nDRNcaBeiWpSZCZ6QFmJn0ZJ8PlkTrRd/SD8/izOE1IpygQ+XMWki/1289/MfGjvCi0ErprZAHuLB9sm1+mbyd/ux/XG3d34O1sEB9l4exsD9rQSOqT6xt2/ie9SJeg2nKSIbJj4vRECWiPW1QQa2JV7upmemGKsSDZPvb5mRUqNzKy/Y/cBFZAMewxKjlG9Ra62X1gDZOAtYh7tFE1aQcgNaYVq3UcN+iE+GYxiNScPrpW4oORpcd4O/lUpzgYxiR7epLqQ6UAO6AAAANVBny1FFSwr/wFj5Pl3CUUEM3yM34QDrr4ASRVfYNTwv2ALSEZ/Nl+ZANZWnanKkkrYthBfS6jvhHndKnVQYm9rieROUXKszU2Vro2ZfYRXemgNl/m6KcHqlikHZt5/+K5N53I31f1WYMewe/MQJVpIzxmiR3RRq+ve7aCUh2KwYUIOmW//KLwhOM+atZhRv0/3F6NpnjU3ZJ4KsS0r1yjHWiBc3LFxR40X78My4ierTZ/CrUfv5UtPvglqgE0qJbdhZXSLdAg+RIdVxfXR8rAMhBxg2YEAAADCAZ9MdEJ/AcLa8CQon6y+i0TvsRAAakdRELXYwPBLcH+SYGdNqwBU3qlo4+ZzeUCcZuHBsgJP0gY4o5zlJarIO6T0a68cvFpo/4Sj4bCcZvsn+vFJKpnrs/R8rcws85jXY1Q4atzPH16F4O6eTaEMAPi7s+jN1IGyvIsR9Y/pRUVTBaA/fN2OJ9KRg9LpfdYRVWiO91VreDSqf9HDU/0Xdy8aq7CDyVia3W/sMzBe6BqFSqLSDdd0o6K3t5XgpiAAV8EAAADlAZ9OakJ/AcN5o+gNVwqhmACL+bu2Pl6XD2xjwKe3HlCEvFHqHZZ/0nWerPZMULGk73PSXRhnbUC0bxkDcjeX4OJxVA+6luEs7Uh18LI98+CtEGY2OAX9/vp1SUqrdVfDZz1DW0deqahmqjPdmJ9AEy8AnkVp7egibpI36ZcfmbPA5vCrGR4xkyAC+rrYZzLHmH9eDZIE6PcTzIaGsA8SCgYUmOY38Dsa/aNSgBWLiZsEQzOU99QoMgx54ARzeVH/PdTtWoS0hnVCuQ1QYJ5eboGJ4bQdDL/+K+BK8wGqCMc6xUDugQAAATlBm1NJqEFsmUwIb//+p4QAHR9lPwXIRZ6WEL3AAfAIu/4ILwceUZIJnb2avY9XtzI9WMKztRsueEUpvog0P4Ffx5Jsp0fQaFBpfaecHE773tm4LM3oCl08z/tjjeKGHlGrNSF91cUqP5NlvNpGRjCOI9hgSkQqtgyDV8YfgdsTNDfHBqWdE2MHBDGTL60GafgZIrnBs2g7ys8FVl3g75pSrh7zEPjqeHHkoGLxpKBYcTYVyFuvfFfm0PwTMXVjQmMMx90oSTSkchvUCaCnPl63dUarl+gLkpRrKo+c4nzJLLT5iBLtc5+OodUZH06R63+uyMzZ+fpLpbzYT64T4YtsslVE/XYjiE1AO572MgtLrKiKC44opcqzyTV34BfoqCT1lznoXkWYzbn4zZnhbcYTIBSMXPkjgA2YAAAA60GfcUUVLCv/AWPk+XcI2aqcAQjyp8yxytDXT9k6Y9tyjUk48Z31kgtFA4CEp6aJPiHGZWFwJknEW4Qn0lkXhniI2varOmuOPZR22iYQUrLHzYIk7DepR0txXX6UhsZOE/cKd481Ki0bLahp6kiJkk0+gdX5iUAgdmh4sRvghBoJ9lHzVX+nWUgjoKsJxBrhP574iKlbU/OJ9dJnmIoiU4HicJ3Fu8pc4xgh5Fmah0aooZve9cb4zwOA8dHRnRunG3IJiD9KpubqyslJjJ9Pd8VQ0OXHidifcpmWYisEy6dP5vW/6MFD7jE8f4AAAADSAZ+QdEJ/AcLa8CQbL+CGi3FLjrVydHebl8WAAakdRELXYwPBLcH+SYILyDELyLaRnhEJKL5F4YYpJfoYaQbQKTfiE+d10rk86YwUol3s82gKVDatkylMnGZ1u3hVURit2yYEAo6ZAp/VVOzQ3CqTSHEpujJOsYduSHMrWdvJHzEEqADI738YA0B2unjcyGYGn5jdUrsT+53ayaFPGR1INtbjNw8G+MdBRm+OCQyML1GPmFo1/mHaApFa4CZKaddGKkPJS/RpSg7twa/ya+m6gA7pAAAAwgGfkmpCfwHDeaPoDZVp9elNJWayWwARUZzYyQdrOP4Afy9G732aExjvLZ70nA4a6Vq8VPoDQ2bcz0SC12FTVkKoZKhvvxh+K0t0qcC1VusSj1zQPWEP72XrLFdmh5cTbgX/97DaHZYVKhnV2qXxnQYD6CoM+KpeaSxOQs97I/EVAFO2NEagQrTxC4LR8t058A9HZJqBvi4oywGuHHby9USFZ7NixhMQzxI9x0qg14+sHv9oQZfjDajsV+5PXsoMQAFJAAABLUGbl0moQWyZTAhv//6nhAALZ8fqp2kDnJvFuzyU84jhQA3ZB+WxQK09YPkaVk3Y9zpiKUwtxy6uBZPtQq+fvfenJGiaLWyllt/UfyTHb7y2gUssxgUxTg+4/aC4P6LbNpzaSo8+yVsfEuzUMw1onbuudo5rpaq5jbWIs+MY5Xmn+rAH++kSmAUK+dMt1PACJkOB0wb/XVMb8lbBCPorZEuFVGuoPVGje+yMegyhmRnLWUnNrtayK6mW0MOFvoQa3mlyQZ9mVf56F/cx783Q4VG0E+jsDykPWfGSzq+0AxYFWLzXd7BUxg2Yusu3+RXzfo/XjRA6qdTCnaTrf1PjK2kjfLznwN4aGIsA17afeHyseY4HQnEtERgRGq/LihPsagrAIZeBdjdYSmAAHdAAAADSQZ+1RRUsK/8BY+T5dwjbqpwBB5w2FcaFXoCHZQTkolY6aGyBirbXmG8su8xQ73jDTtqdrGvkVKeYojmCS4ctPtSu/pw7o0xXelCGuJn5uNVH5CemQpUYSKGufsitNTPWscAREUMoKlbNrN3Sn5fDeM59p/p2NZyalUyGI1jWYaMem3LZQJyImuEHVNG8d3vjUElz2mxLRsptpWH53bRkcbDio5E9EAmfOwN0/UP/uHJ5iXX/3YwE84JgIE75RWSnOSmLCNLHRWK5jLNO3P1WBhHpAAAA3wGf1HRCfwHC2vAkG2/sQoAalLudSP/BihHwesG71ngUDEELnBr+QlNG7FgkQbdRYCdYrRoPycj6deWk5Xv4SvA4o+6iYuJ/x/9oslNsbCYKknoUWGFw6WQsmvx3W5ALPhvhTgENk4tj/fkB8/7bem6N+WbLOIPnGXWgP4lf4aQN+WTgk2XGkPR13QjePb4f6kEZrb0ZoZncbGX3ChqEYzETxQfa9X7vMeZIY+K2ofBul4V5KsU6/JMCy1DM4R2UeJfP6nEPAlexKP3G1nX4/Fo0w/M6GEwTFtukic/gS8AAAADuAZ/WakJ/AcN5o+gNtWko4nqhiJfZoA5f0pZv2IMe2jKBBep5VWs5Vts/5IbAyOZHiLYK7yQtYWpNYTwCYFUW3FoalaBaS6Qj7DydJiLdRZmy8intDLeif3XD8j68+seeTTwebd3AMj3TafstnX8XmF72GSRGL+sKi00uHV4DesFFmoKpQHHv8zk7vHXX7UA1Lkb01aVx6tfTkeue4fETZDOJDvwYnhmubDccOWa3ChhDIq4O8T+VQFI3C9VG7ejQXhco2x1uLL9ctiDm6b5DpEi6bnNLDAIf7N6xaqs/vdVrE6kf58H1DWeLSAAbMQAAARpBm9tJqEFsmUwIb//+p4QACLfI2Db3gfiAF12QAIuJzFvPLiMWWPTwMHwe4AgxprwzwI+PhCdXr/1ESj7Q4uVO54Cl+tT09dfKa0sczO8/wz9H+ZZ1BIvPjifCnPYT+4d7M4AFSsaCUBiO0E6G9pCac+/FSh0j6vdyQFJr2zyDRA2iJ+6iMAvW61MSHCj99yWQv6nUOvfNgO1j5nbpgsEEyTtPCDL3FKABW/D/d0y0ZbFe3en3y+cHt0V/rgIf+CHBKYbd7C8xVHcEu4g1UeR/Rj5nIb9iHkjfj9eU4zAox6NDmJnHM9vJ8VO4h4R4v+pW5KF3dzoE+u+tpAdyTGb1IXALVKbO0lIYSUOSrip3GBjNkGgPKapiFNEAAACiQZ/5RRUsK/8BY+T5dwjXhZVkTlAl0bRt1mm+GtVpkbm6ZQBGklDgWxof3KE9CpsHlFtNPezSUbEMfobM6fgj2jEqoUa+/7ewVxLuprLNn5+Xh8/wePAD1oGEzrsLNFy5fttPPcCmvjIpV7532MVQzFNQeXLz6ot42v0l0c5Ja1z/tJuZT5gAyRc4F8u6JnDD88x6/hXk35xoW+nPgT4BrhlQAAAAfwGeGHRCfwHC2vAkGZI+YOMpqANvyvU6udYBH27O+liBWN4KKJ134GASFtCFUJzd1TRr0GA1WLjL4ieVDf3Ta7T+9CTHNl85Z/KpGt7p/E5loMPOjJnjqrZ0yXDVc5dqr1FjpMC5OaEkvYT12HK6/tqWbBwZ62FAOCnsb+/EDFkAAAB6AZ4aakJ/AcN5o+gMys6amvDeUSuul43U94P2ApaHhr/xUd2FW6SazVlmF1ZQIdHzgDdxinxdH+5cd9jopkj45kAVqcyL5W5SRaKH+rSC9PGz2TaQUQrMtsS7iBFhOl3ojQ2Z21EXbOXbtSoQFbHhX7tB9lsiZigAPGAAAAD8QZodSahBbJlMFEw3//6nhAADz8J5ksQGxbjUHAqRkj8LcvLqt61jlgCO78c0s3Ol53U50CPZfTCkPgm+ixV/Nks0h3+6mO+z3sjU6xJhyk474H12fII86GgqYMlVkIfCg9zzWG6pSuTvcxlLA5kpSBTEoghrIVB3nMHGGVR8xnbk60aibGhj280uGbmc2Odj04THa2hVr5ViZXeSpPOlVRrzCmUh+uUqtZNi69ZhfMjPym/FYttIYrYjhkQIUMQyzvS+/DpZI50pyRAaifgmXN+hnPRmSVz7H1Cxj5xso+Jud+FaCnm85fCzFMDy91Jj62Qlu3hiRz+N3TkrAAAAdAGePGpCfwGavds6yp3PrW0iUgukAXesZu1iTXO0IMmcByoG0NeUS54WWO7yi/ppAdsdhe36WOcikANIARgT3vRF/eO5gdqlrwnQN7SKVAIUY7I7r99xAKGnbnPdNhKI6hZeC0dZwLEyZVtCwSu6EH56pDphAAABCEGaIUnhClJlMCG//qeEAAFzw6Vq7wkAN1S+3yoUZ8zNXkyZ3AkbQ02RUQLg4e1IybmZStPycg2obpTFcSuwVysxcULcMWKBsLo4Cc91XRkS5jPzUZzXEIayDncd7Pkr/qPgFMNqfuROD1mZ6Ppm9yFROS1I42nAJPhilhW/dWUfl7k3gv2SAEXdk6KimdVG4uEGV1dC4t6X5rgcLGOCgEnvd5Qs+YfIm5blEPUU58d39xLbrM1PZkZ0x+ZSzpjRvfb55WShuqyu5wGcS1BKKsgLfFP+LjdVMjssSPJoPduqaI24t6Mv+bLH5b42cc8aU6C03qBXOxPkFpbGk0Sc+o5bFjVYMNoImAAAAL9Bnl9FNEwr/wFjzbK1il2Sq9Hkh08R/90sHCus55eKz1jZZMAFs53IGqTIP48axnUOliqH0l3xd3O7nZDAD2HRHiTEl7FedQm6DPUM/WNURTweLLAIoQNeyQeFAOfFMXMw3EHKh77VJHdQpEU3c0uDyO1geJ5ixuDVvbBb+g2PPY+MzTjx/zzOEiKGyqlk7Sbgx2ItMBcrppPbtdMPJNOeK4T9twx8lcZ4Vvi//A4ajmBPxW4PBKiknbEr2OuxqQAAAI0Bnn50Qn8BwtrwJBmSPk7pU83DPDhHcEooULcNZpXAtnFweIkJ3eIgBcXbH2Dh+wXmKJNTAyt23wd9qVm7492ugTih74yEGB/mEMTV91iW896x729uOr2JzjoW3NN1vMc4TIzB6lHbN7PhKupMDI6+rI0wirCeOa1lj1Gu8CeMet4lZ8vn3zpDqhNgoYEAAACFAZ5gakJ/AcN5o+gMys6amZeKgEhvZJGYYmVYngN1MpWfpg6aABMO2AErCLZGE4lDU/hnO/ia4JXFQRGo+KfBy/eWfJ7K7RDvHIqNSvLvBYOarrHfDLRw8kXdBO8IyH0lq0bavRvX85vrgmZd3aftm/CTktsyOO6AU/6VveimYSIabaBDwAAAAQ9BmmVJqEFomUwIb//+p4QAAXXmXaObyh6MxiFNAAh+HkoopdYeqzAstVO6UNirh++7vAbgBxOLVwRqvJ+p0t0wP0qAoPDUEK36/MH3KOmvFZItjTLeQUcEM5uIb+Q00XJ8vnOgtQ//7EIjY1j5zezBA6WdraAXJnTD9R4Fbxfa+BfAKBUmgB7z8IfmZpidZM5fFPbuqWF4galy3vfdDnUn3j/eIkkGzXQq6kKsT7Ug3OdyC1aV136zxx0aPZt6ksBVg/gOP1txnB9AhqJbb4a8sueNrYno9arRsMzMnnrLmPzf86mYA8ozMotwJdLsv9rVkm3cTFOuCoqzdVokSFfnuKp8B8pi5bkU80BrOnfnAAAAx0Geg0URLCv/AWPk+XcI14WVZE4epdFzdxDPfrux3gIUh3clQgBWtVkKJaaZZUdvxb/Pd42EaUg/XBItHp4hYT2kmokXBgr+IzFsQeDJViASkP65Y8sTjfyDmYwigQqzv7wKQe3qOnnZgRTe1BcMoaydZKKBob87QMJyRfhuHZzK1TNAQotS6f64BE0+6kw+Frj41zsv0iXuhuymCRPpbQfmv3AsbpyAcZiiOxhV1d14YHXaIfAVQ+2nQHYIHSiT3RLxSTUmC7gAAACUAZ6idEJ/AcLa8CQZkj5O6VPYGb/LY63VPYgd2HuCPcZ9HgLzOXhGJ2f+FNM14ALPUpaBrTZe8YOX35LiCQAEblnwFKIIfmWFyssZuIcp5IotQpn+q67RRlu4rPDybIPIM4Z1ery+2FM8xuynA/aW955i86oOHmfjAR7GKXYzNDE1tcuQvQQI3r8uwIvUuj4sv8qBLwAAALEBnqRqQn8Bw3mj6AzKzpqZl4m5+NPIYgNqgCt9vZ0H0IAfMmTA6DjkuTa6VTuG2MDMSxelkpO8Iu8xRzVIbpO5tYgTRLS6gOx0nhDTs28miwXeSLHRUa6gOVTVY7Qj2uj2K3Url8Wi8wRV+SKm90Uqkq1/3npjUc3p+Vs4fZPIdPHJeDM0ZvRqjMSKn+L+9r7epz5/qJWrYvGujbu4TUEpRN3UByJK4Igd0p7F3qRAXcEAAAErQZqpSahBbJlMCG///qeEAACSqMk8AF2GpHRQfX2vHuEIrGSkQUN2I1jUDH0JZtx6p/ZTH/ONCMAAOX03MNLbEgSf2MHmbpsZZdpC9med8UAKddzLGcD+i+7dl5GqQ0swFh8iMg6UgJL6Pn4gOTPQ8wgYSkUNlC2B4g8PhC0mLo+rUXf3IJWrNkoObJ6kIomA7m2qHu3Fu85ANacqcnMzCHmfGohy8/UXO4PHDQEGDKfYDBM1FC11tfIGmSniEgAtohDLgtNKSiUlSsTPU0AymtpGuqDu5RDtKBBdgvemR+uaWamo0EiC/vOmvQTERsYXy/RiG+7aw2gwlBlwEtE4awaEqxgQHAssGvZ/83gw1dCqkP1CL2BeYtsAO2WtrMi7lg9zlcmSwX6QUHEAAAD6QZ7HRRUsK/8BY+T5dwjXhZVkTh6lz2MBrHORRzDABGBVNsX/zPq+mhBtq00kH+ijQiP49eBmpniZdaQQfCfgLSI9J9dw9ZQKwELa2XGxO6RjAID64hNBUCsPkBQmjHyge8E/aXwB1n9PVd9SIn6fKQAy+0v/49N4ZMZO/HdfuYDeTHQpsDLghxeNz6OSUZ5l3FrbBuVYVR2sIufBXt7Es1ZqSgv1JXJb6TawEZoTTJspZKjCKniAvThOg4DhIHjdXMVf0X9E9KLN/i9NF2DfYGiCzh1Nevmpqwta1kE0TwYhovrKcNdh/ZlzEH8Eod2c+zQ9QY1GqZSEnQAAAKcBnuZ0Qn8BwtrwJBmSPk7pUnsPVqWPS24QgCPdwA9k+NDBQ7gV82g131uvvKmF4lKMKf+ZVYtnpbdmpQlnVrcBt5BnkyYSLhNQyoOZmtQFdFcmFYbvQyouhd40TULtZgRmoygclWxGPgG+TYeCinuOUsiPDMf7MFWmb6E/w+2M0eQjnp849lmvzIF809kzM9PaxaND7LBtoEoeXe15SB+2fp4Td8aBswAAANcBnuhqQn8Bw3mj6AzKzpqZl0tbJQAvHpzz00PHg6qF+kHn97hTIfwXP+KNG61Ofb2J21PHsIju4hMKc1dwRTVIfQVHoUkUQjl2Zif+KTvfgp9BBm668UbRMrmKQ822b7e4TOu+10Jw3kn6bPJ0/29HmydrrpM/HJSVZeT3d9v6g8I9XtaRgSFPRnDltmnTPJQGDBcwWHiceTiF3thoHFrf5zju333mpW7KXX6x3pbaib7YGtIJbRdzJU8xIUNuOBjgnW6lHDf48cAeUAf4OcV5+OnmOMGLKAAAAS1Bmu1JqEFsmUwIb//+p4QAAKRv74UP1AgBYsn707AC7mquMUHyRt2N+uPw3s1IOiTOi+q9EeVP3y2Z3adtHjGNGBKeKSIIwFFB8D4CBJpXZOG15aW7to6INFsYcwJI/PBGiO+bZhVgvQjn3p7ukAlOk+2dqSuv1nlJGVZCwV6u089pzMcOOy+f7pJNyKcA/ihVhl/8BhI8YcauN5OWRbgNqfIxJL0qbq/maeIUmC+O0QbofEYppITUdOzbEyhsNdToPlGPkKyidsUzd01FHPJ6Uo4GAcGLrfzMMDp6OzpD/knI581E/9mWcVQnBbFn3yeHZ2prLzAuZLM96TH1+Lmg1+QMhQCGzfMMCsXx3RKPn4G8DkQoLM/NgS0m/dVLB9u/YcOzu+DzBAGoTInZAAAAx0GfC0UVLCv/AWPk+XcI14WVZE4epdFwyk67hHeoKe6AGttbNNRv0um9HfeUxTHyCx1U5Pz3XBg1kCNLuqCiqs/5bKV/XuXh/da0reiJ/qkSBCwKHR19obR6CjPVbJPs2BrbkqJeASmyEAHQ79nGQCdgYvpDFhpjnCXwxeFWdAgVC+TgDFIxHRmLPcVmTEp/DP/0YBBHfSfXrL9czif31FY3AjsXognuKxNh0LXOFotln7OZLEc/yH95AGLSb8JArgNFe/YeDugAAADWAZ8qdEJ/AcLa8CQZkj5O6VPeKe4eEPgCHuC8d7FXsgT7knAoFlwlUbCt1FPItKfC8hA5zCjqyUHizaCBj6ccfhNuCweXG7QGmjfeOd89b1QT77cJD82Qb+Oxer3mezPP3i2nOmSh/SwUFXBKDROo5qgBgGAAo4CkXq1YzLFp86Ij+2dMq8Zqy08qL+SmsUfahA9oe0EYtmThnS7n4YKK0tr7KaEuoc3GAyMt2OOKyrC7iiHTbPDyOc2rahSAEHD0RrI/0COReboBp72kKehMg2t8xaCbgAAAAO4BnyxqQn8Bw3mj6AzKzpqZl4qGDdxjcYWxDY6AFcp0wC6zkvfL1cYTO45AP+L26Jt19pqMKGhqJHbBx6Yn1b/+Sbaz4eqIUvA76T8R9+tTEWS9ITOLCxyrlThbB+uaxP+6QdXWxby3e+ROAdWgyMrQ4fREDrjnZEGj6pn2L3YfG5Eb1s09i74beiBlxvTIh8b70BjqwRJPWch+L0Gpkts9SIbsn3nIBlh8oHiLt4XCEoYvlHtNdUeZ0KxgM1AOSyR5FRzeRjf7y9c0+ng4X0U4XAsCBC1d2MNmmZtcz3/0L4USVpQIuepxx7iAQIuBAAABOEGbMUmoQWyZTAhv//6nhAAApHvCtrb1USmeAD+kSYEGyJseFnxy0+xUHpkUW9Ij6wZTxa0s6W1zzVTp684h4h+/ePlSsRWs1OilHPBDiZaUtVFGlR/143JHTF4CHJSYrKRbSRcQdV5dC0VGLpjlORqCEc2dAucb5o2LzwDMB63NGLWMaVd05D6PXdV2TvtAWstPeh0dKjw0loZBiuvoe+0M70CcRRDFtd9I92uFZyjvDtD95TxVmTfEzXYXYNGrBiURwDJMk+oXTn5exSdRpSCG+QfuUl7zJTfsU2RCsn8bA05+G3VsAief5SIFk1tvLMa7ajeiEEkpAoAz779cgdkPAtOql/z0Cbs/8uGQjtkJHvAc2d3+sxCc2CD3HDEdRf+lu/cmp6h2BHb2O8orSWfiMJ8FJWtswQAAAOZBn09FFSwr/wFj5Pl3CNeFlWROHqXRc1r4aV6TNeWuXgC9/EQASNnjth4T2YkYSVZHo0LePkMwD0rqTcNkJXT2wXxLnOSND2Y0qySBPXvbiU+G7SZI/kG8+o9OKAStUc2JuSUztYwVYIMlwXTZZYquqszSuaqjar2uAW/frDv1bKd5F92l6P6fpiIgUFID8GdQ2aBvUeS/Wnt/wWoT2FnVDI/6KoRKl1sUaMTH8MzszbzOEYED761YmhM0xD2rmvWRDbpqFpkGHpVsWs7mCP9BypnSxIJfOPHP+ogeY5o9LbX68+ArYQAAAMsBn250Qn8BwtrwJBmSPk7pU94qYpaTfpIXIOhwA856N2DXtX/NXDjZR1JuNXxdn+uKcdDYgdWLP2z3nLirIC4r6007EJ5HfSTPzjEVBI3yowEIpBiAy1fmlvbMjC2u2hQ2Hty2Ul70PUGw1mbL5eM81huka/rrrH9OjaxPbQZMpugaV+/GUH86uT8kUXDFhDRSzOT8ofFeZCqCYk3PHntRFxRSl8yr2M1FWC5XmFNzaeQ0PI5VTA2E2pRhZvxW00PE5icqThlrRyAgYAAAAOYBn3BqQn8Bw3mj6AzKzpqZl4qF+9xjcRVFzCABXx/sly+sOOkb5CTRXGPAz2z8rEaxVLhT//eO/vVtVSfCIFrpdPJdbFfVeelFHa23xXYuKIKo66svtodpfwfrl2D9HqpCd4Wj/DCM3xic68AQnAJ5a8CtY0oKCHbSi5QjRqeCfIM9srSwcXHZEhUeLL74hqtz58YcaHybmh1A+/nRMAt/o7ABC+kQZSnFRug6j/3KEBfdV+NgR1hBmxS8jLyGm4RSMDZzgaNZfyOIaiEnu2OAq8GjApKSQS4gYo2vOli7gbUPiZwccAAAASlBm3VJqEFsmUwIb//+p4QAAJt8jX7HhR1H77YhUgC+PxEaLxx3elQC8ISpBzeOVdHI/bY/wIpKiKne76fLdNuT/Pqfgm3XDOKl6644xw+RqtlhskSCWowSdQynVKtuseRW7A+8Zuk4QOhtTI9oUPjuLhycsIjJMz8hWxH9ZztkG4syZoehaoCEFFDaniOYzazPzvY5Tko72Xe8zzkrkTq2d7kIj/xt/NeLdV8jnxQ05UQWLx7wkSZ3jZXFoiVti9P0kspNdtLB9x+UQaHtIgpVxngf49/YRW5Vy5uxUrqsxz49QSXPB37j2xlgTlFZzBDVfomfO4lMIc1raEnnA+jzSrwHacfLTkVWC54kMG3CYA1gKr9xLxNgi0adif0du0k8rv2RzWOCBWEAAADbQZ+TRRUsK/8BY+T5dwjXhZVkTh6l0XNa+8HSAKPU+8gi4xg3ukHxkaPZOgBLRzMAvGUmBfRHg/wgudvaO1pylrn8337G0+0Sptir0Q6owkP1VuJCGlWImvJ295Q6Eobmbrnq6sqbT44TOSHC6y6KC3dg01HX6CVjQ2fXi4DcP3hPqlGeKC59aNkoYAB4LaM7E2yqE0NjY6+RZtISDQWxCb6ZKWLQO1IaDSdeZH0+Xwe8YWX9BgSFeVAIojUotqYgtwD/1mb0DPk3bEPOavaGJTUxtBI9WRqNlCJgAAAAvwGfsnRCfwHC2vAkGZI+TulT3ipuYoGACnaGo0dNWBkDAY0+McESLM2f/tfAgjKeBQDGQ64x8SGcBA1G1XJxh7Nwnw1x6AhOrRmwUEht0uJRXCXRm0hswxWNbrajTd1eha+AdFh8jLthk58KYh9BMI0ZljiqLjMS2lj+M7o+fvzgH85WrfQ5J2jgUcKrtXKP9dWy0/5FHAoj4dOl8LxuBciyahuvWTIY0bVd8NGRhiAgxSdSkAaB3flfOmAZGB4wAAAA0wGftGpCfwHDeaPoDMrOmpmXioYPIwZiLheJUqA4I2pm4f2L3IHXdMC9+RJTb8U+hqR3+yAAnHkxda5no6DSo+hcNhXjiHql2N19gw/k8HAGA3biw3jsODHPBgndZcLbV7WuMJqO0vkEzpbsh8olWljx1GXITvbOm2Mx3U9KguO4Nk6jTbf0pAX4zWJJ6zF869mhPYexGOfxwU4Rzi7IiXMsxsxRrTnshTMxv5+Lxg28HzXK7THT6kW/EO+gtGDtqU4ESmMVKlafo1M7+PY5+v8yAVMAAAFBQZu5SahBbJlMCG///qeEAAA2PCeZLEOuX4SWABo9Geq1+GUhvMj1TnRlF6ynZb63Ipk40JM2RmL2xABO6btoXgnrXJMvnNZVMi94wq8MgcQNYt/a+DWeAeBcBtx0UawEE3eGd6n+31UDmf3lz/aBG+mfEPpIplu7Mfj6F44e/ckZj0nxZrdkuVV7pDoiWzsItapnvj/zspWtWfTJWcOOWIM1uvOoBDawrZh4ryZrs8smHVFY0ho2BoTiVeznoxyCQdX15eoYcQeqrlu3b20GpGBWNRF4agWzfOaWoLm1KBXzqfveXCaE8gJY/R/FsH9VFDa8N6hwbBaXDccwggXf3vxjmZWoQiAjpB7BxEQJV7aFrN6E3WSM5gfFIEp28QqEdtoEtOJ4VwUm3bRni3xb0X7T81UE89Lq2Q8//ci9523QAAAA5UGf10UVLCv/AWPk+XcI14WVZE4epdFzWq1hKeCd/JPwBuDLT9tT85fc8rvc7CI+p2ExgKgm62Ehq25aAwyEc6TsnqwA8CYAw+42gHc++FbYOlgj1X2EzTJstJuCEzwebs7hXeGtgqlAgQ46bEkbAjGj1k6EBbOYjDlBOurXHOv+YXTjC2n+aLwBSDo8/k/ShC9NkfKz6mQEpItvTqWj3x/tdelBpAV74vk82F4MXuXHfvjAUC9lz7uIbiG8EB/v9OlBHsz2bTyM5f9g9S4G2WH5gQ216Wpy0o+qWMWg/U4fIVYwDgkAAACyAZ/2dEJ/AcLa8CQZkj5O6VPeKWOj+r+8HSyJC62qe/eDi3OABN+XFE8B3GiiSy+IuG9YEyWHeCncFfkVCB2Q+MWb5HyBbxLNMbv2i80KZgJSgQYgYEWFN71ZJuheqUzsdehl91rYQPE6sNl/msnNlPpQM4IOXJ6WGtMXObR1KnZRIY7Q0QrfSSBOlvyYYI+BrFkhmmQnuhBarCiUVB9dQmtWjfrk8YVh1CxMaH87L/kWUQAAAKUBn/hqQn8Bw3mj6AzKzpqZl4qF62NxSvDcgWFwnNRCiyIIVFjHoR0V42QcCpaJo5hjIM4g/aDWzFuUD1KyWuxL78ugAsmX6qIrlKTRWx/1+HkVzlnJ6R5CUN9nr4mxhgOo+geOGkUWZfLpRU55y4GmSKftqf0MjgRsKQb/y7d4sjiIsbxXlyJ/VyZj9vDuRzBVhzXcqjk5tUZPYg5wkoQRroaCxBwAAAFLQZv9SahBbJlMCG///qeEAAA7nCef3ACWkwr+mJNtb9boINB9Conk5xcP5DXRBqLnnAZpGGCQJhwp+Dxm1wYn6zaCRQHxcApZfuly51cg7FOzG3pK6Kqf9Gv+Oz1ot8pvENsh5j+DxyejYkFLwqxa36qrpQsQk3aUA0Vgr+voZLYmc2p77BX6udZQF4Xy7/uLVCvmWFHgybK6tTZjyX4v70dy2jY48ouqcpj+n5B/p0bUNoxrxIHNQ7Ans1IvmCBRpaD8K4R39w48MS61GXq/0ciqa4tGIfpX9JsYoOOa9re8HAhChUO3b6ZjyPh863EKnS14VFRo2XBOPijB9hJpNr3CwAm/XR1fk3DaoAxRxyu6I/huC35BHS9EOldDdJVnRaU8m4POppBSy+nhFjpuctOF7yTpulcxKtgWulWpDeCbPLTLxmREIyQd0QAAAO1BnhtFFSwr/wFj5Pl3CNeFlWROHqXRc1qtYSngvpseo4qRE4cAOMU/dQmOkYV5w0BFqPLXTc45AsBXFgZFG98DvBoxYQ0qTPVQDSbB2gqCk3rBbITIZV5B6Sry+olsJXEWGYK3/PKrFkER5l0C0lD1ybnjY1jJ5A3AT+LMnLhwL4lRiQVKJt79HHr3z6uvAAYmy3B0unVJeixHKi8iCQ/4XWm+Zp/OcICl51zfgAL/dgOvdUVeyh5o1v7ZVSw5Wr3QySn3y8aXD6cgDIa7BUqaDg16KpXDjb9huIbS1o/m9HhuxTZ3ytfdQutR2YAAAADQAZ46dEJ/AcLa8CQZkj5O6VPeKWOj+sWpT/XDD5/DwA1028TJx8tS4mNW52IyA0mLNAtjjBgplnGhAJ4Qcoxo0+6hS1/T4FCbIbr7kpJsoe/IaHK8SxFymmSay0oQUlN3hXMrSSgq5nH0J0un/7JE6L8BCeS6NLAv66LoUtoqQMnil6Dsv+mca98HswOniTwMXyZWRHV1lD2smcGbQBr+03CazMN6E283mzXUi/Kxe6unt/gvTtr9b+eeB+/URwS9gDpq8gH2NbQZ+xyIgYs2YQAAANUBnjxqQn8Bw3mj6AzKzpqZl4qF62NxS0E9kq4AR7iIfRNnREtStIOQs47GL2B2NFKFd5ht7hNUp1d1KAjMChlvP4R4pvVIKXPadAL5QN3zaEbSSr4ed9U7RAuj1iNEAwq0jCQN5esM+okpzW3PNXchhiDmEjSWz8Ss6awEnExMri0qmNtIT4zz9EiS+Gp+erTGYR0IMmh8Mlvi4SpksJUwYeHbCpz4iQAdCVkaNyQs4wDhnTh/7X71+7Qn7+BuvHwDtmvFOhAmAT0GBRr+B0OKk0vOUxcAAAFlQZohSahBbJlMCG///qeEAAA8pAJABGVwNvYp4+5PtBxesz8wKk8ctG6KcZW6FVe0MmlOM+tp2avdct1rYmmyL0hcClO4vhkYEDJ275ESE4M8gKqNlurwzstmAyF2E5+JtwPQa9tukLFW3rbBfPVZx0Lvh3WbW/oJOVN1Rlg3iZDluBf9BPIW86vm+yEN99sb7dXcQGIuL8uxiHEgGHxj1LRYT51DIs2ZnKQkMK2OgDPPz+YFiUIdCt30eoAmcpr+wGP0OmWWMdHL945WDOZV7sWo0HYGz4ZIqZTcWTQHbAWoGJkV3iLoSBzeqlDj48+WzbeS0XBGdGk8iZ/pvklSUyYrXgLE9Cbixw5aS7SxRxIBmPWKAMc+B/+IN8+yBi30n8nnCZZyydOKsTlDwmZb0i0dJr4x5YXe7RP/c6L6V1qTQaTJiIhpvPhE1cxisB/WIrcTcNBoY1NY3jGtxkCaVvEVGkrBAAAA50GeX0UVLCv/AWPk+XcI14WVZE4epdFzWq1hKeDAP1BfWJa8xM/ub4AVclm8gZ2lz1wPfboGe1W0y0uCQpCK7kPxV3qSFsiE6c4ZKNpUZcdT1ZZ7AfXLxcmq+ROp8fGweYXKDNUU9/Dv5LZup+gDrDgtvZgFp7oINhB142OtIHNrdOtxpAweol4cSlSt6RaEYz1XnENe0EODovN1oQ2NSthflYZfNxfAxjaPdMQVtqyJXs5iLMJVnvixx0okDLNArfF1rS6CAYxCB4e6CpPgSC45fQhbF+jwTQBCTxhNBTlvVowhwIuyoAAAAOIBnn50Qn8BwtrwJBmSPk7pU94pY6P6xrnC4F7htAJhkcZDTofruPhC2PyXXqOAlNpdfs08W+Q7H0ZNhWNF8ZFYWWf1LN9U3w4W3yEEoAFOtPF5J+TdYxHbmP954Wa1QlKDAi/apJjs4Yz2YMDebHD7ZuMEfm/8Fdp94AEu6nUmZg+t4JEtpoZD2EHjwTNRKDx2zYTnsK+VBUeTtnc5KtbIq5P+fH/Ekby63hykfGxDVssvPj2UJmbaWjhaOAxVSZGfNBbvX+crfySURCTircxH6i6w43YQelw8YSNJTRSHUjuhAAAA4gGeYGpCfwHDeaPoDMrOmpmXioXrY3FLR4kNy9EkiAFRBzaJs5cVqhlFbyWCuPrNu2ohY21axXz9W5ROVnxOkxt8rbvstomsxk/lkeo543MgrvbLvV6GT2GZj18WQaXz+qb3IXhknFKMjOym5vP1c2stWNIEg6tNdZgrqnx/MPCk2AZPpGZVBdzfSs67K+EEhkNsUH2mBs06ZY24vuqHCqsAgn/nvtha86Qx6K7pD9GBBQVLt5QsAJn8YrYuvX7uldfuWEATzMZ+Ko23cPMxw+iP5AvgAG5y0X5+cVUlxB+MRsAAAAEwQZplSahBbJlMCG///qeEAAA8/sqJOu5uzLGSJDbOVqbIirhKGhkZtkUVaDzYSMl4k3GMP1pb1igXZ/UJvbBNtf52AtHNXOXqkJBMaUYxHzuKhKW4fJRsmBHSXfI0fpYPMJFh6mc/S895Myo3XVRpaqd+BvXBj/dAnjqTd+aCqvn6qm7eeGOGtjoi1yY5/e5KGE2o+Hibupb8ri091w4/aiubORbFUjSfixeNbCYSiAtu9Hl+KKfB2AqVbwK8wn7thz4Y6zxrseaGiCzoPgIIP7rkxGBNxJbshGmx/bSB1Nb1sIbjy8Y/DPYwOKmEQnu5L0B8XGpXSoj8QIbLJFVB21FZYAUUBIjgJpJPVE9nsx8sxQ64PiWAydZxK0X1QD5B4WEXgdkwcnc2YypJXj/rYQAAAN9BnoNFFSwr/wFj5Pl3CNeFlWROHqXRc1qtYSngwSgkVcQC9WxAgdj73krNU9NoVQjwAXCZjtKvYhRL+xIxvQP3jedzcPEvtPclzNE0XQgPO2YPbhlhS7EhdkZ3ky7ELB0AjEjc8rzAAvksKFpmlCBDTtPNRnpwPxO3E0VX689k670xeAMUKGDLURSOzXmVG5wGACy7IfJGqQ/HyqKquii8y7MgJQi9a8FfPlqUVwp0+ZD4fCWgZcSOZWLVAZLSLRQrIMs7o4j9bIIrXtm7w6DjOBuj7pK1yA7U4xW3ijtmAAAAnwGeonRCfwHC2vAkGZI+TulT3iljo/rHTdMAC/2Ml0K4GhfRif5jb5cGMQbGCow0lnBkJT0HfxvDdZhyU1AVaWb//kBtE+3SgQL3P/RoQAU9VC/ALWSB6UbwPV3A/hegTkJXtYhuWLbe+OpU57ypU9n6SNqFbJvs0Tkkr3Zn4Snkmcx/wuvOnKVDWY60EX3Fn62NJCWWUwBEYMVs6YCLgQAAAI0BnqRqQn8Bw3mj6AzKzpqZl4qF62NxSqJ+9vV/bFmPP9LbVh1UZCbwA3MCdye++4oqICrFZK9+AHTRWV9im0GTiX5roKeszCmc7unL2USr0p/8LryKTE/oeADx+EYcDfvxmOO6aS5iqGVlYTkCvGdE7/ZeaWW3t4oqU2ji8AyrPZLuqhGXaozU1zLV4Z8AAAFjQZqpSahBbJlMCG///qeEAAAWzf3wnBCmACIPbRuCqX+NYeM80F0xBFQVSr+WgwHxMp5uIHp0X3vGaf7LOBiTPLjmtqaO0p0HhGlCMDGwPxZOJyab+oYBhILQ/cC/9Inx478usilDTXboTjg8l3Lyn6WQDjlKopaMMzVzaOukACNLVIM1IwZfgqpouAHdDfCU8HrwqXFwPfqABmObYH/j3QJFLR9BDY54ndONeyuBSJiBPl0PLsvCP8XcYcVORrHnn7v8PTKen8DbZQzApDlMENV+oO4ALCJRU5LYW54EUPR288IRBIfYLZ7LY1SM2uywDbRntVPloccmJJ75z6GI45UldewGfxMOA6Xr5EjCiIc7C9M+cmthfd4OeSW4QyhE4cjbXN8vO1HNaraYWe+P0JEWK4rM3g3Vev1i7CIAgHj04neGtA+484WSGW/fu1GZgCqj4T01AzBmDjjCrReGA8U1fQAAAQhBnsdFFSwr/wFj5Pl3CNeFlWROHqXRc1qtYSnghDdZaqFABx68LBcjZJbFfeVoUamBMS2vFjt8i5ASsjX6Vjnj84MQtGRBhpIqh2wjqxL9ZUaHJzk1l4cZnHLiIL+XyenpBMD6ozOJ0p1tOB+dzzx5m/H0E26QjsMZZZzdQ3uVOziJU3TWaiBTJlMHbZs7ldWW/fe224hoyi79tpUIJ4PIAXNKCiHE7MIAsj1DAxRoqxKK/2LQmhtJ0LZ34fHgMkBn5dLGD105G1h8HcGtWSsF1H3rdSHlaHXmfGgxlVLKVZRY2xwRkArfvI4soN4tmeseR24bYDthbsrS2HtWvM57kIP8Q0GA3oEAAACeAZ7mdEJ/AcLa8CQZkj5O6VPeKWOj+rooWPQI7OC131oUCkH3TnGVzI6jfNlxQ9oMoQAirCc1Dsm2Ifu6ObbDenaU97iHl5OCB/+MZxAN/X9EsP0tIBpIzb0U+93AJBcu7GZEyfxiHjlqKHBIQPUvOHNzg4KGqQBEtUydOVBW7HeoQOMwR2BNNHy+TAU8yBGLZSVlvBjysfmzPqQgYEAAAAC+AZ7oakJ/AcN5o+gMys6amZeKhetjcUqjTDiHAvdEIAEVd4v0Re0mSD4MBL5iizapbgh5T1MvmygBRs6JEMTst9By7ymJFGAhv6hZy3FhIsKIxqrA44xCnhhxqOkoIXwZ3nbX9Mqr/FJ9Rm6mbIRE76+y9BgAm5sdJYY1bphWgAnLNb4nxw0YeCH/v74FHbckNB55gLcBEaDoCbhDIxMVL2fpwl67sks5T7NwXjLxNWEtQmCkgODeL25ToPWCTgAAAVlBmu1JqEFsmUwIb//+p4QAABbPcU8J49ZyrlwA49TaExr11GryHb7n6AlZPVd1kVV9Pi6BulaSqt4dLoy84bj6hKcMpE692rPW5Kdu4BzvM2WQ4CnZp/mODptCYF5pwe38uHtiljQRXKJIfcdmYyt8XFKuTuVTFFeYRcxhpDuMvsgmiZmXEpHJwNtdmocCc0EaKCIfNY2e0O93YqPi/We4oULBi49y61s2BksnwOCpylTq5CPGD7f4RgrrzuJKuRma2Irigyaezd0mHOtJhx3h95XTCOqr7Bbm+pq+1e0XwL8S59TGXrr7DnJiPDTFj+52kgummMc/aRFu5D/q4mHeR2mhcd6u3Xqv2/f2PWZvGbNHhqLq0D6hZ4zRC04ziYNPQDrmWY04/Swj6lDYhOEpDJc9Lnw1Va7txb6mtOA1MPOFCMNwJ4+FQiWt3uxJpRcUmu811FxQ1U0AAAD7QZ8LRRUsK/8BY+T5dwjXhZVkTh6l0XNarWEp4IR/7YQAIAvkFWUALeA5pgO3heAC0pwJKUgF5TsQKgXBK5KTIH9/QaYqgijfJvgEOxIhqJ4IBruwC5xrGJ9N2qtZcYy3vIx5U+VxBA55tIflins/+/SiBAHWvHodL0TH5Rnq0vJSfd7ovfZeVf3nHzPtCAbMkA0/1lveIDnw2u6TfAESt1K1v375F7i6ghOUGa6ZDKeuFL3A0Cb/GHnrH5B+wQxF2xbZL+khDbQMHMdqhK4+ni7JLm/GKDeOfbrw/z6E5ud3FR+GIduqXerD8IX4kEIFc7RtqRQ5J6lg29AAAADGAZ8qdEJ/AcLa8CQZkj5O6VPeKWOj+sdijkk1E4AR7hwvlKAGoK7sqokX1ACdF+jK+4JlLHtASeNtW6HPkn9o0DYlZsKP+lFOs5D226UtY52o9AfoyJ0Qn9NqhFY5aABbTCasHwS0wJeRZO75RKCb3R/xo7qub4JLxRfrHrNd4VJNpsJe3RCPJdgw5i2enHI7FZxb5rllUY/ptfEas7f8Qi57Qi/iPNrLNaFh/5xOReCRmo3/XaRZpT/2fcnPZtgfyoQCknHAAAAA0AGfLGpCfwHDeaPoDMrOmpmXioXrY3FLWG7wAGWI9YHXbKQZ4+K5+3G3a9GCzxqyuBjQAv86s7E9oXmfoxWUn1d96XHu+QVskUZXVr4aiOWAtCaDZFENkd7apAcR/khSFUv0hp0Y6qzku4aNO9+WeLv0l/IqLI7o0EoSQmPw43MlZjFgc9xIAyXSm5W9FeV1y/U3UJUSgirNyLDz33EeXwl8nKVfYlzX6mMLFrB7l6xp+GyjQ6qkvJlDGmelL1OayHCZDBiHfSYBb7r+HmxRKRkAAAEbQZsxSahBbJlMCG///qeEAAAX2LkgBQbS0/G7V3GGHcxVug2wl/EKzwnkYHYLlWPpBKP5mViASr8AjiKj2G9f4i3tWzkn27Ig2Rx7fDKgBbOUhKfreN6aTCCKXVl+eduYMzP+0uMn72LCE1dcaFQ1ZEUWWEf7j1wtgMbjK3iy+hvJhay4+JMmTMRrSA6byu7c3Qjh4kdW6pufBWvvBldoMoeN24L4wAYXuWrJDCev6KJzOI0KAy3luW2LdT8nx/tgMtWdsteELvRxSD2/xwUDAd1CWT/JKf4D6rlcDsuo4GCIAChOOolKe5y+hSr42Ukeya02iumUi3/A+vM+lQNkaXfj6cjb80peC//OG8U0KbEtbfjQA5fpvm2FtQAAANBBn09FFSwr/wFj5Pl3CNeFlWROHqXRc1qtYSnghHdYe8UkALBOr7S0jhqvjtgCVwdH726Hznp/yj8cD74Xz0OFqlZ01Iz29r9da9s1ASpkNX0L+SOVAIM4LfsIGeV0k2ZBzVuxhJajEeKOp4p9McL5r7+rZ/3gPjS5fbQlLC1tXa2CCkbjj6iwOQQx5Ik1iXJkCNyaz62S3ZltQs7aQ4VkLgLuNw8pIsFyK+SP+hdahXKq/j309sp/C83dm4ZJ77+E8ZljYhYfYdu/L019bgi5AAAA2wGfbnRCfwHC2vAkGZI+TulT3iljo/q6LMR51z3lrgu+a4AjVTA4L5bXrsaUPFvdYO7uCGiTtSt4zhsZ9USVaNo88NiK4ifzC/awNNnLuBqkuyTDmmw2tJ/CMspIVEOqFtp3qWBAcfUR2ohnXC+8LDMxZRdD/QI5eqSRyIjWcThrlEfb7ucrAQBaC0rD741HO/c27p95vVEzH3NHJmw884zhLBU/7uIpTQ0+DgeTVdOeJDBpCwzrKYS3HLRKdkNXdW7wQwbONuK7lwOnSPtx7qrJw9kqqW9orXnruAAAAMYBn3BqQn8Bw3mj6AzKzpqZl4qF62NxSqPf6YgAQjt7ETA29jbLdnew7Hk6mwtgRjODWBkTYDdtDeIJTYG9rIUPvw3eYXHBHJZDi3huYWS9M1Xk6YJpFgwGXvT8QzFjbANBhw7qH2xFjU2ReXqo4RxiMlE7j9QpfmmQKCQ7zYunIC3W91ToSBRMDjUIZHefNO91O/0mq6OXPN2K0cS07AgE5lsRIsh1I8huWSZZKNBT4zEsN2lHykPPDv485yhgDQ71T4iANWAAAAEVQZt1SahBbJlMCG///qeEAAAX/2U/BceqSz+ELpsAAuq5CQNvcoOJOzTbBjdslkqFsWD9SDMXxUm7FNJ6iqHCGEQLtTfIEbUxNCMKGeaDBd9367KOmDUCGJgH8nQJMd/WHf/+Nf0/D0VvFg0BP8xoOC9xxtuMgl+VnlaeGvl8WEtLeK1SMJ/yoiIoNAWlfWYvCziUvc9a8tneGfwpxEBSpZEUBEmPWtOhVBp9k+HHzjl4IC7qK63sJgPZ8bEFcvNJbwMLtbmv5kseHiIZ03EH4ASJzD6RvqNOq9G7mOEGNipl59gguJY8LCublelgbcgtOrEG8FTd2nhOpAjWFSxE+JPliwu9YppFJw1yE+37USyTlhPb0QAAAL5Bn5NFFSwr/wFj5Pl3CNeFlWROHqXRc1qtYSnghHqFWRsPVS+jZll2yOdPaqHOauojfb+eCltsq3kKhGUEwoARgTfz609YsTAl6QcRqQ9aTacLJ2+2H8xdCv1EgwIEYXD3NNnXMmG17H8XEt9oVRXe/LvwKVC5DU+WqUsS/Sk7rylk3MFMaTPO1jkqhDaUH3FkbPXTPqERT434B2gPjd/ayKLyPCovYMKlrKDRC7w7I36/TdFCSAC2b1q2MIRcAAAAzwGfsnRCfwHC2vAkGZI+TulT3iljo/q6PjF+AelOev2spM7hMC83nnoFszxcoBI7N2xHV4h20aav6e5t4iIAxIfw6vMFo2zFSDP7TKBg9Ne+TD94oStH+rKlrypkSok7acv7drYf5XJEYcTotLPxf0BhwXokao9ctofdUd/X7usTmcvJsHGdLdp0VUKTv5z/YXvvcyfN6Xw9XhMDClFYFUqga/44HqGHqxgYQs4OAJ6oWMmzvRN/8WeMOLdqYGwZEWGcQux92y6oP6EWj8kR0wAAAN4Bn7RqQn8Bw3mj6AzKzpqZl4qF62NxSqCezfPtZJQnQKeNkvx/kb+ZoASz80QZZXQEw3rEf0dNHO9jMb1RncckBvgtlbQZyC0J6jFl4YT6CyUx+oYEDl7PfstFASWaDZgCnJ/83sucFXf1BkuL+37bgo+w+Ta24OzC6ExRrGmWobLfnieXXYfNqvAOc6k4ZRLlPTbPBeBZaJdnIDh4hsdfOhasq+3Ii/l/44mfqfQXZrh6xSR6kRGtoHbnGz50YvrA5cGqMI/3oCwzw5OeNvkGrqKfvNvflsHNds6YBJ0AAAE/QZu5SahBbJlMCG///qeEAAAIqo0iQBW9NcdfiYDVN6TDeXPUKR7b/bQ3Yk/k581NPbhPPft7vK9HH81e2W/ftoa3no9o0wOyOrp/FUClslHI8fYgPiWcaaMfBOUu+8ANIRFnfGGa9IKS0/8oLEhbwIdPjoHMdv535W9XhP4wBqvp2E+RubHLeVlnIu9mv0ELQvwkt8/4D01Q5cEQIJbeB4YomxsoLF7oIeQk8bfj8iu2L9QAIIfjO8MYzpi+eoeaLUqISEC4iraZOlMPFwx8ABIeux60CUSOqKxqBSrixTW96n2nnJmec+t5jducqOJYS9xpPrV+XbUsqXdE2suSYOKth1dIom/aTvH902vT2vD0v6p6vbd3HQgVRvOZrCY8P8LlQnJxUD5YeUlglbyZyTP4p++G3yWHrrylgACRgAAAAQNBn9dFFSwr/wFj5Pl3CNeFlWROHqXRc1qtYSngg8mWsMMBYxWHAF/s9Ovpl+XA4D08NEEISbxz/IP+X+albLr/2EY3ikzXzCL250lkWkBdSsafFZAvyWQTniNmQeMDiV0UQcK3ltwcNqHc0W7McNER63w31rj32HvMpuHnd2fi/LaoPEfxV6mAvtjHif9dbJA9WkpiqASru7gEoiTUEu1EoNZjDm2zaKFUgXOGH16vMSiy+8MCria995ppxVb/vXYBEnpUl3BgaTXs8zFTh+g9FBdWnFRBMjvkWh19NuDebpRZtz441WSO3vgRwJDTNkbD3lw92MGEAKgKrjDRGE/YPmFtAAAAzAGf9nRCfwHC2vAkGZI+TulT3iljo/q6HjSUZ74MJoBNJpj8xMrYyY0bfuvPD2LaK8nnmySnoHQvcCWdx+/0lTb+h+Lkm80T2G5asl2E8s5EoVAK7890TErAG5T0vUnhxKw+Vk6BI18EQDH1m1LfK2dwPJ0qbGRzc+1R/8twGGuL+yDgswTtCeTZ0CnSxCO1MxhBirldasCpAAdgErh8wHc7svliufw33Mz924RVHAYi8HkFc6X6+DqjgL9V3KDsBIBGOdB3GAn3OEiZgQAAAOQBn/hqQn8Bw3mj6AzKzpqZl4qF62NxSqCezgKYFgC0k9ik9Dfszr3/ldizUk5PJAwQvi0SQQuUQIxfwq7M9D44gLikQ1jLTAX4ztwFhMb/QpxhwJyo99YT5gdfric/sxgdaIZGAPshz6K7RcR58ko0qQzeIwvTL7W3BIsM/PExHU/tuctsLwn5S7nQmkWi+lunKO4Q0OXGIbjSDpTuotM9D6vtfSLh1cUumlPbrAXFSD8iX0+JyDII0MGf3InEojcw30uTfvYr7WJMLD1WoZW+OHuiAmciFb8ZY3JgWd7lveB+2i4AAAF0QZv9SahBbJlMCG///qeEAAAIt8i03QMALdPyxTwGIgJuLi7K9vD3E3Od/+fZcoxs8izjHbwayi5RBTzYObJgtUy+83leJny+tGPwFad54uiMnR7YgLdFWE3S8nNiRKCLPPfqEQRsUWnyDD1UWArvbgFjIzzW/7VrD2AmAZjGAqf1ETLQkP4+f6kMef3dLHm3HkL6favBEfSiiumPgEjYjuvMOjYJNajFrLWMOVEXGQLc94kknUFi5F48/LSONB1z51jND7t9qOJL7YUx+qqtoBwSEXeLWsTKf9bZj83x2RE4NGUj6h3w06QMkLTBqBac29kyq7T+p29xp2hN7t6EJOxa03Nm26xNaiDvWWPtdHBPBbOexhkNdyraWNeCv5QFGEpG5sIqI/BAEOpxA194uV196d0xGu4PPPpqdwdzz/CR+uDVet0NkHrgdkCM6ABBU2ONv50JKa/7LpipsVkQSTnQDHk15zOGr+sl26b85Ek++4UlAAABBkGeG0UVLCv/AWPk+XcI14WVZE4epdFzWq1hKeCDbStI1zQAAnfGb68mPLD6il6n8dzpaxYcYDFswc5lsVy+onXttLpTinjCtvrkzSJ8UNxeZPw3j2AyFWeQCkZNiOSx1UtqECMQcrdgbCoSEdobwCHqvqCdDoonrWmg2H+i1JP8JtZoB/ybG0K9G0xwDMY2/dmNHL8WGj2wfLkpPHJs93l1ojWwzLx4qqdYBentw2STZmFaEKPCQYCvzYiCtJxtxzxGF4UtEVRtBsuOWdJr4ElnXK2yYbDN8XsWHIf/eUBQnvVkQNylRjxEE5VA8AcfKlT3+fsuqImoGHzmc7Pc8kg+osMAk4AAAACZAZ46dEJ/AcLa8CQZkj5O6VPeKWOj+roF7eSzrEBbiTrQmvACIpO2rHa/rG2E2ne6Yfj6za0GWisjDmjXcXlTawpxVG9ZoMBfaooF/bZ++jPTE82p8CSqhJ55M7dUMrES0sTAWZN7OF4SB3M+HMowOPRnYm0amjtGeemMphKul7lxgVe4avB1nqR9BLJ+9EeV+DDBLilTTRFtAAAA1wGePGpCfwHDeaPoDMrOmpmXioXrY3FKoJ7WHlUAbVLuYgg/2aAQTH0kuAnR5HEm7kdN4+PiBnwYb/PTg5fHkW72UI0Akz95DK6wN6Ia+ZwJRPFedxoHY+1nlXZLdWWCLXoHnpq0y5zXqxS1BBEOMVyqYZR69eWJPloOAtsil2EPgglhIYLnA4NUM6Fisxo0KA1yFG1ena7k0IapuHxlQYgdN6LyKHJJPvrnWPENIqy6C0PJOO6+PxHNlP8pt35zXRQd8Xjv09QppF3RqbX4IcMa3PLmAGFBAAABW0GaIUmoQWyZTAhv//6nhAAACHfI2BCweHU58UAH71o6fQBD9h8idffto5c0Yv7v0C+GO9YLGbm6aHeqXmSuOvdSyoaYHuPG8mum/M3dqJW8O+/UkOKK/IfDvhS2m9N6RZAEgcY6bz4xcfbzpfM+uOgX+hecX4kIAQPjt9Bu0V+Q5IxSfmbLBfD6RyOCyrwsfS8JtvjkXcRu7nk58v59ql0+9Yp/YisCwMc1ITEXC6VneduvGCdDa8DDu+qtgvod8Zg30R2j7mAfTWei3ScovT8+J13bAPbeHyQBtqNCeJuRftnKx3PpfU14Ck+m2aajUcL8eIrFERVNUfr4H7rBNJAg+UxfUM0/rtSeCnlny3bLpmjq53HHfxhTGR0x3oDgN0g683l/GLBpgTHYiissRf2lEe/qJZx58EvmlMX34wk7uijuBSoasyVmrGQScYbIqwd8TdWJZ5WQAJuAAAAA7kGeX0UVLCv/AWPk+XcI14WVZE4epdFzWq1hKeCDbStI1zQAAT1Yo576grBlL59XZ2mVbdj83IIPev10f5omMX9/Dhz9JpCeGflnnpvNg/t35TlJUzjV/mf9i4aJksI/Rn4DQMTjUYP6c/W8bX6azAJ3TwW7hX77OaCfa6FHwyxCk/4+Urrf/QMkx52PfkD8p3vyLC79SKCDam7dhdj3ZzPgLNBCd8txwT3nuXcmoCivsFpGfx7F7NZKQ/kUuogIUuu+k0sj9/JMjMmHbzQRkm4Ju5U6UcMnGKw9hk5JO+BY/IRabW1Nho1imq/aCtgAAAC2AZ5+dEJ/AcLa8CQZkj5O6VPeKWOj+roF7f2hzEQAsPg16qH6GgYYghXRvmqs8dT3wYZHGddkjJS17NirMcrvH31hHmxqqtFG1tuU77aa5LVhuOA5g1ahtmQ7ZbH8fDWQ83fkXfPGCHQZzAfaZ1CUA1lylDdx5z21ScOgXVhhq54vd2CQ25w1AfrEE/rKI5i7jd0PAmkWESknXoGOsEKwkmMapSZC1BKDUKVbMX5zYzuwMPIAoIEAAACcAZ5gakJ/AcN5o+gMys6amZeKhetjcUqgntLGpKCJkOM8z1FmcEALD5V08HU+RbUfOO42srWVMwiqMO1ZfOsF8KcAHBSur7gCAJGmjUffx4U6YpGH+DeNfIdhSR0TMx0RyAewQ3NYKJba0ltsc8amlNbPFnAsBBhk8ocW5M8xqNrrUQvHwOBY5VPJok/ULCV2DVheYGEH1oxpMQNSAAABE0GaZUmoQWyZTAhv//6nhAAAAwNP7KmKvFwctzEEGQXB78IKWkW8fktXwEELHj+j7gObf3GRoZfrjGIvPFg0IqqC7GHW921g+ShvHZvKqFGIVnR7bRF2k6kZlN4j7SSrwYqlg4X7l+90LVUgZSVmmewyNfDhtBg7vY1iyU6AOMtAbTIOqUapfSXnivkwbftOC41XbfiCUXMfTpoe7NYYCj/tb1yNQRSvqlYfj5JUIHzDOTQwPio/r/E7bEYHpHPeTgkrFTqfNHen9f/vL+bNtF/e5Vou04rPp6a693IIEzaZBWwUZFqDJcsR8JkexvaEdsiJg4tQPngRWfZ/APj2n11rDF36YLqr1XDD9BBFABy+p/21AAAA1EGeg0UVLCv/AWPk+XcI14WVZE4epdFzWq1hKeCDbStGoM8EdK6kK/Xn0PgEypiKf80egBWtWbyCCav+uyRSBFqOguQso7Yj+2a+cx7zlNMd0FC/60DsTgsczknN/J9S3BlkNHcrPIx5cwolmpZXvrgKdzrPtdsVXwrG5VAwAByJrm5OuUSxj2yZBVRlMrbMgWCx7Qet5dlgDKt5rvJjtkYC4m1AutZyra/t8EcFlTteUP9xVN1NAjFCPkqDu2biaTzVUQfqkrjrx9Prmrf2zxcfeAEvAAAAugGeonRCfwHC2vAkGZI+TulT3iljo/q6BevmfDha+xyZSaUAF+JHadsC9p9ZmA2Pp5Td1xJJABqTpBdlyenHKIsa8A4Ca+DYLKeRTk2x7aE8aJd0DTCX0MWUzNwkWxw9QgZuw1EmEFv2wbEy4Wz2u0GrrVmIieGrdmJV5i3gHFGANTtxV1g5X9k+T2fw+CcyZnDJuiTHjVEEEixblQOn0JK+a4uPEPE4DZ8SMUvhkr50UUxbS7gj93QB7QAAAMwBnqRqQn8Bw3mj6AzKzpqZl4qF62NxSqCethhxxCy8FA0HU065YLvoyADg4B7NXsOOyj29KsqHxjWV4fA78VFDkt3yaV3ke7e+vrc7hk55+5lLzsTIEun1Gd+a3lJfDV26OckubjEp2PEggG0igSJMX6OLNLOlWy/42cIta+ZSI1seLpb1oRv2ndcNmBScN3i2e0h3lX3nOG8AeBdEqze0elfbjKkuoM/1ff7k+Y6VnrZUaEfWrGPf/XDGQJLGJneZ2nz/gn2EqWRA3oEAAAFGQZqpSahBbJlMCG///qeEAAADATb5FtkBmZs45ZgCHdCS1R2rQJ6kvmi4IB6QVgaDNmQ25KyUS2jhJBHTgrCs8RMLkRQ6IrPDMaZTDm6yRdw2MSj4mJ54KDoeByKW0JoucK/pF8LPlei6NaYYrjDPpXacQrSmjG3Wa1ulFGSrmD38WgGEI0Z4z0c7Jp6IPy8HiW72FzaPwHtNM0t5Dlu9VG7/J6/AXytnDcb9QU4yXTQ4hYoQ2N5wnurfyxF/os1IU9i6sqv3/yaZzxoOJpJYvwLqy+iziiFNFPLaXjrgchGZaJGgm3K3rR+Dwf6J7U1iJFOw3ww0/hrrXbrvdL2Fa1BGvpbcoj3yZArGqCVXxM5ryxJphy+n6ub6hIXECqxQQJfZmr2J5jvyKZxVI6kK3/+8G15Hqb+xhAyDP7J48eogAgxVMv0AAADKQZ7HRRUsK/8BY+T5dwjXhZVkTh6l0XNarWEp4INtK0agzwRqktZDY+GKALyCO/eHuEMFS8DMl9+XwvurcRldyv9ZRvVlmzS0n2pyzXa+X213e01064FZhtgrX0mSa/7UqpPCL6zd1uK/5v1MsUjn3dmPUZDbTpZVnZpJrVarISymW6jzLqR6MLirKSa+O5riIuigF8v6XyA4unEGgtyhiOGNtyXHnEDCt19cYxuYMLd9SuqQeFstKhZC6mcMe+dvpzdgRh3vP3EEnQAAAMMBnuZ0Qn8BwtrwJBmSPk7pU94pY6P6ugXr5nw3pQhEwMDVApoAqySH3MD0r7pMTWzwLZejYH86DgoYdvMI3dd4F0+NKgvXNEvZLOT2WsTJTUwp4CvQzICEKwlTNiKZkSClMHxBQev2186Y+HZkc6zG28VZqwscsRV/NYfBbDrPa+A1MVFQfbuhdjR6wEAWgtKw++NRzv3NvboUYCUfr5zs3u3+RJUu9q9BkJ4Ryyosy5iz+ksJ+4hT3klWgDZjKJhgj4AAAAC/AZ7oakJ/AcN5o+gMys6amZeKhetjcUqgnrYYcft3gAwIpJVAHooRQ2FY3UUhWwsR4dPVGzfgC63QcQzcPTLqDhpMD64JRu6KnnARjNe8Do6huBCyjWWYZVXjciebxXW/BxrQaYeQhK29ixOm0X069V++QOoVPrROCoCe+m/mezvxHZJ4OT4eZzMHh4nM7wVrCmD9KKwdKgyZd2rW+sHazS8lS9v5uVRD7h4vZbtQnuSN8Km6yt+p7Xom2CoVQfMAAAFaQZrtSahBbJlMCG///qeEAAADAR0/ySyQCEZ9RSoYHdCdn/tGJzLpX39jCN12sz39wvbAhpNc/zwIF/ka3ZohSTryCzu+ZDvEoE++HH68nRntL672UFv9v+NVX67jOEmTw8CpVMDQr2LcP7V8/KTZKGhChxtsI3tItUoKpinNPMkQQWkUVTIkZduGQyWRjtCG9MEB8cBnwRGpCEUMKPOZHaiulgLp665J0nmdh7vDO2kTtN82OW0rjkgfHlbIasW7qb7dOoVpvtcaoUyG4JtISrRsf/+DRWIXDVh6nI0GF96csEh6TginE4msglj+gZoiZ/9NC5ekyj7KZ8rlYo8DqllWAc/1+gEQVF1Tz/rpQkAdeKiKk7vUyLa8nC09H6cq9329rJorBHCLeGBGC9YQ5z4/Hnt4ym0CKTT+/VnHBmlZR95tIylO5GxLMyMb3tUDxfL3i8kYXn3e4QAAAOBBnwtFFSwr/wFj5Pl3CNeFlWROHqXRc1qtYSngg20rRqDPBGqS1kINQzZRr7hphRn+oQLJovMeirTsqti6KOGwAG1HanTe3UR7KdyPuPLkGq1yDXtvomslX1FPixd79kfYRIV/ZMZYAv/e6YYekAeDzMM9sWlGCqKV1rpPMWb9hsxvRJvVZE20eN4HTtCD4JDO2AMkyETExKT3e/Z8qtM8PUSJvX+lCF58v/53VvODV4Ojh3+ZEz1e9jblCPRFP8uaOHAi+vPBjv66RNNNAO4gAfnf9tlK0GZBsvmPac4GpAAAAJIBnyp0Qn8BwtrwJBmSPk7pU94pY6P6ugXr5nwxjkLwe0y6CF3j0kR2z+qvAiT7GSSRgAmgQ1gH2BWvW5ToUXynNopsvXlPAaWpVxV48e0D3CnkY+tp/Y/1BXrYtEgoRpt4E9J++XzeC1ZDVCgUSZ274HOJVPLfhJ5C8PNmznyXPr0GEfHqlZ7EvgWAfGkr4OAf4AAAALwBnyxqQn8Bw3mj6AzKzpqZl4qF62NxSqCethhxw277AlEfEbGoAWM2C6tRyXtgi4WQJPlFeqjTqMUAfb2ImDfbYpzkWdKIHvW3cwiQhOCQN8MtCaGVrJjM6J9ccVIh92QN7aE2ObVbNGa6dOj4Y23E1RpkNUg3aroq6JsFe4rllAZixmOZweBNmGKxrdbUabua+zZk/LdMM8AMpYmekpUKemwU0WTaN12SN/yAXGlesQ5uMG2jxRlEjiCDgQAAARxBmzFJqEFsmUwIb//+p4QAAAMBLTHQIAIg6N66IH+ZgzFQ95n3sJ6fzljQhiX77WhS2H+QO7ENxCUFYxWo4UI0BVguvXUhhToRz9XjXdlErdjtr/2bzyarZQfiQb+hAnFJOyFvAbEFq6NA24go99UdvGCcCoAA/GpcnVH4uNxZOOP4qNTxJTpDyCf6gldqM0GwCGDrlc4WhO4Mh/yoh1TQHa/GHFQmCkUN/HZosEux/cqa2PNbCr1XGEbrzPd+HmpmzxLx+jE86tAqIhqaWS6Y7TVKbrsn1SNL3GtxjYnmHz+l6oQ0kHM1HfQf6IQ0XjqST7m3wAJI89T3srVMpMOztRPRIhVTyMJPuvYZnye0tCxowkFL8jrbR3udtQAAANRBn09FFSwr/wFj5Pl3CNeFlWROHqXRc1qtYSngg20rRqDPBGqS1kKLdgLgaPYAXkEaLLM28szBMwHE4EzU4gHfvykpWdMRS3bs+RiFhD85ODNEiaXATeCZ83sqUUK3Ra3CRj6dxKFg1umA6+tNwhmQ5En3qB0Ane7RiisgPn5YVZzzosn57bacPBtXl/6mAj8XWpAzBvGUcHa3oUTTD55UDTl07NkWkHJyIFHJhZOmPxfCOTpCyMmVT5o5SMUJcrjHv3DaPemk6dvFJMVAeCjCMpQP8QAAAKEBn250Qn8BwtrwJBmSPk7pU94pY6P6ugXr5nwxjkLwe0w9lVfLP8keJJPJgSwuNUiN/vWYAbmnucLu5BGeKN2Oc0RTf6sALIhBabOSEKMIK8C0E2D3b8+D/KfUJ26r08MJhs5zvHg/+KGTVhZ/yBUZAOLugpmhPA0xHVfb5Yg6AA//JgZmy8KhhZ19sJYtzGNt2wS/nAhcAAsy5VWoq6YCkgAAANMBn3BqQn8Bw3mj6AzKzpqZl4qF62NxSqCethhxw277AqfDrFSI/UwBEhVvM5NmsNey/iT4aIlO8JkFp7kroAy8eJNRFYLc8ec1gC+Ouc9ESq8GD53vpbiK8pbnCV4VuPuhbOXIMWs+NsUeeVSJmRLe5ALLiJchiGbc/dgSOoC3sVFT/USkgtMKZiRmr0rXOCpLJTmSAs1PKz2DQfWXzXOiSpmEXXRIKzig/9eGpDk3nSi/PuNw6eH4ia+11xX74wD7rL5qECNsk0ZAMNXee6eTwgYsAAABS0GbdUmoQWyZTAhv//6nhAAAAwEtUHtDd70at9PM0gA2S18qaKBVxVGQ5lqG/8ccwGrj4fus73sqAUxSIPC0eClH610XfcRMgR6+LxL2645rKTSnMJwaXSHzzK9su4ZWQ8oMDKN1CQoAD5CknEPecPZD2hooGhDLOFs6z9d2rAhOsFO3ougnAT7tDY3xD1itTRx/LkdnvE/x3W4fUyjlR+PBPD2toHqRo/xBuC5FqeRGENU+1aZKNlgBBrkFnDQuhU8gS2D4VR4hI771k8E0gZ/hqEjmquPYJdbIRpJkxv8Gdti+wsa5UclGL/ZdSnr9Gcpri/XAdjzjXTm3YnUK4qncv60iz9xMylkl5dByL04J3d6ID7AhsliIar4VwoSn26o4M0YX9lybfPra4k+Z4hmXcsKafIrG5GsS4m79vwEjwCJtcI0NDL6ttqEAAADrQZ+TRRUsK/8BY+T5dwjXhZVkTh6l0XNarWEp4INtK0agzwRqktZDRGHqAISkacvO7M1PB4gTbR+VWDAVLZY9lAJPc5Fb4ZpzjNRYmX1rqPKJGdTRNTlB/a99KjsSEAvghHsRDriXAtBKSGX2U9sDLGM9WDuWsW0LPgpnX1NJtNSiiBRP2ajseSKHiW0I4e2qDlYbnMuboFisd8JKegbFTkoBgr+06KRga8fS56XRW0PKydz0/6m41LSc2ACgjbdRLcGczJyus1Zt++Z3BTE0hTXpt3OGMcYyQPX151TgskJRf971hu9+RgCggAAAANgBn7J0Qn8BwtrwJBmSPk7pU94pY6P6ugXr5nwxjkLwxNe0uChUUYAFh7emDGhcKrdv3S+CeD1RwlEqVvBFcb6imnXj4hG7SfHjMncUL4lbyTp6E3vLc/nEmVXh1J49SD/7f6+LL1K/cVOYbKKinoG7jItMR21dg07yMSwnFgDYRCvlFT80Oq9VxX1W1xIKtqWjR1aikXVT5/bG5OgboGD1EPA10NZ/+Bsg3uDtkeS7UFMAPzLalfy7liWkNSljabmVisysdFyJf3xM2vS2KiSrk+wMRqnqsP8AAADBAZ+0akJ/AcN5o+gMys6amZeKhetjcUqgnrYYccNu+wPXRaAHKMwZ7Tg/gPghPDUWqE8ikypx8fKX9Yc303j3e0EakIja2IidiLHkOvkln1/NeniJP2bb6x74sHXcLlY1WPjxKVGl8rPsoctZSvfmegtrqH3qedk46uBaMhqtHOqI1i0j6rteiladQbqZ1rIgg1GumMUbQI6pljOBTOhOn5hGaNJXzb5FaL5oPQJ4pVF9FBvUuq1OI2pBerhsHuCFgQAAAWhBm7lJqEFsmUwIb//+p4QAAAMAdHXZLnM3+WoAP4Pal4QV/ZxKlKHDziT4AXbYCC7pI6DAOo16lxTdZwW3UMaU03SYQFCr6/ftBE1OrlQ2hacPipvjyEHzTjVIlPR6NuVkZCX+OFlCO5PO+v/e9MXt4JIUQpXOKZYM9TPaprB3ZgqeSm1oUSC0BBINvWqmoVzECeGPV47gASgUT1wQX5QAa3C9jUg519M96QaBg53E8hQ9DZSQpxcrmDFGj6NRiB7YSjAevRq3/sViterernowlL0k3MrZ5QaStlmDXo4skOEdoBb0QbhTfsscQ2yzL1Q2ET94MRbtxYuPBaUOVvaChufhV9C3EqbVq+x7IhDomNr/3soiYZMFhf3LHl4QAoNfZz22/QcZU0O2ywQHUcAYzqLGKKC0eZgasfKLJrbF/yMFEDQPwFSjmxvIdOGPGOhjNH9eYkS9kmjq58MhQ9lxAYiTHyMZ7BgAAADzQZ/XRRUsK/8BY+T5dwjXhZVkTh6l0XNarWEp4INtK0agzwRqktZAX5IVtvHORSByYAHFnDRcufxhL2F8EwlWmdIZ+j5WxZ9xGJiJJzJjANFCFBMqFh+X2kOhjydEBw4VtOIdSdoK8RLVe/f+4H/Bm6dtdybN30annodaHxIgRaMIQ0HcSq6ToPobPyTMzImCvXqRYsbAmUfXC3M5pEWMiramnCAvMip4uaGxjGt3wmgjrqloHNYLoCRt+GfTnq0AesVskHBQ9Bp0pBec9oV9htOUzUtfV/wxr+rtJXuIQKWuaqmkswiU75n0SwUG36ICyAWlAAAAowGf9nRCfwHC2vAkGZI+TulT3iljo/q6BevmfDGOQvATghtDeAC0I8QHLTYuiitznAJGJMesaPU67O8gtiwzxl1mpL/V4pFkQ80A36e4+TD1e+K0XFjTjNM6cy4AVTJiVwdp4rx7tNRQAVWWBGPjDe/XJRpYC814pcpemI0VGO83l2Ib4TkQmORcg0eGHXi9aQ+dO2m7g8Q79W/U0yAMGqgQKmEAAADJAZ/4akJ/AcN5o+gMys6amZeKhetjcUqgnrYYccNu+wBejzFYNLWoIAWHyrpdW8XhY52d+M843MqFZqzLomv8tYO4f3MGpHCkJa5A5YD2K4l5PjtORI3aD2UC3fW8oAXsQ2qyQBcezrQCy5UGhfni0svQNF45S/CHpycilemaR/fiaQcjuUskzNrQxgyl/BmnyntzNZcbzhbdb7BciZXHTqy/a6ZXX6E7ThAgCX0e+jZGbePHRGfOmUjGtgqbJhAf2D794M9EyYJeAAABc0Gb/UmoQWyZTAhv//6nhAAAAwB0fZTVPguzqQAulAZynOBUyjEqoXytxLwJ46GAq89k8ZclXXV6sIIPsAbdtCMBJ4FbaG7Fw1Hlr55/Cb/jGP+33IRTpCUz+e537A2pWNhmDXkjUAk51nX9yI3vrq+NK41pfF3N6PqUGzOlWVAcwkf8Ce/c59Z0MSJnsW33mJ/QzT0V0/0dfl06YOrNnpoiuico5a6HQ5SjG5PfRuCClM5Y48niuySypVR0kV8CPXrHjONVHECgwgqidSXaRPRFs6LDPdTk3cHHWts95nPN+La0frl56/2+hjqu372TGuDgqLos2W8FciEKUH4lsgoim5vp41+JDToQqptElD8Z8iD4zWi60N0GOlco2pz/XHjV8H3MUE6gI2mB0av6cmRGLKKIK5Sm9sEmAnpbSzFuBtA7OS6b9f3aK8A4+qZMfZP1TZ/O/E5v8vV+RFS2Xx96QmA7rohwjrw2GkRBB1ABox21AAAA1EGeG0UVLCv/AWPk+XcI14WVZE4epdFzWq1hKeCDbStGoM8EapLWQF8E1wJm3zc3CxclxyAEZA2fXYvj6C4dMbYT8GWOcIzheHcjG68jnq4f8Ew0DOUoXr1Hozx6s72m+cvIo9j7SXgAbNo7BCH8OrmaxVYr4oU3sy1JD2HafG3x+H9Mdq5DSrqh4y1bhVTsMDn6qS0cxvDHrzrPmjIDDNGdl8tP0LEKO2GE/EP+Yv31NKTCX+z7E9IRlhwPGhnEFlJcAtRDsGfSgm8X4cwqeKRGUF3AAAAAqgGeOnRCfwHC2vAkGZI+TulT3iljo/q6BevmfDGOQvAUm3SXADpG5IWg+tAMbYCTnmbrnY9ejqiwSDZoqlZ4V+i4lUq5HgN+VM0yksTYp7Rm4qRH7dSHBVK+IPNIYjevTS4l/sFb1juC2xpdp+21+ycbL79bhj0/yMN8x7UQPh4c53KCUCZnaVN+xihrupPPL+WSoWqpwn3QOxMTNl8YtCbTDo3TofLMaZvRAAAAwAGePGpCfwHDeaPoDMrOmpmXioXrY3FKoJ62GHHDbvsAXnpAU69/TiTqFungBrN7xMcDokUDCGJO0H8AOmsfduFezGrtTLicMFfGq+NCKFT5nROS989ZT867MUuozpDX/5GD2tKhcYOADpfD3Akec10G0r2cAhS6JG7o9cKu2lP1mWnLrmNt34gw7W29B0J686/l62S80SVMt4FiwpuhXjPR3YBj297ig0gAxNi67v1rgmiTrTJVGXYPbbGL17BnwQAAAUpBmiFJqEFsmUwIb//+p4QAAAMAfLkuAArsOM9ciIG1N/8TNmZkcCQ46V0U/snaQMB45H27Fsq0sQMBaoTUqBXrBAFMVrUfcNVu7JsByUfaDuO2IvppNj9JE5kM+zBgt5XjYIbRos5+oTuIDbgV4AflwBtqCSIlByNzbL6JweDdQY2prgzvMofK1GWYDRPNbpb8vz6cileTfsDBtRvuzs55sFNW3+vjraTHZHI5bK2d8+OVuq9F6HF3qyt2o652Km8IGd+tZTcKdP+Cp5Q61rnKykpDE0QokXtd4m6tjfbQE4gKRrPeJeRk61DdRLRyJRlb4ozAnxbfgGgegk0lION61k0t7VZURmyvuW9J0uCxvYDYVFozH09uE89+3u8rmzKJvFmx0WqezC8149mTDeTzrCZ0vyn29+czvquFUMs00hExa3D4jcnkYsAAAAD0QZ5fRRUsK/8BY+T5dwjXhZVkTh6l0XNarWEp4INtK0agzwRqktZCC9ab+3fgDkxOL1tKIMkjHKU8/8QMVeTAzGjDaJYBMv3JllX9ju6nfGnlKBLrqV3r4ldvOIPSGpbf9cZZ7dEgBKuq3e5kQEHi2YTSBcgzKAAtfe1cJEerSRO26rtpweIdh2BI0+2nFK0zEV6BqMhUtRCND1yW7s7esqRZX0sZexhNCm/hBMy7bea+x1GOWm/wWScteuRDZTFcdg8HiT+Qj4U7TrFSdbqdgzfGifvctM3jt4r7qa2WnbopA/4M3Ts4MK6sZuICHy/EAuBgQAAAAMkBnn50Qn8BwtrwJBmSPk7pU94pY6P6ugXr5nwxjkLweM2y9z29GAOgT2D30+H7Q7mbI/jXtsnpT5SONI7n7hPvOrkw/eYEtFPyULfGPFIPWuj71xilIkO/Y7T4VO7/1n2WjApbzpD1hxMVkXJ5EnfR/dS4ZDZL6LQ9cYObKdKnDNpp8yUVegyaJstMw1B3mlY88nvIa+rH7JevhsUFTJLyTE7TkRfbzTT6JRrncwQpNjg6wT/8fODrWtP6TtPkB0qXjmAp5q/AQf8AAAC6AZ5gakJ/AcN5o+gMys6amZeKhetjcUqgnrYYccNu+wBjgk4ABtUzVlvF4IbNaNbRCMqPclEr3KfoPJNxdPMGJanpSFs5iQe52lcOJbgRjLvD8kj3j0aMHVK2axBipsjsn0wthmh0YsSFuFWFMlsY0LlYnjAg9oFAMyojas7ONdloRwCSssbYAIFQo5m+9+rnXZ2cpN/C7J2MOxUOGp32ifWer+lFSE14nKZyJld6WAmeZytKPftgMHzAAAABVUGaZUmoQWyZTAhv//6nhAAAAwB8vZUpr/4f0QCs3JD6WnugBOtZ9cPCSuUFRKAny1SFUowyn23ceZ9XjrqbyC4STUoPl2fyD9fBhyjcoUhoU0xRvNm4ygtNocEJ5eQPa6kA3NeAHJz0L2rXs8K1JTI7/kApp8+p7UrY87q+q0lL9v3n1bJ6ikbGH88yE2kATT+YuFI/PizQ0i9O0UvmiUzHGR9nwA6beJ8880f8P2RaNY2MiEaQDO/n+46TvhzVw3D9kQzNNl7D/R2nDhRqKzQlGpbVi4H/vYyRWt2jszYmkXbxk/mq12LVmei34kdxsKivDsb0LPhilleaQ6pqurmAECX9az1s0AUuHXcWLyCB3qRDnG4UR+jjAIlJvfyEWeEzd96AyGBPgvdIi/1eTcQIeVt/9D1tvXm/H77PxBcdBX/bNjINX2nUAbOE42av4cVVTpL/AAABCEGeg0UVLCv/AWPk+XcI14WVZE4epdFzWq1hKeCDbStGoM8EapLWQGTQMgIepfu/amb8lvxP8dYAHG84AROLtIga80aCLP6upVd+GhSyFh5pDjYF5b6hmZrs+zFVe7I1c7pp5PTlRNrqGGokcryLXkcM+wmG6raYNMEuDXaq8bTzTKPREnxwNEQEb/ZdBcZEpfm39KD7Z0ohyvHtvnclZYtvPDRR6htx1L3CE3h5WbZ11NUkh0xfloseQYQ74oaSnhA/gbpr06BYDhwS4YkzKAPtEepUtUK/0GfvRpoyd0OToXvlHbefeHyXDR8YwMWDDqfUtflllsuZvuIiPAyx2A3KMwYKuJeCtgAAAMkBnqJ0Qn8BwtrwJBmSPk7pU94pY6P6ugXr5nwxjkLwFY6s8qJAvT6rv/P/J8AC2eF4wZGFelcDVxKXN+tIPSmzJFGc+0IKmIKkpL5TqdR55IHRZpYSbtpZE4B10qCv+uz4JHo7Eb5J/RKCLcTGmQCQDSaessVqxuqP9P3Nqg1p+DllSeejH53EQwQonjhafrBPJo5xNWGLJPOeTjw33suBa89gOKPWlrINNJINiupxV/W05hFgMyvououIRwE4kYhArA4lJHLQBG0AAADaAZ6kakJ/AcN5o+gMys6amZeKhetjcUqgnrYYccNu+wBeejmYeMngBHUUO9ECtCZikbA6OZPm5kyGMrozlbQO3HfeMR+T44giJreLg0AHUwU5Y87G/Rhtcua+eha7GN3orryyEH1x0VWd5lw/t4L2sMY9Ya62abXar27sxGzueTYtAcQ61A2QElBx2FTJ+qDJ9U7aFj9EqHqwD7vJZorTwvJJL1YLWNe9DPRvc8p3cXm4tdu7djHUM6DCKo7pHtFORch+pQ1bEQAGHPHcvi2PPv0vIYOwe7g2DukAAAEiQZqpSahBbJlMCG///qeEAAADAGT9lRW3QSvdemb2cIATrWWCsjCSfwC6xS4BPdILoMzCNxDIyj3/5hMN34ivsrcOXkqmFhljf3qlbCeru5JilODsQRmcX5ttZahJq0rxGlU0gDbVJp7vfdEeUyuwCfmX5HMQqhx47CSVcyzJ8r7RrzzYROhsyFNB9rWl7QM3u1BtBRPQDB7uTY04vI/g9ZGkUHUeIfktfHy84y/Etn9s2p6PL6WSfn2bjiIDpSHMV26Ebf1u9GY0t3Ey8mVmicUks78mHwxBE8AF3IdKyerbkIwtFmwkKSc0kYuxzJc4NbLR8lqMdEkNuedW5e7Z1DoO7xvXRt0NvaX7pJSASz2VuEmxhAAajeBr/XQtpLEAwGEAAADuQZ7HRRUsK/8BY+T5dwjXhZVkTh6l0XNarWEp4INtK0agzwRqktZAXvOMcagByXdH+6fdfAA4s40tHKoW2SVayJdSZ2MsqconmFDDoOs/5/RSnk3PKO6G6h+0frrwOvrndBM94JS6KelErpY0JmRV0+VuFpFcHXN/3Dg8XGbQqwgmP9MKv0LE+FySfCWsrdvvY4zajllXPrJX+nvSlh1Pa/xeXFAYeZKaRQewGYA9JE3pT4KhIzqDoIBt2AvSXtt4zWRoH9+0deZbX+Wx3dnK7uJE/bu5kUUpna281qAXO30Os8TqgI0UbNQ+/qg6YQAAAMkBnuZ0Qn8BwtrwJBmSPk7pU94pY6P6ugXr5nwxjkLwFG2ayRSjjAHMAUZL9CNvDV9dPDrlpI0X8dkuTqwQGLLHMMm43NMUcQ5B7rindMefA5Aa7nfVyT+aGJgF3uy9A/MgQdAVwFCDwHCkJ9AD7F+ZKr/j3f4IV3eXEzqG9cMNPUNi/OzoBGjPO1fJvT8HvSV2xcGdBA+WutXKcrQTwfUFPZdmEqk6Mbd0yPFqo09Lr8x3DCExtOSSUabMdJpRSdZW4kPqD2QASMAAAAC4AZ7oakJ/AcN5o+gMys6amZeKhetjcUqgnrYYccNu+wBedemcPBgPTlAEMBeXxMikEdEfXMeu4nIRluwu72w/1/YueNb3cMyBrITNCHRt+ZuK0XvqQOB8W8pgREotnPLIFSfq22C8pTvBxC1rLGE/XOa6K1yZQOLpxVJA/P7asnunC/lX2i63sfy010a6rnL+LQZ2kY3LmRXkAC2zr1uz7AQJ/4a2UL/DbAJ3DIkQ9ce/V/kXOrgHpAAAAV5Bmu1JqEFsmUwIb//+p4QAAAMALVtLUAJqtb1ztuHif626oyo/jQpDKv4zKB36JKs3Ux18YocvhTI4Q2mlUpORQGLQ3tBbRebcsns66Luf8289XfgUf2MCGWPaR6nd6MNCYAKVjYEWB5/0IrhXidNXOCjx/A19BQYSuk92qpmkc2kq9LYBwWn16RhXlPgK339PaEf8NkviS7ceDiGOhHXQE97u4RKUHKSZwc+eATO0WoHzwKIaX157kTrKUugj/Pr612ixoJc56XXN1F4DmqcRoli/gHIi9h/SyJ1yuVfB99xea6PzkCmIkcAZ1q5yhE1keAj2iWn2zCl5vcrVV/5P57FeVyUm2RBwnTXP9qzxdAEX4MbMo3O+qIPV548tBVGulyPB4/HaVppf48Tngb/D9dPm0CKp5Vsc8nkBTfSFmkCyd6bvmls0pXyWlxbh0J7aIS9V5C4/W7oQHUJ0wQAAANNBnwtFFSwr/wFj5Pl3CNeFlWROHqXRc1qtYSngg20rRqDPBGqS1kBe80tudU3YAFdeQhMVbSvlGzKfDiVa2K3t8atLZ3JdHl1vrDrW9o27OgLeYES78G+EPz+/zT6oUn7N9LoUduG25WdE3BhmocjwyZ3hhnehTzS2M3LA2relL4VRDqKYgkU7LIF7OWxNhaaob9WdOCHAUHDepobGeQAWcP3EXnlLefTJsCC7IFZvtpxCCVmAABdIByYRuhA4Y+AqLOJTZeWstCPRzlBlc7H9RgLuAAAA8AGfKnRCfwHC2vAkGZI+TulT3iljo/q6BevmfDGOQvAUbYSC9uDS2EIAmvkOMhp0P1nskExDMS69Ql99flGs1M6Yp7BlEn2qNuvSDjsqkyffVyK7Z2Vn+KgNXDtEeEHu5RE3EVYSzQccegI0B5EC7rKjqKJFzy0Yid40KS7t41nlE0evPChJ0PEidJ2TAUbK86L3JtAvtXu0oK+rmslTuqyFP5Y+zNdUnDOIXulytGsZMjcPhrMm3DeRztdtZ0hAIrOwABnIVJuCNYa0zRZTqI38L0HP32p97vlvc3vaOChZnejkGXIo2N3+/6jUi6qBHwAAANEBnyxqQn8Bw3mj6AzKzpqZl4qF62NxSqCethhxw277AF51jwnQfkmQApsAmdE2SpdbVItjwcfzMbUaV8uoDgntoTF4ALWfOy9VnltUgajP4xoEjBoVtvoui8lO/Tv+41bU3uoA0n1kf6VOPxBXBaZ4Dshs04Ks8Z4Qoda/FPP7G6WH6JJpxGSCB02FqvFlIroduYwjNDhfeIcco2TTLRSGMU0iAoNOTFOSzywgdFCQqa4G8joPMyElA8FgHDzLmoR4KkiLdKWshnQdPZLOHxiVgQAAATZBmzFJqEFsmUwIb//+p4QAAAMALZ7wqefj5OJWBSjQQ9h4uALTshFF8YRQWyYlCEVaxGQGpYoX/xWiyyyFDUIsIMvPupJKiwmCpo0gerISncU8G4FQf5yn0sO4yQjgu/wydfgXxK6LzX3hmm4113IWQhlIZNn59yvk2BWc4/jwzkTbdDjPRg/0aom7QE0nSRBfZE1eMLjSuuht0XmMqt0ttmXr2blseRK9xZxUm4Jg5lGR43H3a/xI7mg0X9hkVS9ovAEpxIH3GIAW5QI0hhFlflzbuTbGTipA2LxEAyMRFlzuUOp7wc8CiQFexglpu6GiBgdLBDkPFZDeXFRrJ1CWC8rUtxYb0ZycdqxP37Gx7hhsNdC9gz62DIOH31+cY3B2/I7YNxWSrUH+CQaFlCMDjpE9WzQ9AAAAp0GfT0UVLCv/AWPk+XcI14WVZE4epdFzWq1hKeCDbStGoM8EapLWQF7zS73UVmUn0G5r0YPApobWWT6dDx9P7OAEJsOsSMLsXbhw+5BY51p4HoHs8WTrkDx68hQVEng0H5Jfnvs8iNsXjZbGtAtJCH2rZSLmoIqqp+feco9qTzWUIZyEVlSn7edCVFrgIrV4J6JwnnwiL9Lu9mg0mjc0sN5vdPrweAZlAAAAmgGfbnRCfwHC2vAkGZI+TulT3iljo/q6BevmfDGOQvAUbYS2C2AHMIeDPaasigaE8NBlDCkGHVztdw+Tqd3dx8z2HnIPPLY10EB4N6x9bQobkMocynHpmyRHFr/glCod584Nr+Tj/Jm7rBxvvh+yQ3jWyqq5ymMBAzYGsUh1majsgU6XOQhXjBpzbta5FJgegHWuuByViciQDCgAAAC0AZ9wakJ/AcN5o+gMys6amZeKhetjcUqgnrYYccNu+wBedYqzvkOoADibfkJPalbg44E7iBxLrsFKZSEPIqfAh41+Xn7ksuqgvQy7r++0fuGkQsYlx7GAVr0je6EohVED/Jmiw2O6o+fbMFr3+oF9uC5Fo2qLPrXEBBzE7DxHoxaOtdvaXa23JEwPP7AgOuBbdZHpd+/LzNYGPhgp17urUVTLB2CVA80SHa0/Kytrp+UM4EHAAAABJkGbdUmoQWyZTAhv//6nhAAAAwAnuM5QtUGt0qsAOid3ZJFb4tJgUBcD0aPAORfDhv4cO1Iwcl1IkUKkm1RctWt8YzLr3jTfuPg3XvK3RhGnliiRJdcIZv46dWYJWaC/ipabo+p1Vz8xtreMGQxYeqMJkGWH9DtbImOQ/UotD7ccxzCyxJpwqFbeACvRx2UEi0kg6mlNDZZCb+7ioRoJjZoIG9p4SZQhNhByNm9YvxguEcVW/srYDItCqHso0bwIUOSfxym0sHD7ozP3xjygq3o+q/s1TuIq4/b49A66CRpVWrw/mlGwJh7mq6f15/zYx6gTSAbA/G/QFQHn0DOoimGZQh9sVgp93o/R41D5JexOiuTvkLar/cDcNQPB+/z+ETXpDTSkgQAAAN9Bn5NFFSwr/wFj5Pl3CNeFlWROHqXRc1qtYSngg20rRqDPBGqS1kBe80ev9StME/AFYMVhbEih1D/K8EFJ/PF9aEBz5nWIsvY+LU1pLoEHawG/cV+MIhLNziV0T/y3eyBQHstQJfC1hKMCXN86xCWmAL0tFRnkFPvsoAdXdx1VPLCCWAFhbGMFOCLC/YzbM8hpL6MUJ3UzBW2yb3PlZemyjoGLYnSbAMjTva8LTV3rQbSM5Afx0M2JMrJtqHmqCGUqYOgRpJZ/bhYvTV8hZEEvjOqpzoP8xxx++oD08DugAAAAtgGfsnRCfwHC2vAkGZI+TulT3iljo/q6BevmfDGOQvAUbYLFzl0DFdMCw5ao5ftuABO1aD+tGyXzkllR2T6H0p3YnkJfLTOxrN4XgtfVEUUrbwMl5IchERinEKCFhqtbwV2AJs/w2yQx2ExiXKuDxPsvNqbsI4SANrCwnbkPDjK/I36qh8xyvzKZfmQb5zjMJ2buPLXiBSMH75yTGTjR4h2pKHJIPQqv11aQSBYs5RRSoXBmWgFBAAAArQGftGpCfwHDeaPoDMrOmpmXioXrY3FKoJ62GHHDbvsAXnWK5VjDMUiNIAFoqbJP5JH7BDtNtV8Qf8ARkP+Yw9o0fX3UkUwuXHDhNSVq2nDxg0I5Z5GsgEv50zCnZgHbgfte7vjlwt6LZ+W5do/9KDIjo7hoJj78zpWZldbBm3UgasTlGcYSpzIAg33+7PFLIsqJHFUeNuykY0IflWHB9zouGXCda4NulumoJCghAAABWUGbuUmoQWyZTAhv//6nhAAAAwAp+3JAAuq5CUbcCII6rwjYwFBiNNgpUtekATFAbBVeFoxHiqa/c89PdQcZQswrafBRFVp2fAtEGUK+qZELLIVMDwU2IRNG1m1zxtgEfu5osohHsW1iT1Ue3MbvXfIoJ/me2McTTGeOMijswKyy/W+k/yoPdd78x4y6Bhqs4H2RBBYfdvcvG1JUQ63/mDZQnHly/hr7vqAxl4c0yMYd0eyURuGaa27g3u/ZaTnqQnfsSlnN0nolwIWgYadTqpczntpZnDGNY/UgrHkq055naSDqdfnR033wb/eRkjqxnA5p9o0XjXd//0dnY+hFaeGyqUB7TS+iAXj0BsRH+bPv6TyKvEFxts2dEOuOKnR5MHUPGGo3Xah7JlVJfR1eAj9TsZYtU+zCN9jGfRWa7zlfe8CSJuSfeU7F2KVfWvlN3uU55zUafpklJAAAAMJBn9dFFSwr/wFj5Pl3CNeFlWROHqXRc1qtYSngg20rRqDPBGqS1kBe80l3CZnGYFXTmyquALD5UUb42tjhH/X4QL6ZTa+fc2qc7WnEUrpo1q0Z625uE2j2aJ8nVvwiWs2aiTFIJs9lo3VZo5UjWmoJ8o1u6n7dNfyFoLTAAhr51o9H7eyoBNLtCDOYc333+1kfDq6KYp/DaB0/oDNeG4uJ8xGqSwDoHRVQPcRBy0MPQSSUBT+7D6AlrvhS14eT3hag/wAAALcBn/Z0Qn8BwtrwJBmSPk7pU94pY6P6ugXr5nwxjkLwFG2CaRpsAOYdNqs7AkeF2OzEV2SvjSphTgmsSvlTk/7raAB75NNM0tHM82WB4BCwDoZ+EQCibZZeLY36RrrWA8q9dHaQ9hS5cQe4RCFuwS8/6TU11h/m/owS1muRYcvA//jivDcBf8TgllDD9o3PX/DOLtvH3UfJRLZeD+lyHzYMRh6slv/hyp63lLFoRAXfo/u3mxPWHVEAAADAAZ/4akJ/AcN5o+gMys6amZeKhetjcUqgnrYYccNu+wBedYt01arpXgAUGy6wy9VsdcfwsKJEAh9ipbSsm6ZgeLgjjEIx4SRxP7Mlb+AGyHO3MEhrF9e+m3ZEOtIvovOY9CNLvvQ2V4UFKOjYd596Pe+66YHeoeND0EQjr/tFxl4ZQ3YdpoYkgEsjOGqsSt6Vn5ynMifN1kyx2npFOMFHL3yxE+HQuqSHvaUMF/sSSyhSDOAHVgjyz949g+k5ABlQAAABTkGb/UmoQWyZTAhv//6nhAAAAwAtW+HQAOLWaiqsjkX9HafBIvoIJ4JIwMy++pXSG4t0mPqeDoSDhH9U1mvmcLplqwA6T0PwLLSnNDUVfo6ok8nwFmilt4r5swtxDglixUUvHLZpHUzkKeljCUOunf39QVB9vqjRkmCVqHPUKjHPdR51YyQ6awxGDfDPwk4dNHd8Nb2PcuEK9+Xz5KKNmdTJ1Bcj2gREMVfWsiu5PhaBAINg+zJgQhJk9CueIYf+iccAM5KVOzYZqiZVzRidbOM9TebpZpYNeXAXTL7Dx7mOkKmWrMsewblkDU8U0IEpkZfDZTLUIpDi/dV4NU1O+Pl73X/F5gWTLGeTEbthVJuAqfVAg/zADIK1L96yRCx6Lsh5Gf8WPRAnQz02/yhkWxLltivLbgvVsYsDOnRDRRrCTK1nA63OL7i7l17Fu6EAAAC+QZ4bRRUsK/8BY+T5dwjXhZVkTh6l0XNarWEp4INtK0agzwRqktZAXvNLbKAMA1fOjsVIV8M1oP9iyl6V4g8hJ6jbqPUt0yYkwBQsYQ2tafJgCieWdVLUbzhIpIMA/h00HNIqOdJUykykKHdDb8NS+aMsJb9NBkMOnIs5LNt1cOs+n5j6baeMsp4STPz9lRBoqkyks/p8sPZRTyiAGgdGIfwVr7WrFZCRr2eZwugSH4T13kgrnOxljDSblusNSAAAAKsBnjp0Qn8BwtrwJBmSPk7pU94pY6P6ugXr5nwxjkLwFG2Dr6d+cAUGzNP6OcLXaZ5IWV7+jvJpc4bSruzWeax2zQZcx14V8/MP3l9gH1+SHHHpNJ8SATtc1pBkb08JX3amesImVoqmpWnqdmjl14W97KxdZmcuWzn80uojNgCzm0LcmnLCePqEEbiC59yc4a+xzYLJ8OSspKwxOCE46OEWwKOyb8dPtltAAj8AAACnAZ48akJ/AcN5o+gMys6amZeKhetjcUqgnrYYccNu+wBedY75iVABfYI6L/98mLtqOy0L4QK3ZfwiCIiBRCSktUxKCI5Q8XLT4x0/T9YVLb2pB8ZtxSgfeCu5M8RRJs+qTzClWcMr4O/uLwXqgTDKai6MqYWSo9XJmJV3hLv40hjPci6Gstme555FZHojNBuYG18p5fSCs98jCXFlj8f8xCjTo75TCkkAAAEZQZohSahBbJlMCG///qeEAAADAC2e8Ko9d2FzcLnEAX5ARXdkw/7tk00X/hpTy+bxZk+aTyCyGXHFXAJynfcZaqNOjDjbkoaWYLm37gC5NrBnUYRj4mTNNMBG2XtEl2BrqWnrzwa9SCJ+xeRbf0GeOTxOvQcQaKzOmW6rirpyBZnZkH3TtR3azAY5foe6Ycb0/ivq6EsSHYNwAVISnS+Cmfe9dSx25LCUPXz4164MM6SigW+XPCnPZ+TYQoBdUIthLe4dqn4r5/AGm4Juact9B2nNTE08N8oVfOydyqBzCr6Ex1nCpzEibqcvqG/gb18F4//4tJjeoA1ovg69m75I5zUlbcCLf1Y8fNXTiujZUHCQGnBQN8qE+ywAAADPQZ5fRRUsK/8BY+T5dwjXhZVkTh6l0XNarWEp4INtK0agzwRqktZAXvNNBoQ505JVIQOzejDwj4uwAON5U3cufvnaemvDRE3JF9FJxBAY0iA+NfC4XZ9LuatAxpLoD8ppgKAofB5aCvDbVyK5Ac2+AWJwH3TNSc9qO3OMz9OpzARKdj2G/kev6CwW6JBdT22b+DY3DH5Goh7z0gDUIOUhdPOzGMQlMPxvBbj9eIEWH6yYW6hzs8qwxywvOPAfcp7XLyKN3fwlfiyzcf60HAScAAAAxAGefnRCfwHC2vAkGZI+TulT3iljo/q6BevmfDGOQvAUbYPYZbee8HbymFnKLtWYAbrt6VTrxx1W+ThY4RXUShxjABBMgMJRTyXzdyoc1qIFqQb+KWVdNXCpX6jgtP+4Ga23mCNu6qht2pfqCD6DBdJrnFPZPLwiNfuOjiC+sbOt8H6HflGGML1/R2Yx64cK1xCvRLT+D1UWJQwVqNEjYvVqKc/XFv0KAKkjzY7oDCJJspIqJxTVExF+s01OSSVNTPAAVcEAAACqAZ5gakJ/AcN5o+gMys6amZeKhetjcUqgnrYYccNu+wBedYqcSRTy2S6PAFUimeUtl6gBtUIuslPhD418xwXawDJfaC0wFMGAZotc+KjMQyyofgQklSGQ27VYxNzNh3Kk6sZrF45hclgJSf3CN2YNhtG3PCUHnnRYIaTP9PZf0caZYfzAtiNKBFgPmYsREaz9vZEdnAOlm5FrvGvWYVYUhaEpcN42Z6vAN6AAAAEjQZplSahBbJlMCG///qeEAAADACalb/iU+zJWbH3gX9Ctaj40aYCuON0ltnHtbwt6OiKR/bQ1Dy+XO2TIpsRjKfLIubxwMVZwIsEdDv0iQZEQikmSffpephWoTjpLs/GCFleAg9Q3WPBtHQacuU92ng83cVEm6S2f/PdHl5C819Y3BNLr8/V9J4DU7mD8wE5I7ccQdCcjm0gXzt7JjipeI/2oBtTMEtaYrn3n5Jk1M6ln5LwmdY6VaJ1ANdA1XuAHagMASxkoCbUUIHwbViiDYn0guxzUR+vqohyPirtSsjzJh03RZ+lMM8qODHfhOcGh6pv8SwGNC5px+6zZg0IcefuJ7lSHM2ewONefkiJm2A5OAWrca7Iy9KSQQ1LOczYyqTphAAAAmEGeg0UVLCv/AWPk+XcI14WVZE4epdFzWq1hKeCDbStGoM8EapLWQF7zTQvkSs5P2jfNsAzJSzvtmOktnyzVAFWrB0n6bXonHP6ZGZXjp4tfGOLzGqLPR1RLRbOs4+6Ko9jg7+86MD5BDxInfOx42APNv7Y9I442JraAqLSxusB4P6Zf9UWYFRHAkyBUrVHKMQwZaCQafCbgAAAAegGeonRCfwHC2vAkGZI+TulT3iljo/q6BevmfDGOQvAUbYJYLMq1hooAzMkWHivpp/3gvau5asS7sz8OXLjXcRqaoAustSU9ANar2g2OWoDSz3RLdESMD+g/hJ4tOXjP0ZQYr7pjS8y0Ht/SpjfCfayyzsNeuIL1EEnBAAAAiAGepGpCfwHDeaPoDMrOmpmXioXrY3FKoJ62GHHDbvsAXnWKhe7oIB7g/Q6PQAq6ACexIsCA45JSsDboTTpC0j47VorvdLR56K0jmP+12ZPz3QQJvA6fclhPIT5A+elWHP/zv6bnzxWH/qkP4W6TZAv4xRrRvx8sa7eIpET/bm2A02QX265xhM0AAAD6QZqpSahBbJlMCG///qeEAAADAA8qeqIAON68FK7TqDugBlMPdI9OOkJkxQ3EIiDmnpWOAx1nuliN47XogCq1XLxm9VCb89Pv7A6lh2+9a0ZdX4TZeqtMQQU8DIjLGPq+CD6yjmMYXHz4ZKqRsoWF9pnwiOFR6DqmF96WHmwmr/vyeoouTU3Pec8y18n2OuaoZ1yDlhVP3nTmGNkgjIb165vCtxWhrhfwRh2VxyU30OX/8sRNPajWl9XcIAO/CsxRs0i3h+7ztoP9U+vAl4wzO0RgPJT108tvI40zk53CBXsmXdaR2uS7MVLpA/AK+PPmdGDHrYTlziDKgQAAAIxBnsdFFSwr/wFj5Pl3CNeFlWROHqXRc1qtYSngg20rRqDPBGqS1kBe800L3sLxEyMFzSxgu5KZovEqm20AI4xdB6JErU55MQJBOAr26MyhmYzwO6rcSS9HQ8HEHPS4uLtd4WTnmeNLj8FKfvvG6z+NFPVJZrrVSOPriCCnvTFFDdJXeDJcl4M1W3IakQAAAF4BnuZ0Qn8BwtrwJBmSPk7pU94pY6P6ugXr5nwxjkLwFG2CrKmDbKXu/UTFqAD4gPYPOaP92bXbwaDifILpnAkAgmoKiqKQJQfL1YmmM43/rbCfisQiumCj/+0oAE7AAAAAYAGe6GpCfwHDeaPoDMrOmpmXioXrY3FKoJ62GHHDbvsAXnWKglOTH6AO8MMsbjo7CPn92ABOrZcnTYvAxSpCc/0TC4fmuposk2xk9Jy1FWk7roN3i/ls3qafCv5/a1ADUgAAATZBmu1JqEFsmUwIb//+p4QAAAMAJLACwUkBMvd/EpIS3gKOXdACNuE3gqBfA09XTFuRqxarPvagNKtXrI8GE6mhDnSkAjUDrZXIU6q0f4Z7gn99P8zub9iOiGr7NHVZ/Y/9Lk3ShDjO968u5WtxapnUJ1XKDtv6wr0iVobq1vrcP9pd6DOgdtmEN+kmSI3vKxSJ2D3eibk9Y5FMrfLzGvW/PTliirM39embPRHKYB2W7HA51rPfAh65059EkOAWdedeCI/ul+aHcWPUM8b4alYm0iYu+OZd7AYmNnKlKPTDAxbFvRJeSru/cdIkZ+tyZ5fJdeDaQY1oqcp5ZOokfBwnn1OcPW65R2KeEI8eiQ1ghHGnfyuP5MZzhxjVCatMPh610ybWGJVR0ye95w96Mr4iVn75luAXAAAAkEGfC0UVLCv/AWPk+XcI14WVZE4epdFzWq1hKeCDbStGoM8EapLWQF7zTQvewvT5cVmFNz7wjMN+FAGU7iswQASR0Zn/zpr3/4xLY7U9M9ikuEAhnsY+eG3PDcNxSNBVqvmWBdqttrUf30QHry6265bDEg4rcoeKjbNxO3XD7OO5ozlvAO2o+prreJ5D8AAccAAAAGIBnyp0Qn8BwtrwJBmSPk7pU94pY6P6ugXr5nwxjkLwFG2CriG7KjTFMAHSAUmUZFAwX3R9ukG8WO4ZBnMA48z9xyoHGmSPK3tQmzZUnmK9WQWPS83gv0ohhjul0Gr7VHSCLgAAAFgBnyxqQn8Bw3mj6AzKzpqZl4qF62NxSqCethhxw277AF51ioTizSR1S7A8RmKnBxMUpgAE3FKia80ZE2s46/OPiqP7QuCjfEM7Ph+AmLyvvfy07LtHpYEDAAAA8UGbMUmoQWyZTAhv//6nhAAAAwAeVPFrEYpG8HDpGDTGwFkYFsAVWFMyxFrl89s9xtami+z6B567pB39G6J7ObnlEtc0t/uBKWfWE/BH7CyNQCrI+J9YNdh8vXJcu74nkOsIgAHQiZd4r5PVJ9dr45k/o4IBJNmRY5ucQ9uSVs/V0tDTjZBDG6GS7AkHFutqDhDCMRB3uWrJhye+uPRjdy5US9R7S9f+hfJKZgBeTF/PfOSjtJr94xbOG8qxrZs1NPhvT+lqc4SMZrOjFW7wQeaiz5j+uhgrRWx5ctuagOB1r5xvWQXFt9PE4FFlIaS7urEAAAB1QZ9PRRUsK/8BY+T5dwjXhZVkTh6l0XNarWEp4INtK0agzwRqktZAXvNNC+C0ApjlbpujRCGLqU6SX1uFv6BfHQARB2DmnoqQTpz/v+je/oK5H1MaInpxG7o5DQzl/Eq7IKE7InBmrEe4NItiyNBQ/KxSDQ8JAAAAaAGfbnRCfwHC2vAkGZI+TulT3iljo/q6BevmfDGOQvAUbYKtZLxssZpTPpR7rdtQBaKRkv14fYGr69qdB0lj1nYqNOcLelUt+cGrWP8WSTUu3Jwvz6e/OVG+gynBk5n3KLi5jz7DMwF3AAAAcwGfcGpCfwHDeaPoDMrOmpmXioXrY3FKoJ62GHHDbvsAXnWKntVwC1kbeHWi92ckitelW+OwIt4SV064kE9x0Y9ViS/xqXolBhVq+xZhrpa/v6kkKCOT9gAR8cUbj3SljNiNb3Ndm/gEPjPPu+t0n6nVh/gAAAEGQZt1SahBbJlMCG///qeEAAADAA+WuSEbB92uAEzIgBznAqxuWbVDPUo+0JD5L2Sfc6TfNzyLFoVUoi4P5nYJiaE9K2bxXypSjuNOBM9X5t8+8CGx6AHUD0ivWn31acFJJ2jocHH8Z4g5kyYFob4xVD7CeeBHq+rxvy0qG/pPBI68vJ97dbaKQxClN/cU8SL6cOS7VW/wBFjLVfBf+BJhFyhPl5+YWlWepJeQKMmFPX0c4KhwZV0wQyq//XhX/+dxdNWoG6WWEQll8JjE5WnZ3MNN6JL1SPdhphe8TYHIxUBoceWPTKRdfZuqWQIEcaKozJDLueIFW/YqPBxegm7oLUb8X32LKwAAAMFBn5NFFSwr/wFj5Pl3CNeFlWROHqXRc1qtYSngg20rRqDPBGqS1kBe800MFhs5FDsCZ0AKuSsgClQdFR2sJazzPKV//iBSmUKbV8WfgcBfljEOOowwdoVaSJN9+ZoMIM6TrRXFAANyKq6K24XpZiYereW5AgaiYqamuyUVeSJ5I4OuaIEsAzGKzA9LDYl3i+wJW25GxAZ8WZ0PFruqY4qts/LEtDuf7UA6RUqnNp1FYbLLwXIGLJifcWvA5i/wYgqYAAAAkAGfsnRCfwHC2vAkGZI+TulT3iljo/q6BevmfDGOQvAUbYLFu6F7h1v+6MwA0+KD0sxQbveN+B3yKmNJsBDWIr8T8IX4/O1I8d9QDfW45CSaJrBBA0kOtMUf4tJ0MHZbCfK+vrHc9RQI//3fhRDFVp2Y9S6Rq0AcCPZQgXdaqQFX4/Y6S/iwVobY0t4LR+BiwAAAAGkBn7RqQn8Bw3mj6AzKzpqZl4qF62NxSqCethhxw277AF51i4H3Kpbnt8ACCT2zztXy/lctiD2NPAeIXWbeA6WN1osE/NHIzsNodvGvAfp9RkN6oKgD2MYqAT1/GqCuwWXwLMJq1MMAF3EAAADpQZu5SahBbJlMCG///qeEAAADAA+CeJOFbNTjT/yugAinQ3bMtsrALocGZ6MruD2dhFtrUjAR9B2GPwg7ILR1W7L/PymbVWCmSeFjALjCzuM9qTj4LDbca1ieJdtgv8a2VT0H3ZYgwcSUSXMwWCOljCVQe4/ACopMgwPJ5ovDLTGUAWbRmPuQ/pNx3bdcYGZBSmi8weiExiMcI0PfdTjOVyUqsvJGiRna6N5+NL2sB4gXmU113qf1tS5K9o1lofjxrIqm0akGH7RlGGbBknl9rUq0CXpuJu1gBRcg8inglQFrmebnLkn8HY4AAACEQZ/XRRUsK/8BY+T5dwjXhZVkTh6l0XNarWEp4INtK0agzwRqktZAXvNNC/2zwyrCANHVm74PgBdzV3wI+Rqw1/CKzZCZ4KwCFQiVtddGHRnT2dKa7nMP3zoKMY0KdW54w2cqxGhTCB+SBmj3Ib9AmIA3Zid99crDC3D+nvyyVeZkAAMDAAAAcwGf9nRCfwHC2vAkGZI+TulT3iljo/q6BevmfDGOQvAUbYOvshPUr/PM/5oJAFAl7POtbSJDGJWdfMILyqFQLVYmscdljddKGyz2bXkjGQa/FCg/RfBes2D/Ea1fh+nkj7B2Ef4ELvn+E1VAmFK6ev4AYEEAAABiAZ/4akJ/AcN5o+gMys6amZeKhetjcUqgnrYYccNu+wBedY4clHStaOLGIIH/LbIH2IL20iPBuZ9AP8xACzU8XME+cjZgdaQ0vhJJkpSRcKri6uoPsqE3JYAIGSs3csgATcAAAAEJQZv9SahBbJlMCG///qeEAAADACSxRqKOU9enLpNgA5s/3aDHu6zAGYNBLzW9VgoSZdbTDhP7pg5nV8C44ZclfWxWh8zqM7YGaokkcPG/XHG/geXVsMsiQV085L2BGsdoy23rsESplaRvJbix8k2HxOmROt2TLLE2oTjQsc/6Uxl0c0L/LmG9G3FI6AfpURzIzrxw0zyin0VBA4dr9YAgd6Uoo/J2jf/m/64kgnRv3YYDOtW8q4Ojt6wbKgCgT/gWxQEHCMtTRVNjTwEcezHpMGeHLBCgkz2Dmd3+ThSalgSagQv0Lch3QJHWQIFUYG2J1oVgeBEL8jSvXp++G+liyMJA/20jnpf7iwAAAI5BnhtFFSwr/wFj5Pl3CNeFlWROHqXRc1qtYSngg20rRqDPBGqS1kBe800L/a3rEdU77KU4hiR4nxVV8UPaDDACNSZYHWz57IDQnldj7J3yiHOVu400HzbDMbhfD6nciWi/GbkLxXGK5pPWUjx3XNOUi337S1XLyRxRM+4mPgiXBFJehdVX8V3heaavAEnAAAAAbwGeOnRCfwHC2vAkGZI+TulT3iljo/q6BevmfDGOQvAUbYLeH5gw026971NFhMzgCOu/5/Ume5WNnKGwIhmSk6lPdc4BxlJkyAuIf8unvRxMmJverEiAuTDLmBVeeFUmN/qdOdgQUxcJCi+REAA6YQAAAGQBnjxqQn8Bw3mj6AzKzpqZl4qF62NxSqCethhxw277AF51izlXMsarwA3NHDwPsdJdjAH51ECTSpYAEZRyIAFHA5N4cGBX9y4heFtaTWQuwWCR5QBq5a8XHm7J3mhjOuZQQAcdAAAA6kGaIUmoQWyZTAhv//6nhAAAAwAQ0vziAFYufPyZVCwdlYjwIX/ab0lV758TyinM1ScYZYQkDlbwUPK6/+EAoUpVbOu6q7P3yedSjwfYAQBZY67js1z3pSa2M5uyc3K4pT0nYkyJaBs5bG28tOvQJn0S0JyLl5UhcUzcXtlq1al0/BCLIxVioOMWwwl/iitx54PrT23JJ1tIPN09bTyAgCCchPZMgjUurarefeQLLXqdr3fpOfFygE4wyvAhzyIXERhKXria76XeNNr9bjjqdgsAN9XaXx45LDmzG9xAM7rG7zrLDJ95yUXdpAAAAL5Bnl9FFSwr/wFj5Pl3CNeFlWROHqXRc1qtYSngg20rRqDPBGqS1kBe800MAteuhHkqsnLMj0dRNAERIrEZuyHIgfOEywv3bGVnhpolZ5FKCdva1B9YR3kr2UTDrL9eM2u6z0/jRopG8L/HuZNLKZMgtTk+Kis8vnfwaHz7XaOK4azG/Plpp5uuj1c30xncILGq4ZkKmFv6NQGHUkWF8qOHj5qUFYE7YL//fghNKVgmpsMAU786BbwgBqXIAN6AAAAAlQGefnRCfwHC2vAkGZI+TulT3iljo/q6BevmfDGOQvAUbYLu9yJRkZsc3ElNU4AcYm/Vjog/vEdHQ9Hc3haM+xfTmJpAS88YbNymvhljP8b8DyqLVNHHyy8wg8Yr9X1v3GhoxsIoxa/T0Z+KVdwEhnw9foS8+q8SeVVPkyEOS8aidSKnxPhh8CzZx2aoBynoLEXvADbhAAAAkQGeYGpCfwHDeaPoDMrOmpmXioXrY3FKoJ62GHHDbvsAXnWLaxTVssGAFLHvA/PNyZk/TokfEDZbe+uqpPPcAJKsFqF+kj0OEhLK4xxX3Pj3nPJ2biByKxnZMbk9UJlsQ5ejtR/D4QETQIiuCo6a8flDH9eGB6qXcA2TLErBxScKXrGTHN+8CjifgiNqG6gAl4AAAADpQZplSahBbJlMCG///qeEAAADACbdN7UWPZP0OfvgAkicUdin8d1z3N9f9kNw9ZUvE1O9KnbUbN8kdtZBivsz9iACC/wN+U/Njg1ZCSiv0Nq7nDmpCX+0MrOOp//LiCYxafU+WCnKdPaV2n2gKj4ynkc1YxkA8PahOY44nsc2nX8MGLjiYwn+3Yw9l7G/azhCBF9WaToh3x96/dfS9sPfayXRXB6XHGjszbnqH9zNeuS24zx6ZrWbVpYHJty/27YjvXg0O8uJGHvo+03gWG1+iyFKCU3aknQvI++FglcJKtv93WGuc3tvSd0AAACnQZ6DRRUsK/8BY+T5dwjXhZVkTh6l0XNarWEp4INtK0agzwRqktZAXvNNDAKV/X01UewANpoOjswiTwP545X8TX1Lq4JmPGpuysv7oTOL1TfU4Q/gXjSkaPyzs81onOVg+fSgSuSIEN+aAzczTRL/KPnlD9fRUH+mQyaf50n+8zM7laiLwkWffnHIi/fLx3uOo4M5aQIacARhWsKeMwVn3yiKSNJgakAAAAB2AZ6idEJ/AcLa8CQZkj5O6VPeKWOj+roF6+Z8MY5C8BRtgqVolnM1dkuLS9AAbI8RrWJoIACwBrivDqeFH7nlEsa0pGL/SSDpmUTccTvTce5WT+a6A4A0cJxCHMUSe6SIufaXbrWZgqlMEWWDoPePQMSl1wQGfQAAAG4BnqRqQn8Bw3mj6AzKzpqZl4qF62NxSqCethhxw277AF51img+IzYOUrIAoJ+8THMMlpEJnOgKEn8KTDHejIp4lXwUBZUI7qarww+Kqs+oWqR9srPXYXn5yCsqVLrYLV23Wx3XQDCh3Mk32IOQsQAAANBBmqlJqEFsmUwIb//+p4QAAAMAD++ypgry9+6wAuM8dzalpUDe+ldfl/c6eI40420xHe/KUHCKI6Pk8UQirafjO+n7W2B+Y+8rN2YAn0IKqAzuvuCT9pbCrxPNJc4k1jQilSjvI5fEZ4lQ7/Z2tbLluxbvxRDxkSp7zQ+BD6Xjl+3et56B+3OFa15cWKyl9/bTJhV6VTHv3olXsEuOh9mREum64w56Jk+RL34XnztIGt3qx9xhTMimuUUIHNoVRbfeuXL+czJvNO/xWOuwIhrvAAAAgUGex0UVLCv/AWPk+XcI14WVZE4epdFzWq1hKeCDbStGoM8EapLWQF7zTQvcNwUJi2bfAPjNTmAKJArwUMtWR0ACxbVCfm9GpKuW0wJIhkqAlh7hhNqiekgrRoeRm+Ho4mlmDwTBMQhgQzlMXZi7ovVrqREmDVg53cVN+Mwz8kCXgQAAAEkBnuZ0Qn8BwtrwJBmSPk7pU94pY6P6ugXr5nwxjkLwFG2Cmq4lu14KIf9Ig2QjLW1m6XRweMdL/r4ALqpF8s9dg5eI/YrUAMCAAAAAVwGe6GpCfwHDeaPoDMrOmpmXioXrY3FKoJ62GHHDbvsAXnWKOmPuxLBfwRSG2T2cM4AS1Z5+I6JqPJMYBI3p3XNf8TF4c+HAZN5cTHACzqblO6lSrQAY8AAAAQVBmu1JqEFsmUwIb//+p4QAAAMADnhj7OoAPPt/21q7NWZAJ06RDiSBSNLHDXiL8S4uYNkRKBsInUYe+gkimhDrN0IfYL3yEVlJvBQ1bvSBnqq+C7tpJVX/DcQB2+8/srfGyC+u5wBjLsbxeJCh01RXPHd+wWhmumyuw8O2YCesVPpty6+A5OubfSUVnrXo53VBOsN3O6GNMooXhDCvQdbroXANCYvpABhVqMMPALYe6UVwAnKm+4khby79AMY5c+3qoe+hNPW/gjtOSrsat9mRQFScza8uHE/rj+Fj0WMe8sDw7O91Tk6rotY71tjME6OYOivQ4dPoh9w5O4so5W7g8JtdrRcAAACxQZ8LRRUsK/8BY+T5dwjXhZVkTh6l0XNarWEp4INtK0agzwRqktZAXvNNC9I8kmVobBACaQbLIPxBwVUhIIeHXoeRaibPQmsly41nPWIb+IJMKnhoYcUipldlPemDxoCbOUvHiQVsmK/8HxO0PBCVP+u0nS01lkoBTwo7KPwa9NKjh/aBJPrFXiB8EZtpa9BqxKOGDs+xDzVqJmdq8LS1Oi3v/ifo8mpbSF3XRPE/AB1QAAAAawGfKnRCfwHC2vAkGZI+TulT3iljo/q6BevmfDGOQvAUbYKariSu9WR87k+F/v8IADUjtucd/+5W8yqGxA3nxXkgWYgpCyDAGU99qL3RmmSIjVz6Qfiy1PdEUyY195adoHhh7RX58hkYAMCAAAAAewGfLGpCfwHDeaPoDMrOmpmXioXrY3FKoJ62GHHDbvsAXnWKOmPtejsLv0mACw+HOgg01ed9OvLushZIk297L3ju6HBEzacEPED6fKlaLgqhsY3Th4ZFRYjzVQnqSNlWTG8JowcpDGj0sMehaNyCToEzKZ4th9FddoAooQAAAPVBmzFJqEFsmUwIb//+p4QAAAMADnrvM2M3wAOzE4pf3544X8n0u4wvjFJwdkF5s2R3lgMK6KTKAD/mcMaw3EUJZfTkIBp2KJ1Q9RF6YECN6NU+mrdet3nMZb8QJHlw2Fu2NcsPYvCJCh6NXd+y4hF75aWU2VpQRl/pu4TzMkRchfndA8RK6kpUrKUG7r4CybNME0DLOwuId55Ex77Ay2+IzrKh9acnrc/CGTq0RIJD70VLeCbW/Tn+vpr6WzsBN9Y8674MwBb0WBJFoXSiBkILpM399b449aUhgc5pO88F0wTtFxyeFcc4TuRcIPPMRXJB+Dw5VQAAAJFBn09FFSwr/wFj5Pl3CNeFlWROHqXRc1qtYSngg20rRqDPBGqS1kBe800L0jySjsb9qG2AsV3aAEH1g0fAACPCzE8BtxwsW/scyCu/ur9C0yx2LaDRU2XakEXN4diozltY0iA1UHYP93JuA8oKUlXvSFtag3t6DF63vFlwFVzEPMOAnUIbYiH/3xX1j2AwABnxAAAAogGfbnRCfwHC2vAkGZI+TulT3iljo/q6BevmfDGOQvAUbYKariTF/UrfPAATi91ZqcUGsKWzZmY58948TlyyoYQLFxOIdMHb4gHLBSChSBtZaRtR2fROfSBrBa0y+QmAoVU00tGfOSMLFPD37VgsPFgYt7U50aO7HAp9jOvlFbtPEQhRBxvtGlgjcCH3ZBU8P8cejCdLZ3Im3MsWDk1PuEkBnwAAAKEBn3BqQn8Bw3mj6AzKzpqZl4qF62NxSqCethhxw277AF51ijpj762wsxysAJTnmcR+gkAbpXB+wmnxYrQl0A5sLHgyPj+vBDPAk4cwNRWuzvX06r6/DDpR0aW50btG7aSOjlx2XFCBFcSsWUX8AkmcFrV9K0HuIC1FX0iryqlV3xoqxuAjaRRrbHAN4Ga2CHpHqI4TUkuhXY65D8baSkAtoAAAAShBm3VJqEFsmUwIb//+p4QAAAMAKfvh0AEYnqfj8/9A6Hc/SQoJhVmlV6IAg7vTegG3LrEv/NlifZs2iqCJBphY1pPokwGsITKN77rFBvWS9NpAy1mXkxk/OC3+8Q43/ngu+6CJ7QBs5+AjenGSP6S+3WpZOhtt1YytIhlP94Ji+WL4l3/JyHhzpntiYtPWPUjfzq7J3JpmtAWh23eR51aZTJHsKXKv2tKbRXWdvbHbLU9sTME4JHN+0HCI3XOVZ9+F0eJPNu6BgNV/qX7sJnd3hCxsaEU9rQKtVovtSLSngLKpZAPwAoexMpkNqh0xv1tIvK7FpNluFBedCq27HJwIt0dOWv4YDQBqQTVeYLTEfSX4NGlurIjrJy434DFHXH8WK9LN6pwJDQAAAM5Bn5NFFSwr/wFj5Pl3CNeFlWROHqXRc1qtYSngg20rRqDPBGqS1kBe800MMPawE5mrY+XEBiQ/hqwANuy8EGQ24DO0s2YLltSuYgN+Wh3Cn6Gq1vSSOCI+gE2JHnnIfKVtJosas2IQKM7rggJ4HdzvmWMxEmX3FKaf6d0ZWr2qxsuXjBhE3yW4SyO86H9OA6fEG6Mo8X99D7nV6IroC/KCrqj6yKbL4iFkC6OiZx+cq/KIdO5kVyB4/7J7pnMupGxLWOfWJboSwopuqWhqQAAAAK4Bn7J0Qn8BwtrwJBmSPk7pU94pY6P6ugXr5nwxjkLwFG2C9mkWlBrBwnObLP+QpgBtqp4kTxsH4p3haQKP5IFX32ehjyaagVX8ZIFXVlgWtjp2/2g7T/SsqGU0Ts8//wC189Bbd9IxvEOOl1AsxlWNqh78Md9Sp+d/T/pL6Lie1vW2amovyBexde/X9eivFtLmTw2h9aD4XwzfZsrrzBhouV+GkMqKhxw5ijmAAbcAAAC4AZ+0akJ/AcN5o+gMys6amZeKhetjcUqgnrYYccNu+wBedYuBi2VTqgDnACNF5KzjKESJiY5UBs30bRcraX+7mpImfpiTudSPUPzB59GTl0JkhU1p+alqRuExIBPRM9eOjzh0rlHhxUQ/u25x36/SJFKqObR73zHeg8avUx15cx1wLXKlZflhM/nf5ibV+DoQ8WlZsNrpwyTNybglyg2VuDoz5PXNpAGB+tmmyqN0+uu/rV47GTAW0QAAAR9Bm7lJqEFsmUwIb//+p4QAAAMAKj7wn5J/Pnn5/IAJyQ7VX8NMPZqXtz2VczokkDiWkgF48/AoZIxihlKuzRrv73fCUZGQTEucFMsqF1nqBvdX/EKAArvGDdB+wWwySc0Sa93+nWM1tcrI085x1WHhDFjGPJ88bKkww2ZxW8xsYjbUeMsjMTlrEwO4lsJZsSqWZuf2RXFDWlRRZFmDPaC4I1tXv+K0mxd2ERLq2bnr4sRvaT/VAQaYh5j+4+aHBNtPXiGLxagsgYUdceUvqg0j9lovQfrHwwxUT6T+jgJKfo7kVsmlZTYKFQOBtkbEeGNkdoQAt+5ZVWDuSvkAhv25nbevcSz8/A4oi5qJXvP0mg5j0cSX+Fovlzva5+EekAAAANtBn9dFFSwr/wFj5Pl3CNeFlWROHqXRc1qtYSngg20rRqDPBGqS1kBe800MOttMxobtbdADgfC7J5D8/e8pkKxDLKAjgQUsgBghUuK9eOuOhYJXzE91aLIvt1c9nblbmGkXut+6jI7J6h+pLZK20M28ElcSpIM/hnCU4vmmbVkZyZbQP5SPjOY9NE2bEhfB7RdAruS6mXh8Pw1VVAf5kqEWzBSDhyhoDZgkLedGhe+joLbbRhhF4y1w0wxPLQrcUIpxN8IV3gZeT8UfOLB2/t+6OBTna9CSfANgr4EAAAC3AZ/2dEJ/AcLa8CQZkj5O6VPeKWOj+roF6+Z8MY5C8BRtg57C7giVK/AJr5A9dXcV7ub8JReis1RU3n0O6llN5/rKb01Zv3vI0zCmzAdSC284bbQu9tGl6ye5JAWKJa0HxXMx2gNlePTAxEy3lMteLxmY1hfaNOqWq0udzEjNa7yPWOXXFIKy/j+giSLgJbtdyMOilXigHu9ykMLGsXm0f/O2EkZK1uFNCMMKkZrfCOheyQQEAAbVAAAApAGf+GpCfwHDeaPoDMrOmpmXioXrY3FKoJ62GHHDbvsAXnWKOmPxTUtuEAKhSSs4yTjVv0bQ7Ctj0NcYCOUlPz50rqK+BLsUVw2m0ZlLOTfntLfSbIdkZrB5iXnz7GKv7nYDcBP4AttopawjU7o5h3S6COgdIG/MyKWBsC2gpBcpD7z8diUjbgs0DZoT1VJYdqq1L3OgPdIuIcOppbPyIMlQtQIOAAAI/WWIggAEP/73gb8yy2Q/qslx+ed9LKzPPOQ8cl2JrrjQAAADAAADAAFHh7Xrjd2DW0nQAAAawAOkH8F5GDHQI+PkcI6BwESLwC/H5//YLCp+gBpBB3PUDZiaw5Mi0+sJVv1WXSiJ1o8RVzmyiYuS1AIS4bX2C+HvF/ZczhSwk1EVXnWBjLW/rxEWzshPloUkUqwqbDrUfvmIgHbRiDYI7fpsbCVMXTGxV76BO5y7C7iu30YxBJtw8F4h+f1nnuGatSi+SK9Ad7ccGspcmZrxyTzZjhfkKtx81VHgXa0ruLtfP/bkJYh+DjaV69F4XLWpbXRABsO54enqG7gf08fDRkR+8e6NYVXPhR8UKtYuNJOCP7rC8hDRvF3HMe5AnJafi2T0i+n9X5AtuQ1EJIHSb/lcugv/viEXp0C9WPfEIffUctpaW6eI6aPPYb7HnyX5rY+akIikJm77kQ/nNKmPrIg1/7gKI6UL7WqP01dfdasJizaxs/JpLmlAZUX6WMRKi1iP6z0FznwUH+WOsERli2Ns2VDewiOgJguoKmkbU48ZfrvNdQHPaomQf8hmCQPFMTdDkdm7+yK3MSsm9ZvOjCOreStCZYzLmWUpJ9ENp4EuA1/48MhahAInDnyStJfqDBFmrrDr5L5pWJtFnhQYHMjUzjj4OBXmnUvv71InBw7k/bvPmJos4cUp2uwEp7LXLlMF3XKboYDTVlop3kyZZsEH3tPp+V6wpIwJiHZ0SYlwpqb8PXI9Df9PBFllU9n+wU6FYJzpeZsuhmR0Q/mnG8xf/D67NYDtaSK90+0b49rW9mNdbvKuBCexzf0gPNeataz/wIw3ilCGS+lTsJzfNOA9N7osAqZxl5PAlWNxgrs2X4AaySFfOxelzISqb2wOdCDUcd1oeWePN6DkBAnU2zp2CiH1oHKuQYYBBUp0GXUGmLpJnGnUaMj8SsJbr+ryQRP6zw5kMgJFTDirjLYNaXmMHBSUnfO+U2ms8iZt/kJOUCI+E0vLTydk7xOmv6OqLjIGJcXBXhJcfC76iWxgvNeki72azxjs7JAV05zVX0LLGAfLFJU853l+m6PnwsYc2vp86j3aP/yGlvtjzeGHPUN+lLlHxzgo1VQPeJdtYGfk8YU33mLHMu2X8M6/LnugiekB/KlSIySWFuUYsgx9KZayEDZgKZc+Ui2EnkmEqxv/5u3Q/VgIE0IX21Pdr/9YVulIE9Q6+9GCqd8IMPKfEEP85krVmtztv6o8U2bw25xBpOONmWCNLG4cQV8u60rs4iao9DISxkYU4fNdb7NAD1qHiDgYCkzwwjXXz4sYPRJ/NiN8oYeHm7fro6qn2UQHVLypOKS3h9aL0eVKnuLftfsBP4y3vxjilkM1SxlLzgC+krE1F0r6SmV5pddQCmXJa5BXHwp/sHj0A6HY+EEtZx7lBYyPrdHcyRyZjfuPACUNtnfN1CmHt9USO9CWHC07sJqt/dp4voxOrBbf6/TfozXkmQybYVjlsmxpjNrWIXFR37I4Wk9gfhVVBWw3tpDOlX1l5rQ+fmA6KAUKkxH6sx4Jym5z8ecR6FIGP3yhFmH6QAKNpH4ckNU8HOSa9fwsmRwOK6Dq1WWD1AZTHId3j6XwW5LbV7HDnn3ZpgPS1YMRL6iqeIfrqUVsZSBk3YWkTSLkFny7Jjx0cVbmW7txwprB5q2iVx+wXqsVCTVix5HZTo2ltfSvmN9HVHEqhvGyYSNSY6hnaTMdkMTkZzYMMz1lDVe18dNSBV5qhO1XcLAI+dE835EJO6mQ7+5DIwhl/Vks+AFTV86g1wmT3f+mhqwcPzrT7G3+juu5UfRc5Pk4sGF+UVaZjhO8+1HWpceJW+fQdXb59OCP7xoa/oAKPyDZIisVnJnmPLu6Xv1tflIamtIxgNIuyd+B//wiHQiZ5kX2XPe4K+F6uzIEcbt6ghQD63uqkRfK6tGcE2hxYhphennTc3yNOz/bQ7CEyKbvW+hJxs8RbQpGSSNR34IpbrnDsFs1KbvwhWqyaqjzg2L/8fNbEBJ2Ak4XEV2/h0bfZDW8y4hHd2OoQ8qBSOnkubzKYEuRQhdXRQXUm4a+1qNEt1acedta9RbSNz0MffCJFQ/9BKeXj1Fo4I2NvOGnXpBUubrwdqtJow5SM0nsD90pxCvVvviD7ShT2/cRP49kOZ8rS9LMtLvhmmWky4EEuHRqI7732PZr27U8WqSzxV0OBcfJV0TokRKb7SiiKjEdCa1Ti+d+aj8EXvWJJ84PKV9kcWOXSpgo6rRT7iPYa12kAcRLcrMRyaEY6FsOUDEUEYYNTw3HtDYgo17g+ICr1wMjF3Nzu3TNUQol4Z8usdf59/G5v2AIEI385EH2/lj3Lz8RDvEYpvXpiG2f0KgMubBpfsbUpbZBoYiZ7BVwF9dMkAeo7V/1SRELW+/M/j/s1fn5j9o56psDV8l9VKduskvqI6VxSBdWDFSdhzwdfC6qzTaNmfuOuINegeJ4Ev+AO4QhH/0ZPzXn+2cvSJn5xAka4iv73XW23A3dxH8WoAzJL4rUIPvSfjuKWconpwkTydD1peX8hyokINQCSNBV5SJYyHkLEINg4dy5N7LWgiRjs0fnj/5jJ8vEULCQUF4JEOH+iP4UfL5vmDuvpd9HG8n2ueKzaxrL6m4AdHYXuwlio2a2TeyiHIkkFPPI8AluP/Z0FubMhrBtEDuENSz1VNQ6C/i6pHq9Zcj9TGeqlA51yrRyXktOiREeqrMyWGCl2UCVGbcFTmjRf+U+AUq/czORgZGFi4lPB29AiX2o2TCWsbxDHoIm7umVMOBGW8plp7p+ei470QBqEHdqf1+iH2ft4EJ7p3GX07BfG3Ven/97e74MeDRCZ4lwQRyxJ+VQgRZGlsT+Tb56SivPJvJFXzF+X7974mVv3mSmBU0YpTAAD0sxroHznxCe7r1boM1Yalgst/j21F/zp0/70Qj8ocPWakZg5FqKwwduLn6QJzHn9edpdh9zoGcnDD9Z2p9lO3ZzXfQsAHZ9lOJinLWxQln/6rzSsNHiBGAEwYHMV0p3AwaMAADvIAkWA5wENQAAATlBmiNsQ3/+p4QAAAMAD++ypvMH5wffIAJx2M9WSneEj4evDQcE5rVIithgZiIqlYcsw3rFECDMr3mE36K7rB1pR7LxR14AtS3tZsR/SIQLDhBNgijnu3tZFqHRF3ZJFxz+HHdt3EsRAAVNIPhTpEqWYciqGu6yDXkaRzYV7sY+uwcHq13nd2HIpkIZKKdW07yWf6dhZkQZyrzsfnZHNv5QHEIDD1C5vJoqU97iOdlcVdsBDix6X5WIEAvn+i8/Wr9+wb/nUreQSv9H5M8emf0n38ksq1T5/zgk4KWnuAPE7RxW5AoHI3u0G6fY64o/K59PHN+eYGkJKgKM0eLfdcTV/M9i7Pti/zsbosXQ+58dYpO59gcev4wfdyUbhmLQecmHC7NU1Ctdj+XWdE0c3zyT2Z2zsiO28FJAAAAAhUGeQXiFfwAAAwANMRbB463AKijqkgBLHWVoSDPZ+69+FUPBA6gCdTFiVxkMoDZJVO8KCEx9/CNqx6hLa/UVFQ4PD1t2u4qkVGJhBUFEr1mWAcFPRDMHClyFPrvRd43xtKV0xheN8GWl5KySA5R9PeYhtwHT1vO3HqRIIQ9S+tHM8fxYDpkAAABqAZ5iakJ/AAADACWxUz2WwbIAOCkh+RSljTmUL8meParCt0ZDUgfNKySqNVGMmCbyFk8P7i/oh0X858I8tWFfkvoWXDyTOHRCoJRJgJABCQXA7tFH45Cv7Z/H/CQVJe+t8oqObHwLfnQJuQAAATpBmmdJqEFomUwIZ//+nhAAAAMAPlrnJxyJmegBLViJouO3Hfa+4rvJToI5RvSviRsdsytXq1TqBFI7j8mrZ1gVmIA7C1Sc0NMV4DYrIrdBwMlxAtvA1najzzrBFWzDKIeyNGWVOreuvdVWXHO5JzWEXZX3hQI2kkfyOT0rLXes2ZazYFCCiFJCO/oYHEIFDgB8FxE++xNklpPvhnzJhlsGqGtvnXQFVvgZBTBdbuqTR9bymMH7bJowmatmOnm7+5rGurXZzcqrtAfhIPhAXKJhYjQN7NHvyknHUWu3PSt8958yjjeN2OahsPIyjmictoDvkrr/WKnAeg598kBTuHV5+qbpnCsy9YjJUb2L6FZ6nf3iF93sRcZUO8bkpN85/8LMX24+lLfgZeBDaIKToWqud9C9niNlmvc3bAAAAN1BnoVFESwr/wAAAwANNIRZRNoAuNRJ12hD3KWyUiZbfOhC6JavfRsJRnMbdXxHt5SF8kf9MP77M1RYEHsJrtpF8bwhotxe5sNNu3V0O01dVjDKhcEu7TTarq2gm+xYbUpPMlwVcz91AeJJlFQOekz7uvdAi86km0EzUIwHQcgaN1SR9Ka8kgPcObeFo3ywj6rsZQaWOE8wuYtCHc/yCv9hmkUAt9CEhTtmSPzL+Ae2ZQdsgJaeAl5qXQc+xsLWgV6FAlD43Mk4SmxxOGUOALSrOmH0/HrN2OPEJnYJeAAAAJoBnqR0Qn8AAAMAEN8fIQPvbuAENEAA+XLjJ8P+WCvqk+l6wAZmf3B6gXfOo3XJzQTwyfJ3KCri3GodiiwmgdYo6s/EiCuj4KGDBkTTVaQTf+4H+QXTCerGXqSQIAvEPU4Ss1QUdHTKviFqJa2FsRCa0L9ZlSr0fsl4QNAJjeQG3uCX/FI0h958fryfP0iEt1/CuUXjfsWergm5AAAAkgGepmpCfwAAAwARaF4ALx6c89ND27uXtCZBb9Ei4f+O13GydNnyq+EGCWZpWYDqYaPBVd0Y9dzDfXucTKwNNgV909mkhSCDlF0c2ZzhU7WrBtV//R/QtSLsX915l10MHbjLv15QH66khtMsEp7U8pTCb0B4zqmIW7xDQPlUdv6AEWuaySUSWAkeIxeJUS/fSH+AAAAA20Gaq0moQWyZTAhX//44QAAAAwDyQuRsupZu6XmjgSXACEecDeK6R/tnl5Vlm/a5bdLIBCyElUdBCbDa/4wnrtSfFCsS2ms1K/hp5WFtyHkqcidWLyHyaRazf3tThAVJ8i7T6n/c2+yU1Kp1caNFqcdaMqheSVXHakZJ4LybcE+ZMLw8n8nshDEWSXeGf+gmIrehAzFYHCXWIxyFZZZR1BZVlhZAr4Qnw1md1O7p4PxTXwuzRfii7PH4/lHXIsa1xexUrFI0nMm9tStgXDKmS/+7XYH0b8LfT3vb4QAAAK5BnslFFSwr/wAAAwANNJOpfAzMtwBGq11LegdSQgz+mh6ClZatbGqCyPGHwMyqpG4hajupO51vaE/+GFT0Fed2uhOdHu0po5urluk5dFKeqMBeW+6rj6bVTIW4abhmNMaNThW7BQkr/T2TvVifkMWOqN79KWOPGbNZfh14X5GnbqYAQqef4IuohgKeKVpZB+3of25trF1tUYCIoVIsP4yYPPUlpMAFe9oJ9U/A6YAAAACJAZ7odEJ/AAADABFsG0AOeEmZaZLcglJjuER6NncCwzl1YvcSQK6+vWiPJv4B12AN+S1BtIjh0r5No2K09Fjb/FNlyEu9mMCx85C5stRk8AyUH6j/1/muyFLao9p67/LdsaYQbYpmbyhSDk0o4+u4QesqMoS0ABKnIHtWiteR84onB7LYwVdIAZUAAABLAZ7qakJ/AAADABDdjjieYVIx6Szs03PsNZtDfCXcLxdiP7XFnGg4ZuARctsCrmsAITUVc2m71W6T3UIB71BO7d/lnoM+XLqUAHpBAAAAe0Ga7EmoQWyZTAhP//3xAAADAAJbjC1P6+pjSIKtAAbNakt/X7uqWVWXJaUw/wWrkH9+7ist4tPe4aiCUEcMI2j0aAi/u8VUm2bAFR89nPq4KSKxHNnmXDL7xvSipdxQSVHa9+i7iIw+6owlCqlrSp9eCyv/AIzKtMIS4wAAD1Jtb292AAAAbG12aGQAAAAAAAAAAAAAAAAAAAPoAAAiPwABAAABAAAAAAAAAAAAAAAAAQAAAAAAAAAAAAAAAAAAAAEAAAAAAAAAAAAAAAAAAEAAAAAAAAAAAAAAAAAAAAAAAAAAAAAAAAAAAAAAAAACAAAOfHRyYWsAAABcdGtoZAAAAAMAAAAAAAAAAAAAAAEAAAAAAAAiPwAAAAAAAAAAAAAAAAAAAAAAAQAAAAAAAAAAAAAAAAAAAAEAAAAAAAAAAAAAAAAAAEAAAAACYAAAAZAAAAAAACRlZHRzAAAAHGVsc3QAAAAAAAAAAQAAIj8AAAQAAAEAAAAADfRtZGlhAAAAIG1kaGQAAAAAAAAAAAAAAAAAADwAAAIOAFXEAAAAAAAtaGRscgAAAAAAAAAAdmlkZQAAAAAAAAAAAAAAAFZpZGVvSGFuZGxlcgAAAA2fbWluZgAAABR2bWhkAAAAAQAAAAAAAAAAAAAAJGRpbmYAAAAcZHJlZgAAAAAAAAABAAAADHVybCAAAAABAAANX3N0YmwAAACXc3RzZAAAAAAAAAABAAAAh2F2YzEAAAAAAAAAAQAAAAAAAAAAAAAAAAAAAAACYAGQAEgAAABIAAAAAAAAAAEAAAAAAAAAAAAAAAAAAAAAAAAAAAAAAAAAAAAAAAAAAAAY//8AAAAxYXZjQwFkAB7/4QAYZ2QAHqzZQJgzoQAAAwABAAADADwPFi2WAQAGaOvjyyLAAAAAGHN0dHMAAAAAAAAAAQAAAQcAAAIAAAAAGHN0c3MAAAAAAAAAAgAAAAEAAAD7AAAIMGN0dHMAAAAAAAABBAAAAAEAAAQAAAAAAQAACgAAAAABAAAEAAAAAAEAAAAAAAAAAQAAAgAAAAABAAAKAAAAAAEAAAQAAAAAAQAAAAAAAAABAAACAAAAAAEAAAoAAAAAAQAABAAAAAABAAAAAAAAAAEAAAIAAAAAAQAACgAAAAABAAAEAAAAAAEAAAAAAAAAAQAAAgAAAAABAAAKAAAAAAEAAAQAAAAAAQAAAAAAAAABAAACAAAAAAEAAAYAAAAAAQAAAgAAAAABAAAGAAAAAAEAAAIAAAAAAQAACgAAAAABAAAEAAAAAAEAAAAAAAAAAQAAAgAAAAABAAAEAAAAAAEAAAgAAAAAAgAAAgAAAAABAAAIAAAAAAIAAAIAAAAAAQAACgAAAAABAAAEAAAAAAEAAAAAAAAAAQAAAgAAAAABAAAKAAAAAAEAAAQAAAAAAQAAAAAAAAABAAACAAAAAAEAAAoAAAAAAQAABAAAAAABAAAAAAAAAAEAAAIAAAAAAQAACgAAAAABAAAEAAAAAAEAAAAAAAAAAQAAAgAAAAABAAAKAAAAAAEAAAQAAAAAAQAAAAAAAAABAAACAAAAAAEAAAoAAAAAAQAABAAAAAABAAAAAAAAAAEAAAIAAAAAAQAABgAAAAABAAACAAAAAAEAAAoAAAAAAQAABAAAAAABAAAAAAAAAAEAAAIAAAAAAQAACgAAAAABAAAEAAAAAAEAAAAAAAAAAQAAAgAAAAABAAAKAAAAAAEAAAQAAAAAAQAAAAAAAAABAAACAAAAAAEAAAoAAAAAAQAABAAAAAABAAAAAAAAAAEAAAIAAAAAAQAACgAAAAABAAAEAAAAAAEAAAAAAAAAAQAAAgAAAAABAAAKAAAAAAEAAAQAAAAAAQAAAAAAAAABAAACAAAAAAEAAAoAAAAAAQAABAAAAAABAAAAAAAAAAEAAAIAAAAAAQAACgAAAAABAAAEAAAAAAEAAAAAAAAAAQAAAgAAAAABAAAKAAAAAAEAAAQAAAAAAQAAAAAAAAABAAACAAAAAAEAAAoAAAAAAQAABAAAAAABAAAAAAAAAAEAAAIAAAAAAQAACgAAAAABAAAEAAAAAAEAAAAAAAAAAQAAAgAAAAABAAAKAAAAAAEAAAQAAAAAAQAAAAAAAAABAAACAAAAAAEAAAoAAAAAAQAABAAAAAABAAAAAAAAAAEAAAIAAAAAAQAACgAAAAABAAAEAAAAAAEAAAAAAAAAAQAAAgAAAAABAAAKAAAAAAEAAAQAAAAAAQAAAAAAAAABAAACAAAAAAEAAAoAAAAAAQAABAAAAAABAAAAAAAAAAEAAAIAAAAAAQAACgAAAAABAAAEAAAAAAEAAAAAAAAAAQAAAgAAAAABAAAKAAAAAAEAAAQAAAAAAQAAAAAAAAABAAACAAAAAAEAAAoAAAAAAQAABAAAAAABAAAAAAAAAAEAAAIAAAAAAQAACgAAAAABAAAEAAAAAAEAAAAAAAAAAQAAAgAAAAABAAAKAAAAAAEAAAQAAAAAAQAAAAAAAAABAAACAAAAAAEAAAoAAAAAAQAABAAAAAABAAAAAAAAAAEAAAIAAAAAAQAACgAAAAABAAAEAAAAAAEAAAAAAAAAAQAAAgAAAAABAAAKAAAAAAEAAAQAAAAAAQAAAAAAAAABAAACAAAAAAEAAAoAAAAAAQAABAAAAAABAAAAAAAAAAEAAAIAAAAAAQAACgAAAAABAAAEAAAAAAEAAAAAAAAAAQAAAgAAAAABAAAKAAAAAAEAAAQAAAAAAQAAAAAAAAABAAACAAAAAAEAAAoAAAAAAQAABAAAAAABAAAAAAAAAAEAAAIAAAAAAQAACgAAAAABAAAEAAAAAAEAAAAAAAAAAQAAAgAAAAABAAAKAAAAAAEAAAQAAAAAAQAAAAAAAAABAAACAAAAAAEAAAoAAAAAAQAABAAAAAABAAAAAAAAAAEAAAIAAAAAAQAACgAAAAABAAAEAAAAAAEAAAAAAAAAAQAAAgAAAAABAAAKAAAAAAEAAAQAAAAAAQAAAAAAAAABAAACAAAAAAEAAAoAAAAAAQAABAAAAAABAAAAAAAAAAEAAAIAAAAAAQAACgAAAAABAAAEAAAAAAEAAAAAAAAAAQAAAgAAAAABAAAKAAAAAAEAAAQAAAAAAQAAAAAAAAABAAACAAAAAAEAAAoAAAAAAQAABAAAAAABAAAAAAAAAAEAAAIAAAAAAQAACgAAAAABAAAEAAAAAAEAAAAAAAAAAQAAAgAAAAABAAAKAAAAAAEAAAQAAAAAAQAAAAAAAAABAAACAAAAAAEAAAoAAAAAAQAABAAAAAABAAAAAAAAAAEAAAIAAAAAAQAACgAAAAABAAAEAAAAAAEAAAAAAAAAAQAAAgAAAAABAAAKAAAAAAEAAAQAAAAAAQAAAAAAAAABAAACAAAAAAEAAAoAAAAAAQAABAAAAAABAAAAAAAAAAEAAAIAAAAAAQAACgAAAAABAAAEAAAAAAEAAAAAAAAAAQAAAgAAAAABAAAKAAAAAAEAAAQAAAAAAQAAAAAAAAABAAACAAAAAAEAAAoAAAAAAQAABAAAAAABAAAAAAAAAAEAAAIAAAAAAQAACgAAAAABAAAEAAAAAAEAAAAAAAAAAQAAAgAAAAABAAAEAAAAAAEAAAgAAAAAAgAAAgAAAAABAAAKAAAAAAEAAAQAAAAAAQAAAAAAAAABAAACAAAAAAEAAAoAAAAAAQAABAAAAAABAAAAAAAAAAEAAAIAAAAAAQAABAAAAAAcc3RzYwAAAAAAAAABAAAAAQAAAQcAAAABAAAEMHN0c3oAAAAAAAAAAAAAAQcAAAqCAAABHwAAAEwAAAAoAAAANQAAANYAAABbAAAAWAAAAEUAAAEDAAAAVwAAAC4AAAA4AAABMwAAAEoAAABBAAAASQAAAVEAAABvAAAAQwAAAKkAAAEPAAAAmwAAAQQAAADYAAAA8QAAAG8AAACVAAAATAAAALsAAADjAAAATgAAAE8AAAE5AAAAYgAAAHkAAAF0AAAAvgAAAKQAAADIAAABIQAAAMYAAAC9AAAA1gAAATwAAADZAAAAxgAAAOkAAAE9AAAA7wAAANYAAADGAAABMQAAANYAAADjAAAA8gAAAR4AAACmAAAAgwAAAH4AAAEAAAAAeAAAAQwAAADDAAAAkQAAAIkAAAETAAAAywAAAJgAAAC1AAABLwAAAP4AAACrAAAA2wAAATEAAADLAAAA2gAAAPIAAAE8AAAA6gAAAM8AAADqAAABLQAAAN8AAADDAAAA1wAAAUUAAADpAAAAtgAAAKkAAAFPAAAA8QAAANQAAADZAAABaQAAAOsAAADmAAAA5gAAATQAAADjAAAAowAAAJEAAAFnAAABDAAAAKIAAADCAAABXQAAAP8AAADKAAAA1AAAAR8AAADUAAAA3wAAAMoAAAEZAAAAwgAAANMAAADiAAABQwAAAQcAAADQAAAA6AAAAXgAAAEKAAAAnQAAANsAAAFfAAAA8gAAALoAAACgAAABFwAAANgAAAC+AAAA0AAAAUoAAADOAAAAxwAAAMMAAAFeAAAA5AAAAJYAAADAAAABIAAAANgAAAClAAAA1wAAAU8AAADvAAAA3AAAAMUAAAFsAAAA9wAAAKcAAADNAAABdwAAANgAAACuAAAAxAAAAU4AAAD4AAAAzQAAAL4AAAFZAAABDAAAAM0AAADeAAABJgAAAPIAAADNAAAAvAAAAWIAAADXAAAA9AAAANUAAAE6AAAAqwAAAJ4AAAC4AAABKgAAAOMAAAC6AAAAsQAAAV0AAADGAAAAuwAAAMQAAAFSAAAAwgAAAK8AAACrAAABHQAAANMAAADIAAAArgAAAScAAACcAAAAfgAAAIwAAAD+AAAAkAAAAGIAAABkAAABOgAAAJQAAABmAAAAXAAAAPUAAAB5AAAAbAAAAHcAAAEKAAAAxQAAAJQAAABtAAAA7QAAAIgAAAB3AAAAZgAAAQ0AAACSAAAAcwAAAGgAAADuAAAAwgAAAJkAAACVAAAA7QAAAKsAAAB6AAAAcgAAANQAAACFAAAATQAAAFsAAAEJAAAAtQAAAG8AAAB/AAAA+QAAAJUAAACmAAAApQAAASwAAADSAAAAsgAAALwAAAEjAAAA3wAAALsAAACoAAAJAQAAAT0AAACJAAAAbgAAAT4AAADhAAAAngAAAJYAAADfAAAAsgAAAI0AAABPAAAAfwAAABRzdGNvAAAAAAAAAAEAAAAwAAAAYnVkdGEAAABabWV0YQAAAAAAAAAhaGRscgAAAAAAAAAAbWRpcmFwcGwAAAAAAAAAAAAAAAAtaWxzdAAAACWpdG9vAAAAHWRhdGEAAAABAAAAAExhdmY1OC4yOS4xMDA=\" type=\"video/mp4\" />\n",
              "             </video>"
            ]
          },
          "metadata": {}
        }
      ],
      "source": [
        "import glob\n",
        "import io\n",
        "import base64\n",
        "import imageio\n",
        "from IPython.display import HTML, display\n",
        "from gym.wrappers.monitoring.video_recorder import VideoRecorder\n",
        "\n",
        "def show_video_of_model(agent, env_name):\n",
        "    env = gym.make(env_name, render_mode='rgb_array')\n",
        "    state, _ = env.reset()\n",
        "    done = False\n",
        "    frames = []\n",
        "    while not done:\n",
        "        frame = env.render()\n",
        "        frames.append(frame)\n",
        "        action = agent.act(state)\n",
        "        state, reward, done, _, _ = env.step(action.item())\n",
        "    env.close()\n",
        "    imageio.mimsave('video.mp4', frames, fps=30)\n",
        "\n",
        "show_video_of_model(agent, 'LunarLander-v2')\n",
        "\n",
        "def show_video():\n",
        "    mp4list = glob.glob('*.mp4')\n",
        "    if len(mp4list) > 0:\n",
        "        mp4 = mp4list[0]\n",
        "        video = io.open(mp4, 'r+b').read()\n",
        "        encoded = base64.b64encode(video)\n",
        "        display(HTML(data='''<video alt=\"test\" autoplay\n",
        "                loop controls style=\"height: 400px;\">\n",
        "                <source src=\"data:video/mp4;base64,{0}\" type=\"video/mp4\" />\n",
        "             </video>'''.format(encoded.decode('ascii'))))\n",
        "    else:\n",
        "        print(\"Could not find video\")\n",
        "\n",
        "show_video()"
      ]
    }
  ],
  "metadata": {
    "colab": {
      "provenance": [],
      "include_colab_link": true
    },
    "kernelspec": {
      "display_name": "Python 3",
      "name": "python3"
    },
    "language_info": {
      "name": "python"
    }
  },
  "nbformat": 4,
  "nbformat_minor": 0
}